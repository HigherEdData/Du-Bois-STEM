{
 "cells": [
  {
   "cell_type": "markdown",
   "id": "d290af85-8c50-4e85-bc55-a19a5b8fd389",
   "metadata": {},
   "source": [
    "# **Implement** a Du Bois Choropleth Map with **Python**:\n",
    "\n",
    "## Map of Black Population\n",
    "\n",
    "<div>\n",
    "<img src=\"https://github.com/ajstarks/dubois-data-portraits/blob/master/plate02/original-plate-02.jpg?raw=true\" width=\"700\" />\n",
    "</div>\n",
    "\n",
    "<b>Plate 02</b>"
   ]
  },
  {
   "cell_type": "markdown",
   "id": "a620e675",
   "metadata": {},
   "source": [
    "### This interactive exercise is inspired by the annual #DuBoisChallenge\n",
    "\n",
    "The #DuBoisChallenge is a call to scientists, students, and community members to recreate, adapt, and share on social media the data visualzations created by W.E.B. Du Bois and his collaborators in 1900. Before doing the interactive exercise, please read this article about the [Du Bois Challenge](https://nightingaledvs.com/the-dubois-challenge/) You can find the latest Du Bois visualizations by searching for the [#DuBoisChallenge2025](https://github.com/ajstarks/dubois-data-portraits/tree/master/challenge/2025) hash tag on social media (Twitter, Bluesky, Insta etc). And you can even use the hashtag to share your own recreations.\n",
    "\n",
    "### In this interactive excercise, you will:\n",
    "1. Learn how to create a variation of a **choropleth map**.\n",
    "2. Learn and modify code in the programming lanugage **Python**.\n",
    "3. Learn how to write spatial and statistical code to:\n",
    "    * create visualizations that consistently and accurately represent your data\n",
    "    * create a transparent record of exactly how you visualized something\n",
    "    * make it easy for you or others to recreate or modify your visualization\n",
    "4. Your instructor may also ask you answer questions and submit screenshots as you go in a parallel Catcourses (or other Canvas system) as you go.\n",
    "\n",
    "### You will learn how to use the *Python* programming language by creating a choropleth map:\n",
    "1. You will recreate Du Bois' visualization of Black population across US states. Du Bois created the visualization in 1900.\n",
    "2. You will reproduce Du Bois' visualization using data on Black population in the US today. Du Bois used cartography to the show geographical patterns of enslavement and emancipation for Black Americans.\n",
    "3. An important context of Du Bois's map is history of the African slave trade. The first visual in the 1900 exhibition is a map of world and lines showing the transatlantic slave trade. In the U.S. maps there is clustering of Black population to the southern states and the state of Georgia. Here is Du Bois plate 1 prefacing plate 2:\n",
    "\n",
    "<div>\n",
    "<img src=\"https://github.com/ajstarks/dubois-data-portraits/blob/master/plate01/original-plate-01.jpg?raw=true\" width=\"700\"/>\n",
    "</div>\n",
    "<b>Plate 01</b>"
   ]
  },
  {
   "cell_type": "markdown",
   "id": "b65dbfb1",
   "metadata": {},
   "source": [
    "### 1. How to use this interactive **Jupyter Notebook**\n",
    "\n",
    "If you know how to use Python on your own computer with another code runner you can copy, paste, and edit code there. If you have Jupyter Lab, you can also download this Notebook to use it on your own computer. You can download the Notebook or view a non-interactive version of this Notebook by clicking here.\n",
    "\n",
    "Grey cells in the *Notebook* like the one below are code cells where you will write and edit **Python** Code. To try it out:\n",
    "\n",
    "1. Click your cursor on the grey cell below. After you click on it, it will change to white to indicate you are editing it.\n",
    "2. After you click on the cell below and it turns white. Type ```2+2``` to use Python as a calculator.\n",
    "3. After typing ```2+2```, click the <span class=\"play-button\">&#9654;</span> play button at the top of this page."
   ]
  },
  {
   "cell_type": "code",
   "execution_count": null,
   "id": "d6e7e9b7-14e1-4908-b444-fe97acb998bb",
   "metadata": {
    "tags": []
   },
   "outputs": [],
   "source": []
  },
  {
   "cell_type": "markdown",
   "id": "12923d59",
   "metadata": {},
   "source": [
    "### 2. Keeping track of your work and using **Python** outside of this notebook.\n",
    "\n",
    "If you leave this Notebook idle or close/re-open it, your work will not be saved in the Notebook. But you can export an HTML file showing your work at any time. You can then open and browse the HTML file in any web browser.\n",
    "\n",
    "And after completing the Notebook exercises, you can export a final HTML file to submit for any course assignments using this Notebook.\n",
    "\n",
    "To export the *Notebook*, click the **File** dropdown above, select **Export File As** and then select **HTML** as shown here:\n",
    "\n",
    "<div>\n",
    "<img src=\"https://github.com/HigherEdData/Du-Bois-STEM/blob/main/readings-images/htmlexport.jpg?raw=true\" width=\"500\" />\n",
    "</div>"
   ]
  },
  {
   "cell_type": "markdown",
   "id": "6383cd2e",
   "metadata": {},
   "source": [
    "### 3. Getting hints and answers.\n",
    "\n",
    "Sometimes, the code cells will already have code in them that you will be asked to edit or run by clicking the play button. In the process, you can click on <span class=\"play-button\">&#9654;</span> dropdown buttons like the ones below to get hints and answers. For example:\n",
    "\n",
    "1. Click on the cell below with ```3+3=``` and click the play triangle above. You should get an error message highlighted in pink saying \"SyntaxError: cannot assign to expression\". To complete this activity, you'll want to get each code cell to run without a pink error message.\n",
    "2. Based on the ```2+2``` code you tried above, try to edit the 3+3= code to get it to report the sum of 3+3 without the error message. For a hint, click the first <span class=\"play-button\">&#9654;</span> button below."
   ]
  },
  {
   "cell_type": "markdown",
   "id": "bf7d2b53-b7fd-4247-9f79-4aed791430f3",
   "metadata": {},
   "source": [
    "<details> <summary>Click this triangle for a hint.</summary>\n",
    "\n",
    "Try deleting the ```=``` sign in the cell and click play again. If that doesn't work, click the next triangle below for the answer.\n",
    "\n",
    "</details>\n",
    "\n",
    "<details> <summary>Click this triangle for the answer.</summary>\n",
    "\n",
    "**Answer:** Delete all the text in the cell below and write or paste this answer in the cell: ```3+3``` before clicking play again.\n",
    "\n",
    "</details>"
   ]
  },
  {
   "cell_type": "code",
   "execution_count": 2,
   "id": "889f5916-a332-4fa6-a5b7-f2e38bd625c2",
   "metadata": {
    "tags": []
   },
   "outputs": [
    {
     "data": {
      "text/plain": [
       "6"
      ]
     },
     "execution_count": 2,
     "metadata": {},
     "output_type": "execute_result"
    }
   ],
   "source": [
    "print(3+3)"
   ]
  },
  {
   "cell_type": "markdown",
   "id": "9a84b767",
   "metadata": {},
   "source": [
    "### 4. Reading and writing comments that explain your code\n",
    "\n",
    "In code cells, we can write **comment** text that explains our code. We put a ```#```  before **comment** text to tell Python that the text is not code it should execute. Any text after a ```#``` on a given line will be treated as a **comment**. In Jupyter, comment text after a ```#``` will be displayed in a dark turquois color. To see how this works, try the following below:\n",
    "\n",
    "1. Try to run the code below. You should get an error message because the comment text \"This is code that adds 2+2\" is not Python code and doesn't have a #  sign in front of it.\n",
    "2. Add a #  sign before \"This is code that adds 2+2\". This should change the color of the text to turquois like the text after the 2+2 where there is already a #  sign.\n",
    "3. Click the <span class=\"play-button\">&#9654;</span> at the top of the notebook and the code should run and output **4** below."
   ]
  },
  {
   "cell_type": "markdown",
   "id": "7c1d22f4-0fd7-4f93-bc1b-644f4411ed4f",
   "metadata": {},
   "source": [
    "<details> <summary><strong>Hints:</strong></summary>\n",
    "    \n",
    "**Answer:** ```print(2+2)```\n",
    "    \n",
    "</details>"
   ]
  },
  {
   "cell_type": "code",
   "execution_count": null,
   "id": "9fa523d5-7e29-41d8-a659-facaf7232620",
   "metadata": {},
   "outputs": [],
   "source": [
    "This is code that adds 2+2\n",
    "\n",
    "print(2+2) # the result of 2 +2 should be 4"
   ]
  },
  {
   "cell_type": "markdown",
   "id": "bfed3375",
   "metadata": {},
   "source": [
    "### 5. Importing libraries\n",
    "In **Python**, users can import libraries which a range of tools we can call on for our code. These are the most common libraries pertaining to statisitcs, mapping, and visualizations:\n",
    "* **pandas** is a library with statistical capacities including data management.\n",
    "* **geopandas** is the library has geospatial abilities.\n",
    "* **matplotlib** is a library with data visualizations, we will be using pyplots, colors, and patches.\n",
    "\n",
    "In today's workbook, we will rely on these libraries."
   ]
  },
  {
   "cell_type": "markdown",
   "id": "1567467d-5dd2-48d2-974e-4850a1117bb4",
   "metadata": {},
   "source": [
    "Once you have the appropriate **Python** libraries, you call on these libraries at the beginning of your **Python** code script. There are three ways to call libraries:\n",
    "\n",
    "1. Call on the library the basic way: import library_name\n",
    "2. Call on the library and add aliases to call it easily: import library_name as lib\n",
    "3. Call on specifics functions from library: import library.function as fun"
   ]
  },
  {
   "cell_type": "code",
   "execution_count": 2,
   "id": "66f7dd9c",
   "metadata": {
    "tags": []
   },
   "outputs": [],
   "source": [
    "#importing necessary libaries\n",
    "import pandas as pd\n",
    "import geopandas as gpd\n",
    "import matplotlib.pyplot as plt\n",
    "import matplotlib.colors as colors\n",
    "import matplotlib.patches as mpatches"
   ]
  },
  {
   "cell_type": "markdown",
   "id": "a2f7f4e4",
   "metadata": {},
   "source": [
    "### 6. Tabular Data and Reading Du Bois' data into an **Pandas** Data Frame\n",
    "\n",
    "In order to make data visuals, we first need some sort of tabular data. Tabular data is typically presented in an excel file (.xls) or comma-separated vector (.csv). Anthony Starks has published tabular data to recreate Du Bois data portraits on (Github)[https://github.com/ajstarks/dubois-data-portraits]. This exercise recreates *Plate 02* therefore we will be reading in that data using **Pandas**. \n",
    "\n",
    "**Pandas** is the most common library for data management and analysis in **Python**. Next step is to read data in a **Pandas** dataframe. And we're going to place the data into a dataframe named d_pop. **Pandas** allows us to read a comma-separated values (csv) file to a dataframe.  File paths should be used with parentheses:\n",
    "\n",
    "```df = pd.read_csv(\"web_address_with_data/data_file_name.csv\")```\n",
    "\n",
    "* <b>```.df.head()```</b> \n",
    "\n",
    "We use the **Pandas** ```df.head()``` to check that the data has been read correctly. ```df.head()``` shows the first five rows of the data:\n",
    "\n",
    "```df.head()```"
   ]
  },
  {
   "cell_type": "markdown",
   "id": "71a310b8",
   "metadata": {},
   "source": [
    "<details> <summary><strong>Hints:</strong></summary>\n",
    "\n",
    "When reading in a dataframe with Pandas, you should specify Pandas with its alias:\n",
    "    \n",
    "**Answer:** ```data = pd.read_csv(url=\"https://github.com/HigherEdData/Du-Bois-STEM/raw/refs/heads/main/data/d_popmap.csv\")```\n",
    "    \n",
    "</details>"
   ]
  },
  {
   "cell_type": "code",
   "execution_count": null,
   "id": "8960610c-944c-4e66-8918-00890b43ed76",
   "metadata": {},
   "outputs": [],
   "source": [
    "url=\"https://github.com/HigherEdData/Du-Bois-STEM/raw/refs/heads/main/data/d_popmap.csv\"\n",
    "data = __.read_csv(url)\n",
    "data.head()"
   ]
  },
  {
   "cell_type": "markdown",
   "id": "afaed25b",
   "metadata": {},
   "source": [
    "### 7. Spatial Data and Using **GeoPandas** to read, plot, and edit a shapefile\n",
    "\n",
    "Tabular data is presented in a table and spatial data is tabular data presented in geographic units. A common way to use spatial data is to use a *shapefile* which is a data file with geographical components. \n",
    "\n",
    "**Geopandas** is a library with geospatial data tools. __[NHGIS](\"https://www.nhgis.org/\")__ provides free historical shapefiles for non-commercial use. Note that *Plate 02* is a 1900 map of the United States.\n",
    "\n",
    "Two interesting features of the Du Bois **Plate 02**. First, the map is a contiguous U.S., meaning it does not include Alaska and Hawaii. Second, the area known today as Oklahoma is divided into states: Oklahoma and Indian Terrority.\n",
    "\n",
    "* <b>Reading a geospatial data</b>\n",
    "\n",
    "Using **GeoPandas**, you read shapefile files into geospatial dataframes using ```gpd.read_file()```. File paths should be used with parentheses. Again we can use the ```gdf.head()``` to check the data has been read. Notice the geometry column is the geographical reference.\n",
    "\n",
    "```gdf = gpd.read_file(fp)```\n",
    "\n",
    "* <b>Plotting geospatial data</b>\n",
    "\n",
    "Once a geospatial dataframe is loaded, use the ```gpd.plot()``` to visually examine our shapefile.\n",
    "\n",
    "```gpd.plot()```"
   ]
  },
  {
   "cell_type": "markdown",
   "id": "9d45a076-9a9e-4d9e-a417-b94fdfa32e4e",
   "metadata": {},
   "source": [
    "<details> <summary><strong>Hints:</strong></summary>\n",
    "\n",
    "When reading the shapefile, you call on the GeoPandas library using the alias:\n",
    "    \n",
    "**Answer:** ```gdf = gpd.read_file(fp)```\n",
    "    \n",
    "</details>"
   ]
  },
  {
   "cell_type": "code",
   "execution_count": null,
   "id": "f10c9ba6-cf0e-4652-9c31-d58495e39b77",
   "metadata": {},
   "outputs": [],
   "source": [
    "fp_map=\"https://github.com/HigherEdData/Du-Bois-STEM/raw/refs/heads/main/data/us_state_1900/us_state_1900_reduced.shp\"\n",
    "gdf = ___.read_file(fp_map)\n",
    "gdf.head()"
   ]
  },
  {
   "cell_type": "code",
   "execution_count": null,
   "id": "8d25b0f5-e25f-469a-8349-fb3b81d741e5",
   "metadata": {
    "tags": []
   },
   "outputs": [],
   "source": [
    "gdf.plot()"
   ]
  },
  {
   "cell_type": "markdown",
   "id": "38fb9d16",
   "metadata": {},
   "source": [
    "### 8. Merging table data with the shapefile\n",
    "Often times, we need to link a dataframes to a spatial dataframe. Using **GeoPandas**, we can easily marge table data with the shapefile using the merge command. When merging two dataframes, it is important to identify the key variable that will link the two datasets. In this example, the key variable is STATENAM.\n",
    "\n",
    "```gdf_new = spatial_df.merge(df, on='key_variable')```"
   ]
  },
  {
   "cell_type": "markdown",
   "id": "42d3f270-509e-4850-bc1a-4dd3fc297590",
   "metadata": {},
   "source": [
    "<details> <summary><strong>Hints:</strong></summary>\n",
    "\n",
    "Look at the example code.\n",
    "    \n",
    "**Answer:**   \n",
    "```gdf_new = gdf.merge(data, on='STATENAM')```\n",
    "    \n",
    "</details>"
   ]
  },
  {
   "cell_type": "code",
   "execution_count": null,
   "id": "a2faeaeb-20d8-4349-ac22-bc035cf32d1f",
   "metadata": {},
   "outputs": [],
   "source": [
    "gdf_new = gdf._____(data, on='STATENAM')\n",
    "gdf_new.head()"
   ]
  },
  {
   "cell_type": "markdown",
   "id": "bb17b5ba",
   "metadata": {},
   "source": [
    "### 9. **Understanding Choropleth Maps** and Using **GeoPandas** to plot a **choropleth map**\n",
    "**Choropleth maps** are a popular way to visualize spatial data. They can be used to show data across geographic units by using coloring geographic units based on a color that corresponds to a value. For example, the count of a species across zip codes or the average household income by census tract. A common choropleth map will shade higher numbers in darker colors and lower numbers are shaded in ligther colors.\n",
    "\n",
    "The word choropleth comes from the Greek choro, meaning \"region.\" These maps are designed to show data at the regional level, so they’re best used with data tied to specific areal units—think polygons on a map, like the shape of Merced County or the state of California.\n",
    "\n",
    "Because choropleth maps aggregate data by geographic unit, we often need to group our data into a smaller number of categories, or classes. This step is called *classification*. Each class gets its own color, and all regions that fall within the same class are shaded the same. This helps simplify complex data so that it’s easier to interpret visually.\n",
    "\n",
    "While modern mapping software allows us to create unclassed maps—where every unique value gets its own symbol or color—there are still good reasons to use classed choropleths. Grouping data reduces visual clutter and helps map readers focus on patterns rather than being overwhelmed by too much detail. It’s a balance between simplification and meaning.\n",
    "\n",
    "According Dr. Erin Hestir, there are three key steps to creating effective choropleth maps:\n",
    "\n",
    "1. **How many classes should I use?** Too many, and the map gets confusing; too few, and important detail is lost.\n",
    "\n",
    "2. **What classification method should I apply?** Options include equal interval, quantiles, natural breaks, and more—each tells a slightly different story.\n",
    "\n",
    "3. **How should I symbolize the data?** Thoughtful color choice matters. The color scheme needs to reflect the underlying pattern without misleading the viewer.\n",
    "\n",
    "In sum, choropleth maps help us communicate non-spatial information—like health outcomes or economic indicators—through the spatial lens of a map. They sit at the intersection of data science, geography, and design, offering a powerful way to explore and share insights about our world.\n",
    "\n",
    "Throughout this workbook, we will review these steps. We hope by the end of the session, you will discover why choropleth maps are an effective data visualization technique. \n",
    "\n",
    "It is easy to create **choropleth map** in **GeoPandas** simply by choosing a variable.\n",
    "\n",
    "```gdf.plot('variable')```\n",
    "\n",
    "* <b>Modify the line color and width for sharper maps. lw means line width.</b>\n",
    "\n",
    "```gdf.plot('variable', edgecolor='color', lw=#)```\n",
    "\n",
    "Plot a chorpleth map using ```Population``` variable."
   ]
  },
  {
   "cell_type": "markdown",
   "id": "31eca2d0-b85a-4adb-a8b4-154fa5913933",
   "metadata": {},
   "source": [
    "<details> <summary><strong>**Answer:** </strong></summary>\n",
    "\n",
    "```gdf_new.plot('Population', edgecolor='black', lw=.1)```\n",
    "    \n",
    "</details>"
   ]
  },
  {
   "cell_type": "code",
   "execution_count": null,
   "id": "88a2fb92-a197-47c3-b56d-7debb87b66e0",
   "metadata": {},
   "outputs": [],
   "source": [
    "fig, ax = plt.subplots(1, 1, figsize=(10, 10)) #this makes the blank canvas to plot our map\n",
    "gdf_new.plot('______', ax=ax, edgecolor='black', lw=.1, legend = True)\n",
    "ax.set_axis_off() # Remove the axes"
   ]
  },
  {
   "cell_type": "markdown",
   "id": "7248156e",
   "metadata": {},
   "source": [
    "### 10. Using dictionaries and functions in **Python**\n",
    "\n",
    "The **choropleth map** made in Step 9 does not match the colors from the original **Plate 02**. In order to specify the color, we need to do some additional coding. \n",
    "\n",
    "* <b>Dictionaries in **Python**</b>\n",
    "\n",
    "In **Python**, a dictionary is a list of pairs and in the form of: ```key:values```. \n",
    "\n",
    "```dict1 = {'a':1, 'b':2}```\n",
    "\n",
    "* <b> **Functions** in **Python** </b>\n",
    "    \n",
    "In Python, you can write functions to perform a iteration of tasks. For example, linking our data with the color and label dicionaries. \n",
    "\n",
    "* <b>Using dictionaries and functions for color and legend</b>\n",
    "\n",
    "We can use dictionaries and functions to connect variable categories to labels and color schemes. Dictionarieis can be helpful here from translating from color names to HEX numbers. **__[The Du Boisian Visualization Toolkit](\"https://www.dignityanddebt.org/projects/du-boisian-resources/\")__** shares the color scheme within Du Bois data visualizations. \n",
    "\n",
    "During **#DuBoisChallenge** in 2024, **__[Edriessen published in Github](\"https://github.com/edriessen/dubois24-python-matplotlib/tree/main)__** uses the toolkit to write dictionaries and functions in Python. We use Edriessen's approach."
   ]
  },
  {
   "cell_type": "code",
   "execution_count": 23,
   "id": "25922cf2-9d1a-49ff-bde5-edbc819b3a9e",
   "metadata": {
    "tags": []
   },
   "outputs": [],
   "source": [
    "#This is a dictionary of color labels to HEX numbers.\n",
    "dubois_colors = {\n",
    "    'black': '#000000',\n",
    "    'brown': '#654321',\n",
    "    'tan': '#d2b48c',\n",
    "    'gold': '#ffd700',\n",
    "    'pink': '#ffc0cb',\n",
    "    'crimson': '#dc143c',\n",
    "    'green': '#00aa00',\n",
    "    'blue': '#4682b4',\n",
    "    'purple': '#7e6583',\n",
    "    'bg': '#FAF0E6',\n",
    "    'white': '#ffffff',\n",
    "    'lightgrey':  '#d3d3d3',\n",
    "}\n",
    "\n",
    "#This is a dictionary links Population categories with color labels\n",
    "color_map = {\n",
    "    'UNDER - 10,000': dubois_colors['lightgrey'],\n",
    "    '10,000 - 25,000': dubois_colors['gold'],\n",
    "    '25,000 - 50,000': dubois_colors['pink'],\n",
    "    '50,000 - 100,000': dubois_colors['crimson'],\n",
    "    '100,000 - 200,000': dubois_colors['tan'],\n",
    "    '200,000 - 300,000': dubois_colors['blue'],\n",
    "    '300,000 - 500,000': dubois_colors['brown'],\n",
    "    '500,000 - 600,000': dubois_colors['white'],\n",
    "    '600,000 - 750,000': dubois_colors['white'],\n",
    "    '750,000 AND OVER': dubois_colors['black'],  \n",
    "}\n",
    "\n",
    "#This is dictionary of category labels\n",
    "range_map = {\n",
    "    'UNDER - 10,000': 'UNDER - 10,000',\n",
    "    '10,000 - 25,000': '10,000 - 25,000',\n",
    "    '25,000 - 50,000': '25,000 - 50,000',\n",
    "    '50,000 - 100,000': '50,000 - 100,000',\n",
    "    '100,000 - 200,000': '100,000 - 200,000',\n",
    "    '200,000 - 300,000': '200,000 - 300,000',\n",
    "    '300,000 - 500,000': '300,000 - 500,000',\n",
    "    '500,000 - 600,000': '500,000 - 600,000',\n",
    "    '600,000 - 750,000': '600,000 - 750,000',\n",
    "    '750,000 AND OVER': '750,000 NEGROS AND OVER'\n",
    "}\n",
    "\n",
    "def map_colors(value):\n",
    "    if value not in color_map:\n",
    "        return 'white'\n",
    "    \n",
    "    return color_map[value]\n",
    "\n",
    "gdf_new['colors pop'] = gdf_new.apply(lambda row: map_colors(row['Population']), axis=1)\n",
    "\n",
    "# preview colour data\n",
    "gdf_new.head()"
   ]
  },
  {
   "cell_type": "markdown",
   "id": "f6af7967",
   "metadata": {},
   "source": [
    "### 10.5 Update the **choropleth map**\n",
    "\n",
    "Now, that everything been linked, we can now map a choropleth map using Du Bois colors."
   ]
  },
  {
   "cell_type": "markdown",
   "id": "f126c96b-c594-4a2e-ad83-ff7aa9da9c95",
   "metadata": {},
   "source": [
    "<details> <summary><strong>**Answer:** </strong></summary>\n",
    "\n",
    "```gdf_new.plot(color=gdf_new['colors pop'], edgecolor='black', lw=.1)```\n",
    "    \n",
    "</details>"
   ]
  },
  {
   "cell_type": "code",
   "execution_count": null,
   "id": "2ddb91a1-04ba-493c-9b09-b3310d193c7c",
   "metadata": {},
   "outputs": [],
   "source": [
    "fig, ax = plt.subplots(1, 1, figsize=(10, 10))\n",
    "gdf_new.____(color=gdf_new['colors pop'], ax=ax, edgecolor='black', lw=.1, legend = True)\n",
    "ax.set_axis_off() # Remove the axes"
   ]
  },
  {
   "cell_type": "markdown",
   "id": "ae26c8fa",
   "metadata": {},
   "source": [
    "### 11. Using **mathplotlib** to make subplots\n",
    "\n",
    "Subplots allows us to create a figure with mutiple plots in a grid and we can modify them. The most basic is single plot:\n",
    "\n",
    "```fig, ax = plt.subplots(figsize=(height, width), faceolor='color')```\n",
    "\n",
    "<b>If we want to make a grid:</b>\n",
    "\n",
    "```fig, axes = plt.subplots(row_num, col_num,figsize=(height, width), faceolor='color')```\n",
    "\n",
    "In order to recreate **Plate 02**, we want to plot the map in top and the legend in the lower plot.\n",
    "\n",
    "Below correct the code to make a 11 inch width and 14 inch height. Also, use bg (background) for the facecolor."
   ]
  },
  {
   "cell_type": "markdown",
   "id": "5b17e1cf-1b9d-4ae2-b822-5a2d89f5ba8f",
   "metadata": {},
   "source": [
    "<details> <summary><strong>**Answer:** </strong></summary>\n",
    "\n",
    "```    facecolor=dubois_colors['bg']```\n",
    "    \n",
    "</details>"
   ]
  },
  {
   "cell_type": "code",
   "execution_count": null,
   "id": "abf07744-d558-4324-bf70-c773dfbb4b76",
   "metadata": {},
   "outputs": [],
   "source": [
    "fig, (axs) = plt.subplots(\n",
    "    2,\n",
    "    1,\n",
    "    figsize=(x,y),     #1: type (11,14) to indicate the size    \n",
    "    gridspec_kw={\n",
    "        'wspace': -0.15,\n",
    "        'hspace': -.15\n",
    "    },\n",
    "    facecolor=dubois_colors['___'] #2: Add 'bg' as background color\n",
    ")\n",
    "\n",
    "# This makes the plot 2D\n",
    "axes = axs.flat"
   ]
  },
  {
   "cell_type": "markdown",
   "id": "5f4bf6d2-e2c4-45c4-a76d-ae89d0463f32",
   "metadata": {
    "tags": []
   },
   "source": [
    "### Step 11.1 Building visual\n",
    "\n",
    "<b>Next, we will add the plot we made earlier to the code from step 10.5. We will also add the title</b>"
   ]
  },
  {
   "cell_type": "markdown",
   "id": "ad6d96aa-1ea1-4d2a-9006-f0c3594d1cea",
   "metadata": {},
   "source": [
    "<details> <summary><strong>**Answer:** </strong></summary>\n",
    "\n",
    "```fig.suptitle(r\"RELATIVE NEGRO POPULATION OF THE STATES OF THE\" \"\\n\" \"UNITED STATES\", y=.98 , fontsize=23)```\n",
    "    \n",
    "</details>"
   ]
  },
  {
   "cell_type": "code",
   "execution_count": null,
   "id": "96adffee-78cb-4749-8f1a-7d464737fe94",
   "metadata": {},
   "outputs": [],
   "source": [
    "fig, (axs) = plt.subplots(\n",
    "    2,\n",
    "    1,\n",
    "    figsize=(11,14),         \n",
    "    gridspec_kw={\n",
    "        'wspace': -0.15,\n",
    "        'hspace': -.15\n",
    "    },\n",
    "    facecolor=dubois_colors['bg']\n",
    ")\n",
    "\n",
    "axes = axs.flat\n",
    "\n",
    "#set axes bounds\n",
    "axs[1].set_xlim(0, 1)\n",
    "axs[1].set_ylim(-1, 5)\n",
    "axs[0].set_ylim(-1500000, 2500000)\n",
    "\n",
    "gdf_new.plot(ax=axes[0], color=gdf_new['colors pop'], edgecolor='black', lw=.2)\n",
    "\n",
    "# set title\n",
    "fig.suptitle(r\"RELATIVE NEGRO POPULATION OF THE STATES OF THE\" \"\\n\" \"______\", y=.98 , fontsize=23) #1: finish the title name based on Du Bois plate 02\n",
    "axs[0].text(-900000,2800000, r'Recreated by _______________', fontsize=10) #12 Add your name"
   ]
  },
  {
   "cell_type": "markdown",
   "id": "60cb27c6-21d7-4e39-ae28-57049dfd39e2",
   "metadata": {
    "tags": []
   },
   "source": [
    "### Step 11.2 Using *plot()* to make pattern map\n",
    "\n",
    "We can use conditional statements with the *plot()* command to make pattern/texture map. The original *Plate 02* has two pattern categories: \"600,000-750,000\" is grid and \"500,000-600,000\" is slash. In *matplotlib*, you can use \"+\" for grid and chr(92) for \"\\\".\n",
    "\n",
    "````gdf[gdf[\"variable\"] == \"SINGLE_CATEGORY\"].plot(facecolor=\"color\", hatch=\"pattern\")````"
   ]
  },
  {
   "cell_type": "markdown",
   "id": "e9076cb6-e092-49eb-8208-9e014430839e",
   "metadata": {},
   "source": [
    "<details> <summary><strong>**Answer:** </strong></summary>\n",
    "\n",
    "````gdf_new[gdf_new[\"Population_\"] == \"500,000 - 600,000\"].plot(ax=axes[0], facecolor=\"white\", hatch= 7*chr(92))````\n",
    "\n",
    "````gdf_new[gdf_new[\"Population_\"] == \"600,000 - 750,000\"].plot(ax=axes[0], facecolor=\"white\", hatch=\"+++++\")````\n",
    "    \n",
    "</details>"
   ]
  },
  {
   "cell_type": "code",
   "execution_count": null,
   "id": "6f03c257-402e-404b-b213-ddcacee6d74c",
   "metadata": {},
   "outputs": [],
   "source": [
    "fig, (axs) = plt.subplots(\n",
    "    2,\n",
    "    1,\n",
    "    figsize=(11,14),         \n",
    "    gridspec_kw={\n",
    "        'wspace': -0.15,\n",
    "        'hspace': -.15\n",
    "    },\n",
    "    facecolor=dubois_colors['bg']\n",
    ")\n",
    "\n",
    "axes = axs.flat\n",
    "\n",
    "axs[1].set_xlim(0, 1)\n",
    "axs[1].set_ylim(-1, 5)\n",
    "axs[0].set_ylim(-1500000, 2500000)\n",
    "\n",
    "gdf_new.plot(ax=axes[0], color=gdf_new['colors pop'], edgecolor='black', lw=.2)\n",
    "gdf_new[gdf_new[\"Population\"] == \"CATEGORY\"].plot(ax=axes[0], facecolor=\"white\", hatch= 7*chr(92)) #3: Add category name for the grid\n",
    "gdf_new[gdf_new[\"Population\"] == \"CATEGORY\"].plot(ax=axes[0], facecolor=\"white\", hatch=\"+++++\") #2: Add category name for the slash\n",
    "\n",
    "fig.suptitle(r\"RELATIVE NEGRO POPULATION OF THE STATES OF THE\" \"\\n\" \"UNITED STATES\", y=.98, fontsize=23)\n",
    "axs[0].text(-900000,2800000, r'Recreated by __________', fontsize=10) #1: Add your name"
   ]
  },
  {
   "cell_type": "markdown",
   "id": "e4d5c2e2-c1dd-4c80-a4ab-cdacec2078b4",
   "metadata": {
    "tags": []
   },
   "source": [
    "### Step 11.3 Using loop to make the legend\n",
    "\n",
    "Next is to make a legend. In order to make these conseNext, we make a loop to set up the legend and utilize the lower graph. \n",
    "\n",
    "* <b> Loops </b> *\n",
    "Loops are useful tool within coding to do repeat action until a condition is satisfied. \n",
    "\n",
    "<i> For loops </i>\n",
    "```for``` loops do a set of actions for each item in a array or list.\n",
    "\n",
    "<i> If loops </i>\n",
    "```if``` loops run a set of action IF the condition is satisfed. You can set mutiple conditions using the ```elif``` and ```else```"
   ]
  },
  {
   "cell_type": "markdown",
   "id": "ba4aa8e8-6ca1-4d64-acd8-20d2910dd860",
   "metadata": {},
   "source": [
    "<details> <summary><strong>**Answer:** </strong></summary>\n",
    "\n",
    "````ax.axis('off')````\n",
    "    \n",
    "</details>"
   ]
  },
  {
   "cell_type": "code",
   "execution_count": null,
   "id": "2c2016e8-4a36-495f-bb01-8fae8c9b91d6",
   "metadata": {},
   "outputs": [],
   "source": [
    "fig, (axs) = plt.subplots(\n",
    "    2,\n",
    "    1,\n",
    "    figsize=(11,14),         \n",
    "    gridspec_kw={\n",
    "        'wspace': -0.15,\n",
    "        'hspace': -.15\n",
    "    },\n",
    "    facecolor=dubois_colors['bg']\n",
    ")\n",
    "\n",
    "axes = axs.flat\n",
    "\n",
    "axs[1].set_xlim(0, 1)\n",
    "axs[1].set_ylim(-1, 5)\n",
    "axs[0].set_ylim(-1500000, 2500000)\n",
    "\n",
    "gdf_new.plot(ax=axes[0], color=gdf_new['colors pop'], edgecolor='black', lw=.2)\n",
    "gdf_new[gdf_new[\"Population\"] == \"500,000 - 600,000\"].plot(ax=axes[0], facecolor=\"white\", hatch= 7*chr(92))\n",
    "gdf_new[gdf_new[\"Population\"] == \"600,000 - 750,000\"].plot(ax=axes[0], facecolor=\"white\", hatch=\"+++++\")\n",
    "\n",
    "axs[1].set_xlim(0, 1)\n",
    "axs[1].set_ylim(-1, 5)\n",
    "axs[0].set_ylim(-1500000, 2500000)\n",
    "\n",
    "for index, color in enumerate(color_map):\n",
    "    if index < 5:\n",
    "        axes[1].add_patch(plt.Rectangle((0.6, index-.5), .05,.5, facecolor=color_map[color], edgecolor='black'))\n",
    "        axes[1].annotate(range_map[color], (.7,index-.35))\n",
    "    elif index == 7:\n",
    "        axes[1].add_patch(plt.Rectangle((0.2, index-5.5), .05,.5, hatch=7*chr(92), facecolor=color_map[color], edgecolor='black'))\n",
    "        axes[1].annotate(range_map[color], (.3,index-5.35))\n",
    "    elif index == 8:\n",
    "        axes[1].add_patch(plt.Rectangle((0.2, index-5.5), .05,.5, hatch='+++++', facecolor=color_map[color], edgecolor='black'))\n",
    "        axes[1].annotate(range_map[color], (.3,index-5.35))\n",
    "    else:\n",
    "        axes[1].add_patch(plt.Rectangle((0.2, index-5.5), .05,.5, facecolor=color_map[color], edgecolor='black'))\n",
    "        axes[1].annotate(range_map[color], (.3,index-5.35))\n",
    "\n",
    "for ax in axes:\n",
    "    ax.axis('___') #2: type 'off' to remove axes\n",
    "    \n",
    "fig.suptitle(r\"RELATIVE NEGRO POPULATION OF THE STATES OF THE\" \"\\n\" \"UNITED STATES\", y=.98, fontsize=20)\n",
    "axs[0].text(-900000,2800000, r'Recreated by __________', fontsize=10) #1: Add your name"
   ]
  },
  {
   "cell_type": "markdown",
   "id": "996fa1f8-b73d-4994-987c-952ed8dce517",
   "metadata": {},
   "source": [
    "### Step 12 Expanding on spatial data using Modern Data\n",
    "\n",
    "Recreating Du Bois portraits using modern data allows us to apply important spatial analysis techniques such as rates/proportions, data classification, and visual accessibility. For these exercises, we will being 2020 data from the Census. As mentioned above, __[NHGIS](\"https://www.nhgis.org/\")__ provides historical data and shapefile for non-commercial use for free. Census data and shapefile are avaliable from the NHGIS. \n",
    "\n",
    "There are two updated datasets:\n",
    "* 2020 of Black population by state: data2020\n",
    "* Shapefile of state: US_state_2020.shp\n",
    "\n",
    "Using pandas and geopandas, do the following steps:\n",
    "* Step a: Read the csv file\n",
    "* Step b: Read the state 2020 shapefile and plot the map.\n",
    "* Step c: Merge the dataframe with the shapefile using key variable STATENAM.\n",
    "* Step d: Plot a choropleth map using 2020 number of Black residents"
   ]
  },
  {
   "cell_type": "markdown",
   "id": "79077445-ea7a-4641-a61c-5783e77a4b4d",
   "metadata": {},
   "source": [
    "<details> <summary><strong>**Answer:** </strong></summary>\n",
    "\n",
    "```df = pd.read_csv(fp_data)```\n",
    "    \n",
    "```df.head()```\n",
    "    \n",
    "</details>"
   ]
  },
  {
   "cell_type": "code",
   "execution_count": null,
   "id": "d50d91e7-34dc-4605-8b36-d20eab0e12e5",
   "metadata": {},
   "outputs": [],
   "source": [
    "#Step a: Read the csv file\n",
    "fp_data=\"https://github.com/HigherEdData/Du-Bois-STEM/raw/refs/heads/main/data/d_2020_updated.csv\"\n",
    "df = ___.read_csv(fp_data)\n",
    "df.head()"
   ]
  },
  {
   "cell_type": "markdown",
   "id": "5911756c-14a9-4e52-98c1-2b4ef7571d65",
   "metadata": {},
   "source": [
    "<details> <summary><strong>**Answer:** </strong></summary>\n",
    "\n",
    "```gdf = gpd.read_file(fp_map)```\n",
    "    \n",
    "```gdf.head()```\n",
    "    \n",
    "```gdf.plot()```\n",
    "    \n",
    "</details>"
   ]
  },
  {
   "cell_type": "code",
   "execution_count": null,
   "id": "ec07d38d-bef4-46d6-9a48-2772ec171b31",
   "metadata": {},
   "outputs": [],
   "source": [
    "#Step b: Read the state 2020 shapefile and plot the map.\n",
    "fp_map=\"https://github.com/HigherEdData/Du-Bois-STEM/raw/refs/heads/main/data/us_state_2020/us_state_2020_reduced.shp\"\n",
    "gdf = ___.read_file(fp_map)\n",
    "gdf.head()"
   ]
  },
  {
   "cell_type": "markdown",
   "id": "ca546e60-d601-45d8-beb5-3f19b35d2f7e",
   "metadata": {},
   "source": [
    "<details> <summary><strong>**Answer:** </strong></summary>\n",
    "\n",
    "```gdf_recreate = gdf.merge(df, on='STATENAM')```\n",
    "```gdf_recreate.head()```\n",
    "    \n",
    "</details>"
   ]
  },
  {
   "cell_type": "code",
   "execution_count": null,
   "id": "03a3af26-fb7a-4d32-803b-b06073779a15",
   "metadata": {},
   "outputs": [],
   "source": [
    "#Step c: Merge the dataframe with the shapefile using STATENAM\n",
    "gdf_recreate = gdf.merge(df, on='___')\n",
    "gdf_recreate.head()"
   ]
  },
  {
   "cell_type": "markdown",
   "id": "b1e580f6-f992-49b6-966f-df83f3a8fa54",
   "metadata": {},
   "source": [
    "<details> <summary><strong>**Answer:** </strong></summary>\n",
    "\n",
    "```fig, ax = plt.subplots(1, 1, figsize=(10, 10))```\n",
    "```gdf_recreate.plot('blkpop', ax=ax, edgecolor='black', lw=.1, legend = True)```\n",
    "```ax.set_axis_off() # Remove the axes```\n",
    "    \n",
    "</details>"
   ]
  },
  {
   "cell_type": "code",
   "execution_count": null,
   "id": "bcf873f9-1441-4d24-91b2-cc9b80ae4d1f",
   "metadata": {},
   "outputs": [],
   "source": [
    "#Step d: Plot a choropleth map using 2020 number of Black residents\n",
    "fig, ax = plt.subplots(1, 1, figsize=(10, 10))\n",
    "gdf_recreate.plot('____', ax=ax, edgecolor='black', lw=.1, legend = True) #type 'blkpop' as the value for choropleth map\n",
    "ax.set_axis_off() # Remove the axes\n",
    "plt.tight_layout()"
   ]
  },
  {
   "cell_type": "markdown",
   "id": "92e8e5d4-fb63-4313-b7c8-7bc426e771db",
   "metadata": {},
   "source": [
    "Take a moment to examine the map above. The lighter-colored states indicate areas with a higher number of people identifying as Black. For example, states like California and Texas stand out with relatively higher counts. However, it's important to consider that these states also have the largest overall populations, which naturally contributes to higher absolute numbers. Keep in mind that this map shows **counts**, not **proportions**—so larger states may appear prominent simply because more people live there overall."
   ]
  },
  {
   "cell_type": "markdown",
   "id": "118520b4-24ca-475f-a5a1-763a47025409",
   "metadata": {},
   "source": [
    "## Step 13 Normalization of Data"
   ]
  },
  {
   "cell_type": "markdown",
   "id": "84a25ad1-9593-4bae-8d95-e515b4734203",
   "metadata": {},
   "source": [
    "Raw or total values—like those shown in the map above—can be useful, but they often lead to misleading interpretations when used in choropleth maps. This is because larger areas tend to have higher totals simply due to their size, not necessarily because the variable of interest is more concentrated there.\n",
    "\n",
    "For example, California may show a high total population of people identifying as Black—not necessarily because it has a higher proportion, but because it's a large state with a large overall population. In contrast, smaller states like Maryland may have lower totals even if the proportion is higher.\n",
    "\n",
    "This makes it difficult to fairly compare values between areas of different sizes. To address this, we normalize the data—typically by converting raw totals into rates, percentages, or densities. Normalization allows us to make more meaningful comparisons by accounting for differences in population size or geographic area."
   ]
  },
  {
   "cell_type": "markdown",
   "id": "529461bd-e9ad-437a-a1e4-2b5cc45db240",
   "metadata": {},
   "source": [
    "### Understanding Rates and Proportions in Mapping\n",
    "\n",
    " When working with aggregated data, it's important to understand how **rates** and **proportions** help us make fair comparisons across different regions.\n",
    " - A **rate** expresses the relationship between two quantities, typically as a value per a larger base – for example, **population density** (people per square kilometer) or a **drug overdose death rate** ([26.9 deaths per 100,000 people in California](https://www.cdc.gov/nchs/pressroom/states/california/ca.htm)).\n",
    " - A **proportion** shows how a part relates to the whole, often represented as a percentage. For instance, accoding to the[2024 US Census](https://www.census.gov/quickfacts/fact/table/CA/SEX255223), **50.1% of California's population is female.**\n",
    "\n",
    " Both rates and proportions are forms of **data normalization.** They adjust for differences in population or area size, allowing for more meaningful comparisons in choropleth maps and other forms of spatial analysis."
   ]
  },
  {
   "cell_type": "markdown",
   "id": "b66cefe7-2450-40d6-a2b3-16c06577528e",
   "metadata": {
    "tags": []
   },
   "source": [
    "### Normalize Black Population by Total Population\n",
    "\n",
    "Now, let’s explore what happens when we normalize the Black population by the total population of each state. Instead of looking at raw counts or density, we calculate the **proportion of Black individuals within each state's population.** This gives us a percentage that reflects how large the Black population is **relative to the total population** in each state.\n",
    "\n",
    "By mapping these proportions, we gain insight into **demographic representation**—how prevalent a group is within a given area—rather than just how many people live there.\n",
    "\n",
    "$$Percent\\% = 100*\\frac{count}{totcount}$$\n",
    "\n",
    "Given within our dataframe ```blkpop``` is the number of Black residents and ```totpop``` is the total population, how can we make a new variable to be the percent of Black residents?"
   ]
  },
  {
   "cell_type": "markdown",
   "id": "e5e3ed50-0619-4a52-b2e5-526a077460d4",
   "metadata": {},
   "source": [
    "<details> <summary><strong>**Answer:** </strong></summary>\n",
    "\n",
    "```gdf_recreate['blkpct'] = (gdf_recreate['blkpop'] / gdf_recreate['totpop']) * 100```\n",
    "    \n",
    "</details>"
   ]
  },
  {
   "cell_type": "code",
   "execution_count": null,
   "id": "68d505ec-f2cd-4c59-a103-39440787f60f",
   "metadata": {},
   "outputs": [],
   "source": [
    "# Calculate the proportion of Black population and add it to the attribute table\n",
    "gdf_recreate['blkpct'] = (gdf_recreate['____'] / gdf_recreate['____']) * 100\n",
    "gdf_recreate.head()"
   ]
  },
  {
   "cell_type": "code",
   "execution_count": null,
   "id": "73b475fc-250e-4e15-a8bf-ac22e3cc99b3",
   "metadata": {},
   "outputs": [],
   "source": [
    "#Replot the data\n",
    "fig, ax = plt.subplots(1, 1, figsize=(10, 10))\n",
    "gdf_recreate.plot('blkpct', ax=ax, edgecolor='black', lw=.1, legend = True) #type 'blkpct' as the value for choropleth map\n",
    "ax.set_axis_off() # Remove the axes\n",
    "plt.tight_layout()"
   ]
  },
  {
   "cell_type": "markdown",
   "id": "e4159556-41b5-4aa5-a2ae-de62920c83e6",
   "metadata": {},
   "source": [
    "By calculating and mapping proportions, we gain a deeper understanding of demographic representation across geographic regions. While raw counts and densities can show where populations are large or concentrated, proportions allow us to see where a group makes up a significant share of the total population—regardless of overall size or area. **In this map, we see that the southeast states have a higher rates of Black people as compared to the rest of the country.** This type of normalization is essential when comparing areas with different population totals, ensuring that our interpretations are fair, meaningful, and grounded in context. As you continue exploring choropleth maps, remember that the way data is scaled—whether through totals, rates, or proportions—directly influences the story your map tells."
   ]
  },
  {
   "cell_type": "markdown",
   "id": "1446e3a2-7f31-4f80-9dac-2106cac52a61",
   "metadata": {},
   "source": [
    "## Step 13 Data Classification\n",
    "\n",
    "When visualizing geographic data, especially through choropleth maps, we often need to group similar values together into categories. This process—called **data classification**—involves assigning attribute values to a limited number of meaningful groups, or classes. Classification simplifies continuous or complex datasets into interpretable patterns, making it easier to compare and communicate information through maps.\n",
    "\n",
    "In the context of cartography and spatial analysis, classification is particularly important for **quantitative attributes** (such as population density or income), where values exist on ordinal, interval, or ratio scales and can be ordered. Grouping these values into classes helps reduce visual complexity while still preserving important trends and differences. This is not only useful for single-map interpretation, but also for **temporal or spatial comparison**, such as examining changes in Black population density across centuries or between regions.\n",
    "\n",
    "Data classification also has implications beyond visual clarity. The choice of classification method directly shapes how the user perceives the underlying data. For example, classifying continuous population values into five categories can reveal regional trends that might be obscured in an unclassed map. Similarly, choosing one classification scheme over another—like quantiles versus natural breaks—can highlight or mask certain spatial patterns.\n",
    "\n",
    "Ultimately, the goal of classification is to **enhance map readability while retaining analytical integrity.** As you’ll see in this section, selecting the number of classes and how data is grouped isn't arbitrary—it’s a crucial design decision that affects both the **accuracy** and **interpretability** of your map.\n"
   ]
  },
  {
   "cell_type": "markdown",
   "id": "5e51d40b-3fa5-417d-848b-87a07579a540",
   "metadata": {},
   "source": [
    "## Choosing the Number of Classes\n",
    "\n",
    "The number of classes you select should be informed by the spatial distribution of the data and the audience's ability to interpret the map. Too many classes can overwhelm the viewer, while too few can oversimplify the story the data is telling.\n",
    "\n",
    "- **Too many classes** (e.g., 9 or more) can clutter the map, make colors harder to distinguish, and demand greater cognitive effort from the reader.\n",
    "\n",
    "- **Too few classes** (e.g., 2 or 3) can obscure important variation and may group very different values into the same category.\n",
    "\n",
    "*Note: Data quality or uncertainty should not influence your choice of class number—classification is about visualization, not about error correction.*\n",
    "\n",
    "Below is a code example that demonstrates the visual impact of choosing different numbers of classes on a choropleth map."
   ]
  },
  {
   "cell_type": "code",
   "execution_count": null,
   "id": "f1c474df-1368-44f6-b474-5e5fbcd2f3ea",
   "metadata": {},
   "outputs": [],
   "source": [
    "import mapclassify\n",
    "\n",
    "# Plot maps with different numbers of classes\n",
    "fig, axs = plt.subplots(1, 3, figsize=(18, 6))\n",
    "\n",
    "# 3 Classes\n",
    "gdf_recreate.plot(\n",
    "    column='blkpct',\n",
    "    scheme='Quantiles',\n",
    "    k=3,\n",
    "    legend=True,\n",
    "    ax=axs[0],\n",
    "    legend_kwds={},\n",
    "    edgecolor='0.9'\n",
    ")\n",
    "axs[0].set_title(\"Three Classes\")\n",
    "axs[0].axis('off')\n",
    "\n",
    "# 5 Classes\n",
    "gdf_recreate.plot(\n",
    "    column='blkpct',\n",
    "    scheme='Quantiles',\n",
    "    k=5,\n",
    "    legend=True,\n",
    "    ax=axs[1],\n",
    "    legend_kwds={},\n",
    "    edgecolor='0.9'\n",
    ")\n",
    "axs[1].set_title(\"Five Classes\")\n",
    "axs[1].axis('off')\n",
    "\n",
    "# 9 Classes\n",
    "gdf_recreate.plot(\n",
    "    column='blkpct',\n",
    "    scheme='Quantiles',\n",
    "    k=9,\n",
    "    legend=True,\n",
    "    ax=axs[2],\n",
    "    legend_kwds={},\n",
    "    edgecolor='0.9'\n",
    ")\n",
    "axs[2].set_title(\"Nine Classes\")\n",
    "axs[2].axis('off')\n",
    "\n",
    "plt.tight_layout()\n",
    "plt.suptitle(\"Impact of Class Number on Choropleth Map Readability\", fontsize=16, y=1.05)\n",
    "plt.show()"
   ]
  },
  {
   "cell_type": "markdown",
   "id": "2ccbf68e-4c03-4302-8c67-c3fb3350c03b",
   "metadata": {},
   "source": [
    "What are some patterns you notice from the graph?"
   ]
  },
  {
   "cell_type": "markdown",
   "id": "092cbc89-166a-4cb5-8fbf-3b0958b376e9",
   "metadata": {
    "tags": []
   },
   "source": [
    "## Common Data Classification Methods\n",
    "\n",
    "Once you decide to classify your data, the next important step is choosing a **classification method.** Each method follows a different logic for dividing the data into classes, and the method you choose can significantly influence how patterns are perceived on the map. Below are some of the most commonly used approaches:\n",
    "\n",
    "1. **Equal Interval**\n",
    "This method divides the range of values into **equal-sized intervals.** Each class spans the same numerical distance, regardless of how the data are distributed.\n",
    "\n",
    "  - Best for: Uniformly distributed data\n",
    "\n",
    "  - Drawback: Can obscure meaningful variation in skewed data\n",
    "\n",
    "2. **Quantiles**\n",
    "Quantiles divide the dataset so that each class contains an **equal number of features** (e.g., states or counties).\n",
    "\n",
    "  - Best for: Highlighting relative ranking or comparison\n",
    "\n",
    "  - Drawback: Class breaks may fall between very different values\n",
    "\n",
    "3. **Natural Breaks (Jenks)**\n",
    "This method identifies natural groupings and gaps in the data using statistical optimization. It minimizes variance within classes and maximizes variance between them.\n",
    "\n",
    "  - Best for: Skewed or clustered data\n",
    "\n",
    "  - Drawback: Classes may be unevenly populated\n",
    "\n",
    "4. **Standard Deviation**\n",
    "Class breaks are based on how far values deviate from the mean. This is useful when comparing values to an average or identifying outliers.\n",
    "\n",
    "  - Best for: Normally distributed data or emphasizing deviation\n",
    "\n",
    "  - Drawback: Not intuitive for general audiences\n",
    "\n",
    "5. **Manual Classification**\n",
    "You choose the class breaks yourself based on domain knowledge or meaningful thresholds.\n",
    "\n",
    "  - Best for: Custom comparisons or policy-relevant thresholds\n",
    "\n",
    "  - Drawback: Can introduce subjectivity or bias\n",
    "\n",
    "Each method reveals different patterns in the same dataset. It's important to experiment and think critically about which classification best supports your map’s purpose. In the next section, you'll learn how to apply these classification methods in Python using the `mapclassify` library with `GeoPandas`.\n",
    "\n"
   ]
  },
  {
   "cell_type": "code",
   "execution_count": null,
   "id": "ff397ed4-1380-44dc-b4b3-c47d18c40b28",
   "metadata": {},
   "outputs": [],
   "source": [
    "# Define classification methods to test\n",
    "schemes = {\n",
    "    \"Equal Interval\": mapclassify.EqualInterval,\n",
    "    \"Quantiles\": mapclassify.Quantiles,\n",
    "    \"Natural Breaks (Jenks)\": mapclassify.NaturalBreaks,\n",
    "    \"Standard Deviation\": mapclassify.StdMean\n",
    "}\n",
    "\n",
    "# Set up plot\n",
    "fig, axs = plt.subplots(2, 2, figsize=(14, 10))\n",
    "axs = axs.flatten()\n",
    "\n",
    "# Plot each classification method\n",
    "for i, (name, classifier) in enumerate(schemes.items()):\n",
    "    # Use the correct string names for the schemes\n",
    "    scheme_name = \"\"\n",
    "    if name == \"Equal Interval\":\n",
    "        scheme_name = \"equalinterval\"\n",
    "    elif name == \"Quantiles\":\n",
    "        scheme_name = \"quantiles\"\n",
    "    elif name == \"Natural Breaks (Jenks)\":\n",
    "        scheme_name = \"naturalbreaks\"\n",
    "    elif name == \"Standard Deviation\":\n",
    "        scheme_name = \"stdmean\"\n",
    "\n",
    "    gdf_recreate.plot(\n",
    "        column='blkpct',\n",
    "        scheme=scheme_name,\n",
    "        classification_kwds={'k': 5} if name != \"Standard Deviation\" else {},\n",
    "        legend=True,\n",
    "        edgecolor='0.9',\n",
    "        linewidth=0.5,\n",
    "        ax=axs[i]\n",
    "    )\n",
    "    axs[i].set_title(name)\n",
    "    axs[i].axis('off')\n",
    "\n",
    "plt.tight_layout()\n",
    "plt.suptitle(\"Choropleth Comparison Using Different Classification Methods\", fontsize=16, y=1.03)\n",
    "plt.show()"
   ]
  },
  {
   "cell_type": "markdown",
   "id": "4d8a38a0-e446-4ead-bb68-0d8398cb5c39",
   "metadata": {},
   "source": [
    "# Step 14. Putting it all together\n",
    "Given the general practices of data classifications, we will now recreate a choropleth map. The original plate had 10 classes, but here we want to simplify to five classes. We will use quantiles to highlight the relative comparison among states."
   ]
  },
  {
   "cell_type": "code",
   "execution_count": null,
   "id": "37ff67fc-ac95-4c51-b686-01dba9584788",
   "metadata": {},
   "outputs": [],
   "source": [
    "gdf_recreate['quintiles'] = pd.qcut(gdf_recreate['blkpct'], q=5, labels=['Q1', 'Q2', 'Q3', 'Q4','Q5'])\n",
    "print(gdf_recreate.head())"
   ]
  },
  {
   "cell_type": "code",
   "execution_count": null,
   "id": "fe83e891-af88-42e3-90c8-bc9bd651196d",
   "metadata": {},
   "outputs": [],
   "source": [
    "#Replot the data\n",
    "fig, ax = plt.subplots(1, 1, figsize=(10, 10))\n",
    "gdf_recreate.plot('quintiles', ax=ax, edgecolor='black', lw=.1, legend = True) #type 'blkpct' as the value for choropleth map\n",
    "ax.set_axis_off() # Remove the axes\n",
    "ax.set_title(\"Quintiles of Percent of Black Population by State\", fontsize=14)\n",
    "plt.tight_layout()"
   ]
  },
  {
   "cell_type": "markdown",
   "id": "5258c436-43a6-4c8b-9940-93fc7dead511",
   "metadata": {
    "tags": []
   },
   "source": [
    "### 15. Export a final HTML file of your Notebook\n",
    "\n",
    "Now that you're done, remember to export a final HTML file showing your work and displaying your name within the visualizations you created.\n",
    "\n",
    "As noted above, you can export the Notebook by clicking the **File** dropdown above, selecting **Export File As** and then selecting **HTML** as shown here:\n",
    "<div>\n",
    "<img src=\"https://github.com/HigherEdData/Du-Bois-STEM/blob/main/readings-images/htmlexport.jpg?raw=true\" width=\"500\" />\n",
    "</div>"
   ]
  },
  {
   "cell_type": "markdown",
   "id": "77bd8755-fbf2-4a7a-8624-31368c5d30e1",
   "metadata": {},
   "source": [
    "# More Resources and References\n",
    "\n",
    "Github Repository for the #DuboisChallenge2024\n",
    "https://github.com/ajstarks/dubois-data-portraits/blob/master/challenge/2024/README.md\n",
    "\n",
    "Du Bois Challenge 2024 Recap\n",
    "https://speakerdeck.com/ajstarks/du-bois-challenge-2024-recap\n",
    "\n",
    "2024 Du Bois Challenge using R Programming.\n",
    "https://medium.com/illumination/2024-du-bois-challenge-using-r-programming-02af8afa5626\n",
    "\n",
    "Developing Du Bois’s Data Portraits with Python and Matplotlib\n",
    "https://www.edriessen.com/2024/02/07/developing-du-boiss-data-portraits-with-python-and-matplotlib/\n",
    "\n",
    "Three Tricks I Learned In The Du Bois Data Visualization Challenge\n",
    "https://nightingaledvs.com/recreating-historical-dataviz-three-tricks-i-learned-in-the-du-bois-data-visualization-challenge/\n",
    "\n",
    "Molly Kuhs Du Bois Challenge repo\n",
    "https://github.com/makuhs/DuboisChallenge\n",
    "\n",
    "#DuBoisChallenge2024 using Python and Matplotlib\n",
    "https://github.com/edriessen/dubois24-python-matplotlib\n",
    "\n",
    "#DuboisChallenge2024 using R\n",
    "https://github.com/sndaba/2024DuBoisChallengeInRstats/tree/main\n",
    "\n",
    "#DuboisChallenge2024 using Tableau\n",
    "https://public.tableau.com/app/profile/camaal.moten7357/vizzes"
   ]
  }
 ],
 "metadata": {
  "kernelspec": {
   "display_name": "Python 3 (ipykernel)",
   "language": "python",
   "name": "python3"
  },
  "language_info": {
   "codemirror_mode": {
    "name": "ipython",
    "version": 3
   },
   "file_extension": ".py",
   "mimetype": "text/x-python",
   "name": "python",
   "nbconvert_exporter": "python",
   "pygments_lexer": "ipython3",
   "version": "3.11.5"
  }
 },
 "nbformat": 4,
 "nbformat_minor": 5
}
