{
 "cells": [
  {
   "cell_type": "markdown",
   "id": "f9a3ef6e",
   "metadata": {},
   "source": [
    "# **Implement** a Du Bois Choropleth Map with **Python**:\n",
    "\n",
    "## Map of Black Population\n",
    "\n",
    "<div>\n",
    "<img src=\"https://github.com/ajstarks/dubois-data-portraits/blob/master/plate02/original-plate-02.jpg?raw=true\" width=\"700\" />\n",
    "</div>\n",
    "\n",
    "<b>Plate 02</b>"
   ]
  },
  {
   "cell_type": "markdown",
   "id": "a620e675",
   "metadata": {},
   "source": [
    "### This interactive exercise is inspired by the annual #DuBoisChallenge\n",
    "\n",
    "The #DuBoisChallenge is a call to scientists, students, and community members to recreate, adapt, and share on social media the data visualzations created by W.E.B. Du Bois and his collaborators in 1900. Before doing the interactive exercise, please read this article about the [Du Bois Challenge](https://nightingaledvs.com/the-dubois-challenge/) You can find the latest Du Bois visualizations by searching for the [#DuBoisChallenge2025](https://github.com/ajstarks/dubois-data-portraits/tree/master/challenge/2025) hash tag on social media (Twitter, Bluesky, Insta etc). And you can even use the hashtag to share your own recreations.\n",
    "\n",
    "### In this interactive excercise, you will:\n",
    "1. Learn how to create a variation of a **choropleth map**.\n",
    "2. Learn and modify code in the programming lanugage **Python**.\n",
    "3. Learn how to write spatial and statistical code to:\n",
    "    * create visualizations that consistently and accurately represent your data\n",
    "    * create a transparent record of exactly how you visualized something\n",
    "    * make it easy for you or others to recreate or modify your visualization\n",
    "4. Your instructor may also ask you answer questions and submit screenshots as you go in a parallel Catcourses (or other Canvas system) as you go.\n",
    "\n",
    "### You will learn how to use the *Python* programming language by creating a choropleth map:\n",
    "1. You will recreate Du Bois' visualization of Black population across US states. Du Bois created the visualization in 1900.\n",
    "2. You will reproduce Du Bois' visualization using data on Black population in the US today. Du Bois used cartography to the show geographical patterns of enslavement and emancipation for Black Americans.\n",
    "3. An important context of Du Bois's map is history of the African slave trade. The first visual in the 1900 exhibition is a map of world and lines showing the transatlantic slave trade. In the U.S. maps there is clustering of Black population to the southern states and the state of Georgia. Here is Du Bois plate 1 prefacing plate 2:\n",
    "\n",
    "<div>\n",
    "<img src=\"https://github.com/ajstarks/dubois-data-portraits/blob/master/plate01/original-plate-01.jpg?raw=true\" width=\"700\"/>\n",
    "</div>\n",
    "<b>Plate 01</b>"
   ]
  },
  {
   "cell_type": "markdown",
   "id": "b65dbfb1",
   "metadata": {},
   "source": [
    "### 1. How to use this interactive **Jupyter Notebook**\n",
    "\n",
    "If you know how to use Python on your own computer with another code runner you can copy, paste, and edit code there. If you have Jupyter Lab, you can also download this Notebook to use it on your own computer. You can download the Notebook or view a non-interactive version of this Notebook by clicking here.\n",
    "\n",
    "Grey cells in the *Notebook* like the one below are code cells where you will write and edit **Python** Code. To try it out:\n",
    "\n",
    "1. Click your cursor on the grey cell below. After you click on it, it will change to white to indicate you are editing it.\n",
    "2. After you click on the cell below and it turns white. Type ```2+2``` to use Python as a calculator.\n",
    "3. After typing ```2+2```, click the <span class=\"play-button\">&#9654;</span> play button at the top of this page."
   ]
  },
  {
   "cell_type": "code",
   "execution_count": null,
   "id": "d6e7e9b7-14e1-4908-b444-fe97acb998bb",
   "metadata": {
    "tags": []
   },
   "outputs": [],
   "source": []
  },
  {
   "cell_type": "markdown",
   "id": "12923d59",
   "metadata": {},
   "source": [
    "### 2. Keeping track of your work and using **Python** outside of this notebook.\n",
    "\n",
    "If you leave this Notebook idle or close/re-open it, your work will not be saved in the Notebook. But you can export an HTML file showing your work at any time. You can then open and browse the HTML file in any web browser.\n",
    "\n",
    "And after completing the Notebook exercises, you can export a final HTML file to submit for any course assignments using this Notebook.\n",
    "\n",
    "To export the *Notebook*, click the **File** dropdown above, select **Export File As** and then select **HTML** as shown here:\n",
    "\n",
    "<div>\n",
    "<img src=\"https://github.com/HigherEdData/Du-Bois-STEM/blob/main/readings-images/htmlexport.jpg?raw=true\" width=\"500\" />\n",
    "</div>"
   ]
  },
  {
   "cell_type": "markdown",
   "id": "6383cd2e",
   "metadata": {},
   "source": [
    "### 3. Getting hints and answers.\n",
    "\n",
    "Sometimes, the code cells will already have code in them that you will be asked to edit or run by clicking the play button. In the process, you can click on <span class=\"play-button\">&#9654;</span> dropdown buttons like the ones below to get hints and answers. For example:\n",
    "\n",
    "1. Click on the cell below with ```3+3=``` and click the play triangle above. You should get an error message highlighted in pink saying \"SyntaxError: cannot assign to expression\". To complete this activity, you'll want to get each code cell to run without a pink error message.\n",
    "2. Based on the ```2+2``` code you tried above, try to edit the 3+3= code to get it to report the sum of 3+3 without the error message. For a hint, click the first <span class=\"play-button\">&#9654;</span> button below."
   ]
  },
  {
   "cell_type": "markdown",
   "id": "bf7d2b53-b7fd-4247-9f79-4aed791430f3",
   "metadata": {},
   "source": [
    "<details> <summary>Click this triangle for a hint.</summary>\n",
    "\n",
    "Try deleting the ```=``` sign in the cell and click play again. If that doesn't work, click the next triangle below for the answer.\n",
    "\n",
    "</details>\n",
    "\n",
    "<details> <summary>Click this triangle for the answer.</summary>\n",
    "\n",
    "**Answer:** Delete all the text in the cell below and write or paste this answer in the cell: ```3+3``` before clicking play again.\n",
    "\n",
    "</details>"
   ]
  },
  {
   "cell_type": "code",
   "execution_count": 2,
   "id": "889f5916-a332-4fa6-a5b7-f2e38bd625c2",
   "metadata": {
    "tags": []
   },
   "outputs": [
    {
     "data": {
      "text/plain": [
       "6"
      ]
     },
     "execution_count": 2,
     "metadata": {},
     "output_type": "execute_result"
    }
   ],
   "source": [
    "3+3"
   ]
  },
  {
   "cell_type": "markdown",
   "id": "9a84b767",
   "metadata": {},
   "source": [
    "### 4. Reading and writing comments that explain your code\n",
    "\n",
    "In code cells, we can write **comment** text that explains our code. We put a ```#```  before **comment** text to tell Python that the text is not code it should execute. Any text after a ```#``` on a given line will be treated as a **comment**. In Jupyter, comment text after a ```#``` will be displayed in a dark turquois color. To see how this works, try the following below:\n",
    "\n",
    "1. Try to run the code below. You should get an error message because the comment text \"This is code that adds 2+2\" is not Python code and doesn't have a #  sign in front of it.\n",
    "2. Add a #  sign before \"This is code that adds 2+2\". This should change the color of the text to turquois like the text after the 2+2 where there is already a #  sign.\n",
    "3. Click the <span class=\"play-button\">&#9654;</span> at the top of the notebook and the code should run and output **4** below."
   ]
  },
  {
   "cell_type": "code",
   "execution_count": null,
   "id": "9fa523d5-7e29-41d8-a659-facaf7232620",
   "metadata": {},
   "outputs": [],
   "source": [
    "This is code that adds 2+2\n",
    "\n",
    "2+2 # the result of 2 +2 should be 4"
   ]
  },
  {
   "cell_type": "markdown",
   "id": "bfed3375",
   "metadata": {},
   "source": [
    "### 5. Importing libraries\n",
    "In **Python**, users can import libraries which a range of tools we can call on for our code. These are the most common libraries pertaining to statisitcs, mapping, and visualizations:\n",
    "* **pandas** is a library with statistical capacities including data management.\n",
    "* **geopandas** is the library has geospatial abilities.\n",
    "* **matplotlib** is a library with data visualizations, we will be using pyplots, colors, and patches.\n",
    "\n",
    "In today's workbook, we will rely on these libraries."
   ]
  },
  {
   "cell_type": "markdown",
   "id": "1567467d-5dd2-48d2-974e-4850a1117bb4",
   "metadata": {},
   "source": [
    "Once you have the appropriate **Python** libraries, you call on these libraries at the beginning of your **Python** code script. There are three ways to call libraries:\n",
    "\n",
    "1. Call on the library the basic way: import library_name\n",
    "2. Call on the library and add aliases to call it easily: import library_name as lib\n",
    "3. Call on specifics functions from library: import library.function as fun"
   ]
  },
  {
   "cell_type": "code",
   "execution_count": 1,
   "id": "66f7dd9c",
   "metadata": {
    "tags": []
   },
   "outputs": [],
   "source": [
    "#importing necessary libaries\n",
    "import pandas as pd\n",
    "import geopandas as gpd\n",
    "import matplotlib.pyplot as plt\n",
    "import matplotlib.colors as colors\n",
    "import matplotlib.patches as mpatches"
   ]
  },
  {
   "cell_type": "markdown",
   "id": "a2f7f4e4",
   "metadata": {},
   "source": [
    "### 6. Reading Du Bois' data into an **Pandas** Data Frame\n",
    "\n",
    "Next step is to read data in a **pandas** dataframe. \n",
    "\n",
    "For this exercise, we're going to read in data from a website. And we're going to place the data into a dataframe named d_pop.\n",
    "\n",
    "**Pandas** allows us to read a comma-separated values (csv) file to a dataframe.  File paths should be used with parentheses:\n",
    "\n",
    "```df = pd.read_csv(\"web_address_with_data/data_file_name.csv\")```\n",
    "\n",
    "* <b>```.df.head()```</b> \n",
    "\n",
    "We use the **pandas** ```df.head()``` to check that the data has been read correctly. ```df.head()``` shows the first five rows of the data:\n",
    "\n",
    "```df.head()```"
   ]
  },
  {
   "cell_type": "markdown",
   "id": "71a310b8",
   "metadata": {},
   "source": [
    "<details> <summary><strong>Hints:</strong></summary>\n",
    "\n",
    "When reading in a dataframe with Pandas, you should specify Pandas with its alias:\n",
    "    \n",
    "**Answer:** ```data = pd.read_csv(url=\"https://github.com/HigherEdData/Du-Bois-STEM/raw/refs/heads/main/data/d_popmap.csv\")```\n",
    "    \n",
    "</details>"
   ]
  },
  {
   "cell_type": "code",
   "execution_count": null,
   "id": "8960610c-944c-4e66-8918-00890b43ed76",
   "metadata": {},
   "outputs": [],
   "source": [
    "url=\"https://github.com/HigherEdData/Du-Bois-STEM/raw/refs/heads/main/data/d_popmap.csv\"\n",
    "data = __.read_csv(url)\n",
    "data.head()"
   ]
  },
  {
   "cell_type": "markdown",
   "id": "afaed25b",
   "metadata": {},
   "source": [
    "### 7. Using **GeoPandas** to read, plot, and edit a shapefile\n",
    "Since we are making a map, we need a *shapefile*--a data file with geographical components. **Geopandas** is a library with geospatial data tools. __[NHGIS](\"https://www.nhgis.org/\")__ provides free historical shapefiles for non-commercial use. Note that *Plate 02* is a 1900 map of the United States.\n",
    "\n",
    "Two interesting features of the Du Bois **Plate 02**. First, the map is a contiguous U.S., meaning it does not include Alaska and Hawaii. Second, the area known today as Oklahoma is divided into states: Oklahoma and Indian Terrority.\n",
    "\n",
    "* <b>Reading a geospatial data</b>\n",
    "\n",
    "Using **GeoPandas**, you read shapefile files into geospatial dataframes using ```gpd.read_file()```. File paths should be used with parentheses. Again we can use the ```gdf.head()``` to check the data has been read. Notice the geometry column is the geographical reference.\n",
    "\n",
    "```gdf = gpd.read_file(fp)```\n",
    "\n",
    "* <b>Plotting geospatial data</b>\n",
    "\n",
    "Once a geospatial dataframe is loaded, use the ```gpd.plot()``` to visually examine our shapefile.\n",
    "\n",
    "```gpd.plot()```"
   ]
  },
  {
   "cell_type": "markdown",
   "id": "9d45a076-9a9e-4d9e-a417-b94fdfa32e4e",
   "metadata": {},
   "source": [
    "<details> <summary><strong>Hints:</strong></summary>\n",
    "\n",
    "When reading the shapefile, you call on the GeoPandas library using the alias:\n",
    "    \n",
    "**Answer:** ```gdf = gpd.read_file(fp)```\n",
    "    \n",
    "</details>"
   ]
  },
  {
   "cell_type": "code",
   "execution_count": null,
   "id": "f10c9ba6-cf0e-4652-9c31-d58495e39b77",
   "metadata": {},
   "outputs": [],
   "source": [
    "fp_map=\"https://github.com/HigherEdData/Du-Bois-STEM/raw/refs/heads/main/data/us_state_1900/us_state_1900_reduced.shp\"\n",
    "gdf = ___.read_file(fp_map)\n",
    "gdf.head()"
   ]
  },
  {
   "cell_type": "code",
   "execution_count": null,
   "id": "8d25b0f5-e25f-469a-8349-fb3b81d741e5",
   "metadata": {
    "tags": []
   },
   "outputs": [],
   "source": [
    "gdf.plot()"
   ]
  },
  {
   "cell_type": "markdown",
   "id": "38fb9d16",
   "metadata": {},
   "source": [
    "### 8. Merging table data with the shapefile\n",
    "Often times, we need to link a dataframes to a spatial dataframe. Using **GeoPandas**, we can easily marge table data with the shapefile using the merge command. When merging two dataframes, it is important to identify the key variable that will link the two datasets. In this example, the key variable is STATENAM.\n",
    "\n",
    "```gdf_new = spatial_df.merge(df, on='key_variable')```"
   ]
  },
  {
   "cell_type": "markdown",
   "id": "42d3f270-509e-4850-bc1a-4dd3fc297590",
   "metadata": {},
   "source": [
    "<details> <summary><strong>Hints:</strong></summary>\n",
    "\n",
    "Look at the example code.\n",
    "    \n",
    "**Answer:**   \n",
    "```gdf_new = gdf.merge(data, on='STATENAM')```\n",
    "    \n",
    "</details>"
   ]
  },
  {
   "cell_type": "code",
   "execution_count": null,
   "id": "a2faeaeb-20d8-4349-ac22-bc035cf32d1f",
   "metadata": {},
   "outputs": [],
   "source": [
    "gdf_new = gdf._____(data, on='STATENAM')\n",
    "gdf_new.head()"
   ]
  },
  {
   "cell_type": "markdown",
   "id": "bb17b5ba",
   "metadata": {},
   "source": [
    "### 9. Using **GeoPandas** to plot a **choropleth map**\n",
    "**Choropleth maps** are maps that plot categories using different colors or patterns. It is easy to create **choropleth map** in **GeoPandas** simply by choosing a variable.\n",
    "\n",
    "```gdf.plot('variable')```\n",
    "\n",
    "* <b>Modify the line color and width for sharper maps. lw means line width.</b>\n",
    "\n",
    "```gdf.plot('variable', edgecolor='color', lw=#)```\n",
    "\n",
    "Plot a chorpleth map using ```Population``` variable."
   ]
  },
  {
   "cell_type": "markdown",
   "id": "31eca2d0-b85a-4adb-a8b4-154fa5913933",
   "metadata": {},
   "source": [
    "<details> <summary><strong>**Answer:** </strong></summary>\n",
    "\n",
    "```gdf_new.plot('Population', edgecolor='black', lw=.1)```\n",
    "    \n",
    "</details>"
   ]
  },
  {
   "cell_type": "code",
   "execution_count": null,
   "id": "88a2fb92-a197-47c3-b56d-7debb87b66e0",
   "metadata": {},
   "outputs": [],
   "source": [
    "gdf_new.plot('____', edgecolor='black', lw=.1)"
   ]
  },
  {
   "cell_type": "markdown",
   "id": "7248156e",
   "metadata": {
    "tags": []
   },
   "source": [
    "### 10. Using dictionaries and functions in **Python**\n",
    "\n",
    "The **choropleth map** made in Step 9 does not match the colors from the original **Plate 02**. In order to specify the color, we need to do some additional coding. \n",
    "\n",
    "* <b>Dictionaries in **Python**</b>\n",
    "\n",
    "In **Python**, a dictionary is a list of pairs and in the form of: ```key:values```. \n",
    "\n",
    "```dict1 = {'a':1, 'b':2}```\n",
    "\n",
    "* <b> **Functions** in **Python** </b>\n",
    "    \n",
    "In Python, you can write functions to perform a iteration of tasks. For example, linking our data with the color and label dicionaries. \n",
    "\n",
    "* <b>Using dictionaries and functions for color and legend</b>\n",
    "\n",
    "We can use dictionaries and functions to connect variable categories to labels and color schemes. Dictionarieis can be helpful here from translating from color names to HEX numbers. **__[The Du Boisian Visualization Toolkit](\"https://www.dignityanddebt.org/projects/du-boisian-resources/\")__** shares the color scheme within Du Bois data visualizations. \n",
    "\n",
    "During **#DuBoisChallenge** in 2024, **__[Edriessen published in Github](\"https://github.com/edriessen/dubois24-python-matplotlib/tree/main)__** uses the toolkit to write dictionaries and functions in Python. We use Edriessen's approach."
   ]
  },
  {
   "cell_type": "code",
   "execution_count": null,
   "id": "d0edf59d-8397-4700-9c5c-b9a6dacae451",
   "metadata": {},
   "outputs": [],
   "source": [
    "#This is a dictionary of color labels to HEX numbers.\n",
    "dubois_colors = {\n",
    "    'black': '#000000',\n",
    "    'brown': '#654321',\n",
    "    'tan': '#d2b48c',\n",
    "    'gold': '#ffd700',\n",
    "    'pink': '#ffc0cb',\n",
    "    'crimson': '#dc143c',\n",
    "    'green': '#00aa00',\n",
    "    'blue': '#4682b4',\n",
    "    'purple': '#7e6583',\n",
    "    'bg': '#FAF0E6',\n",
    "    'white': '#ffffff',\n",
    "    'lightgrey':  '#d3d3d3',\n",
    "}\n",
    "\n",
    "#This is a dictionary links Population categories with color labels\n",
    "color_map = {\n",
    "    'UNDER - 10,000': dubois_colors['lightgrey'],\n",
    "    '10,000 - 25,000': dubois_colors['gold'],\n",
    "    '25,000 - 50,000': dubois_colors['pink'],\n",
    "    '50,000 - 100,000': dubois_colors['crimson'],\n",
    "    '100,000 - 200,000': dubois_colors['tan'],\n",
    "    '200,000 - 300,000': dubois_colors['blue'],\n",
    "    '300,000 - 500,000': dubois_colors['brown'],\n",
    "    '500,000 - 600,000': dubois_colors['white'],\n",
    "    '600,000 - 750,000': dubois_colors['white'],\n",
    "    '750,000 AND OVER': dubois_colors['black'],  \n",
    "}\n",
    "\n",
    "#This is dictionary of category labels\n",
    "range_map = {\n",
    "    'UNDER - 10,000': 'UNDER - 10,000',\n",
    "    '10,000 - 25,000': '10,000 - 25,000',\n",
    "    '25,000 - 50,000': '25,000 - 50,000',\n",
    "    '50,000 - 100,000': '50,000 - 100,000',\n",
    "    '100,000 - 200,000': '100,000 - 200,000',\n",
    "    '200,000 - 300,000': '200,000 - 300,000',\n",
    "    '300,000 - 500,000': '300,000 - 500,000',\n",
    "    '500,000 - 600,000': '500,000 - 600,000',\n",
    "    '600,000 - 750,000': '600,000 - 750,000',\n",
    "    '750,000 AND OVER': '750,000 NEGROS AND OVER'\n",
    "}\n",
    "\n",
    "def map_colors(value):\n",
    "    if value not in color_map:\n",
    "        return 'white'\n",
    "    \n",
    "    return color_map[value]\n",
    "\n",
    "gdf_new['colors pop'] = gdf_new.apply(lambda row: map_colors(row['Population']), axis=1)\n",
    "\n",
    "# preview colour data\n",
    "gdf_new.head()"
   ]
  },
  {
   "cell_type": "markdown",
   "id": "f6af7967",
   "metadata": {},
   "source": [
    "### 10.5 Update the **choropleth map**\n",
    "\n",
    "Now, that everything been linked, we can now map a choropleth map using Du Bois colors."
   ]
  },
  {
   "cell_type": "markdown",
   "id": "d1c28175-e0e1-4421-944d-39986017f5ff",
   "metadata": {},
   "source": [
    "<details> <summary><strong>**Answer:** </strong></summary>\n",
    "\n",
    "```gdf_new.plot(color=gdf_new['colors pop'], edgecolor='black', lw=.1)```\n",
    "    \n",
    "</details>"
   ]
  },
  {
   "cell_type": "code",
   "execution_count": null,
   "id": "fcde859f-f5ef-46ca-84c4-575f6a20efe2",
   "metadata": {},
   "outputs": [],
   "source": [
    "gdf_new.___(color=gdf_new['colors pop'], edgecolor='black', lw=.1)"
   ]
  },
  {
   "cell_type": "markdown",
   "id": "ae26c8fa",
   "metadata": {},
   "source": [
    "### 11. Using **mathplotlib** to make subplots\n",
    "\n",
    "Subplots allows us to create a figure with mutiple plots in a grid and we can modify them. The most basic is single plot:\n",
    "\n",
    "```fig, ax = plt.subplots(figsize=(height, width), faceolor='color')```\n",
    "\n",
    "<b>If we want to make a grid:</b>\n",
    "\n",
    "```fig, axes = plt.subplots(row_num, col_num,figsize=(height, width), faceolor='color')```\n",
    "\n",
    "In order to recreate **Plate 02**, we want to plot the map in top and the legend in the lower plot.\n",
    "\n",
    "Below correct the code to make a 11 inch width and 14 inch height. Also, use bg (background) for the facecolor."
   ]
  },
  {
   "cell_type": "markdown",
   "id": "5b17e1cf-1b9d-4ae2-b822-5a2d89f5ba8f",
   "metadata": {},
   "source": [
    "<details> <summary><strong>**Answer:** </strong></summary>\n",
    "\n",
    "```    facecolor=dubois_colors['bg']```\n",
    "    \n",
    "</details>"
   ]
  },
  {
   "cell_type": "code",
   "execution_count": null,
   "id": "abf07744-d558-4324-bf70-c773dfbb4b76",
   "metadata": {},
   "outputs": [],
   "source": [
    "fig, (axs) = plt.subplots(\n",
    "    2,\n",
    "    1,\n",
    "    figsize=(x,y),         \n",
    "    gridspec_kw={\n",
    "        'wspace': -0.15,\n",
    "        'hspace': -.15\n",
    "    },\n",
    "    facecolor=dubois_colors['___'] #1: Add 'bg' as background color\n",
    ")\n",
    "\n",
    "# This makes the plot 2D\n",
    "axes = axs.flat"
   ]
  },
  {
   "cell_type": "markdown",
   "id": "5f4bf6d2-e2c4-45c4-a76d-ae89d0463f32",
   "metadata": {
    "tags": []
   },
   "source": [
    "### Step 11.1 Building visual\n",
    "\n",
    "<b>Next, we will add the plot we made earlier to the code from step 10.5. We will also add the title</b>"
   ]
  },
  {
   "cell_type": "markdown",
   "id": "ad6d96aa-1ea1-4d2a-9006-f0c3594d1cea",
   "metadata": {},
   "source": [
    "<details> <summary><strong>**Answer:** </strong></summary>\n",
    "\n",
    "```fig.suptitle(r\"RELATIVE NEGRO POPULATION OF THE STATES OF THE\" \"\\n\" \"UNITED STATES\", y=.98 , fontsize=23)```\n",
    "    \n",
    "</details>"
   ]
  },
  {
   "cell_type": "code",
   "execution_count": null,
   "id": "96adffee-78cb-4749-8f1a-7d464737fe94",
   "metadata": {},
   "outputs": [],
   "source": [
    "fig, (axs) = plt.subplots(\n",
    "    2,\n",
    "    1,\n",
    "    figsize=(11,14),         \n",
    "    gridspec_kw={\n",
    "        'wspace': -0.15,\n",
    "        'hspace': -.15\n",
    "    },\n",
    "    facecolor=dubois_colors['bg']\n",
    ")\n",
    "\n",
    "axes = axs.flat\n",
    "\n",
    "#set axes bounds\n",
    "axs[1].set_xlim(0, 1)\n",
    "axs[1].set_ylim(-1, 5)\n",
    "axs[0].set_ylim(-1500000, 2500000)\n",
    "\n",
    "gdf_new.plot(ax=axes[0], color=gdf_new['colors pop'], edgecolor='black', lw=.2)\n",
    "\n",
    "# set title\n",
    "fig.suptitle(r\"RELATIVE NEGRO POPULATION OF THE STATES OF THE\" \"\\n\" \"______\", y=.98 , fontsize=23) #1: finish the title name based on Du Bois plate 02\n",
    "axs[0].text(-900000,2800000, r'Recreated by _______________', fontsize=10) #12 Add your name"
   ]
  },
  {
   "cell_type": "markdown",
   "id": "60cb27c6-21d7-4e39-ae28-57049dfd39e2",
   "metadata": {
    "tags": []
   },
   "source": [
    "### Step 11.2 Using *plot()* to make pattern map\n",
    "\n",
    "We can use conditional statements with the *plot()* command to make pattern/texture map. The original *Plate 02* has two pattern categories: \"600,000-750,000\" is grid and \"500,000-600,000\" is slash. In *matplotlib*, you can use \"+\" for grid and chr(92) for \"\\\".\n",
    "\n",
    "````gdf[gdf[\"variable\"] == \"SINGLE_CATEGORY\"].plot(facecolor=\"color\", hatch=\"pattern\")````"
   ]
  },
  {
   "cell_type": "markdown",
   "id": "e9076cb6-e092-49eb-8208-9e014430839e",
   "metadata": {},
   "source": [
    "<details> <summary><strong>**Answer:** </strong></summary>\n",
    "\n",
    "````gdf_new[gdf_new[\"Population_\"] == \"500,000 - 600,000\"].plot(ax=axes[0], facecolor=\"white\", hatch= 7*chr(92))````\n",
    "\n",
    "````gdf_new[gdf_new[\"Population_\"] == \"600,000 - 750,000\"].plot(ax=axes[0], facecolor=\"white\", hatch=\"+++++\")````\n",
    "    \n",
    "</details>"
   ]
  },
  {
   "cell_type": "code",
   "execution_count": null,
   "id": "6f03c257-402e-404b-b213-ddcacee6d74c",
   "metadata": {},
   "outputs": [],
   "source": [
    "fig, (axs) = plt.subplots(\n",
    "    2,\n",
    "    1,\n",
    "    figsize=(11,14),         \n",
    "    gridspec_kw={\n",
    "        'wspace': -0.15,\n",
    "        'hspace': -.15\n",
    "    },\n",
    "    facecolor=dubois_colors['bg']\n",
    ")\n",
    "\n",
    "axes = axs.flat\n",
    "\n",
    "axs[1].set_xlim(0, 1)\n",
    "axs[1].set_ylim(-1, 5)\n",
    "axs[0].set_ylim(-1500000, 2500000)\n",
    "\n",
    "gdf_new.plot(ax=axes[0], color=gdf_new['colors pop'], edgecolor='black', lw=.2)\n",
    "gdf_new[gdf_new[\"Population\"] == \"CATEGORY\"].plot(ax=axes[0], facecolor=\"white\", hatch= 7*chr(92)) #3: Add category name for the grid\n",
    "gdf_new[gdf_new[\"Population\"] == \"CATEGORY\"].plot(ax=axes[0], facecolor=\"white\", hatch=\"+++++\") #2: Add category name for the slash\n",
    "\n",
    "fig.suptitle(r\"RELATIVE NEGRO POPULATION OF THE STATES OF THE\" \"\\n\" \"UNITED STATES\", y=.98, fontsize=23)\n",
    "axs[0].text(-900000,2800000, r'Recreated by __________', fontsize=10) #1: Add your name"
   ]
  },
  {
   "cell_type": "markdown",
   "id": "e4d5c2e2-c1dd-4c80-a4ab-cdacec2078b4",
   "metadata": {
    "tags": []
   },
   "source": [
    "### Step 11.3 Using loop to make the legend\n",
    "\n",
    "Next is to make a legend. In order to make these conseNext, we make a loop to set up the legend and utilize the lower graph. \n",
    "\n",
    "* <b> Loops </b> *\n",
    "Loops are useful tool within coding to do repeat action until a condition is satisfied. \n",
    "\n",
    "<i> For loops </i>\n",
    "```for``` loops do a set of actions for each item in a array or list.\n",
    "\n",
    "<i> If loops </i>\n",
    "```if``` loops run a set of action IF the condition is satisfed. You can set mutiple conditions using the ```elif``` and ```else```"
   ]
  },
  {
   "cell_type": "markdown",
   "id": "ba4aa8e8-6ca1-4d64-acd8-20d2910dd860",
   "metadata": {},
   "source": [
    "<details> <summary><strong>**Answer:** </strong></summary>\n",
    "\n",
    "````ax.axis('off')````\n",
    "    \n",
    "</details>"
   ]
  },
  {
   "cell_type": "code",
   "execution_count": null,
   "id": "2c2016e8-4a36-495f-bb01-8fae8c9b91d6",
   "metadata": {},
   "outputs": [],
   "source": [
    "fig, (axs) = plt.subplots(\n",
    "    2,\n",
    "    1,\n",
    "    figsize=(11,14),         \n",
    "    gridspec_kw={\n",
    "        'wspace': -0.15,\n",
    "        'hspace': -.15\n",
    "    },\n",
    "    facecolor=dubois_colors['bg']\n",
    ")\n",
    "\n",
    "axes = axs.flat\n",
    "\n",
    "axs[1].set_xlim(0, 1)\n",
    "axs[1].set_ylim(-1, 5)\n",
    "axs[0].set_ylim(-1500000, 2500000)\n",
    "\n",
    "gdf_new.plot(ax=axes[0], color=gdf_new['colors pop'], edgecolor='black', lw=.2)\n",
    "gdf_new[gdf_new[\"Population\"] == \"500,000 - 600,000\"].plot(ax=axes[0], facecolor=\"white\", hatch= 7*chr(92))\n",
    "gdf_new[gdf_new[\"Population\"] == \"600,000 - 750,000\"].plot(ax=axes[0], facecolor=\"white\", hatch=\"+++++\")\n",
    "\n",
    "axs[1].set_xlim(0, 1)\n",
    "axs[1].set_ylim(-1, 5)\n",
    "axs[0].set_ylim(-1500000, 2500000)\n",
    "\n",
    "for index, color in enumerate(color_map):\n",
    "    if index < 5:\n",
    "        axes[1].add_patch(plt.Rectangle((0.6, index-.5), .05,.5, facecolor=color_map[color], edgecolor='black'))\n",
    "        axes[1].annotate(range_map[color], (.7,index-.35))\n",
    "    elif index == 7:\n",
    "        axes[1].add_patch(plt.Rectangle((0.2, index-5.5), .05,.5, hatch=7*chr(92), facecolor=color_map[color], edgecolor='black'))\n",
    "        axes[1].annotate(range_map[color], (.3,index-5.35))\n",
    "    elif index == 8:\n",
    "        axes[1].add_patch(plt.Rectangle((0.2, index-5.5), .05,.5, hatch='+++++', facecolor=color_map[color], edgecolor='black'))\n",
    "        axes[1].annotate(range_map[color], (.3,index-5.35))\n",
    "    else:\n",
    "        axes[1].add_patch(plt.Rectangle((0.2, index-5.5), .05,.5, facecolor=color_map[color], edgecolor='black'))\n",
    "        axes[1].annotate(range_map[color], (.3,index-5.35))\n",
    "\n",
    "for ax in axes:\n",
    "    ax.axis('___') #2: type 'off' to remove axes\n",
    "    \n",
    "fig.suptitle(r\"RELATIVE NEGRO POPULATION OF THE STATES OF THE\" \"\\n\" \"UNITED STATES\", y=.98, fontsize=20)\n",
    "axs[0].text(-900000,2800000, r'Recreated by __________', fontsize=10) #1: Add your name"
   ]
  },
  {
   "cell_type": "markdown",
   "id": "6c384c00-7375-4a69-ab8b-8038f218fc79",
   "metadata": {
    "tags": []
   },
   "source": [
    "### Step 12 Recreate the Du Bois Chrolopeth Map using Modern Data\n",
    "\n",
    "Now, we will be recreating the figure above with 2020 data from the Census. As mentioned above, __[NHGIS](\"https://www.nhgis.org/\")__ provides historical data and shapefile for non-commercial use for free. Census data and shapefile are avaliable from the NHGIS. \n",
    "\n",
    "There are two updated datasets:\n",
    "* 2020 of Black population by state: data2020\n",
    "* Shapefile of state: US_state_2020.shp\n",
    "\n",
    "Try applying the 2020 data with the steps above in the following steps:\n",
    "* Step a: Read the csv file\n",
    "* Step b: Read the state 2020 shapefile and plot the map.\n",
    "* Step c: Merge the dataframe with the shapefile using key variable STATENAM.\n",
    "* Step d: Read dictionaries and functions for color and legend\n",
    "* Step e: Plot a choropleth map with Du Bois colors\n",
    "* Step f: Plot a choropleth map with Du Bois colors with background\n",
    "* Step g: Plot a choropleth map with Du Bois colors with background and legend"
   ]
  },
  {
   "cell_type": "markdown",
   "id": "79077445-ea7a-4641-a61c-5783e77a4b4d",
   "metadata": {},
   "source": [
    "<details> <summary><strong>**Answer:** </strong></summary>\n",
    "\n",
    "```df = pd.read_csv(fp_data)```\n",
    "    \n",
    "```df.head()```\n",
    "    \n",
    "</details>"
   ]
  },
  {
   "cell_type": "code",
   "execution_count": null,
   "id": "d50d91e7-34dc-4605-8b36-d20eab0e12e5",
   "metadata": {},
   "outputs": [],
   "source": [
    "#Step a: Read the csv file\n",
    "fp_data=\"https://github.com/HigherEdData/Du-Bois-STEM/raw/refs/heads/main/data/d_2020.csv\"\n",
    "df = ___.read_csv(fp_data)\n",
    "df.head()"
   ]
  },
  {
   "cell_type": "markdown",
   "id": "5911756c-14a9-4e52-98c1-2b4ef7571d65",
   "metadata": {},
   "source": [
    "<details> <summary><strong>**Answer:** </strong></summary>\n",
    "\n",
    "```gdf = gpd.read_file(fp_map)```\n",
    "    \n",
    "```gdf.head()```\n",
    "    \n",
    "```gdf.plot()```\n",
    "    \n",
    "</details>"
   ]
  },
  {
   "cell_type": "code",
   "execution_count": null,
   "id": "7148e525-776d-4f0e-bfcb-297063e5066e",
   "metadata": {},
   "outputs": [],
   "source": [
    "#Step b: Read the state 2020 shapefile and plot the map.\n",
    "fp_map=\"https://github.com/HigherEdData/Du-Bois-STEM/raw/refs/heads/main/data/us_state_2020/us_state_2020_reduced.shp\"\n",
    "gdf = ___.read_file(fp_map)\n",
    "gdf.head()"
   ]
  },
  {
   "cell_type": "code",
   "execution_count": null,
   "id": "76134ca3-dd36-40af-a3a6-0901ddd3f647",
   "metadata": {},
   "outputs": [],
   "source": [
    "___.plot()"
   ]
  },
  {
   "cell_type": "markdown",
   "id": "807b65f1-0506-44ee-8e97-119dc7397acd",
   "metadata": {},
   "source": [
    "<details> <summary><strong>**Answer:** </strong></summary>\n",
    "\n",
    "```gdf_recreate = gdf.merge(df, on='STATENAM')```\n",
    "```gdf_recreate.head()```\n",
    "    \n",
    "</details>"
   ]
  },
  {
   "cell_type": "code",
   "execution_count": null,
   "id": "03a3af26-fb7a-4d32-803b-b06073779a15",
   "metadata": {},
   "outputs": [],
   "source": [
    "#Step c: Merge the dataframe with the shapefile using STATENAM\n",
    "gdf_recreate = gdf.merge(df, on='___')\n",
    "gdf_recreate.head()"
   ]
  },
  {
   "cell_type": "code",
   "execution_count": null,
   "id": "b9c153ee-7a64-41e0-94bd-8b039b9915bb",
   "metadata": {},
   "outputs": [],
   "source": [
    "#* Step d: Read dictionaries and functions for color and legend\n",
    "#This is a dictionary of color labels to HEX numbers.\n",
    "dubois_colors = {\n",
    "    'black': '#000000',\n",
    "    'brown': '#654321',\n",
    "    'tan': '#d2b48c',\n",
    "    'gold': '#ffd700',\n",
    "    'pink': '#ffc0cb',\n",
    "    'crimson': '#dc143c',\n",
    "    'green': '#00aa00',\n",
    "    'blue': '#4682b4',\n",
    "    'purple': '#7e6583',\n",
    "    'bg': '#FAF0E6',\n",
    "    'white': '#ffffff',\n",
    "    'lightgrey':  '#d3d3d3',\n",
    "}\n",
    "\n",
    "#This is a dictionary links Population categories with color labels\n",
    "color_map = {\n",
    "    'UNDER - 10,000': dubois_colors['lightgrey'],\n",
    "    '10,000 - 25,000': dubois_colors['gold'],\n",
    "    '25,000 - 50,000': dubois_colors['pink'],\n",
    "    '50,000 - 100,000': dubois_colors['crimson'],\n",
    "    '100,000 - 200,000': dubois_colors['tan'],\n",
    "    '200,000 - 300,000': dubois_colors['blue'],\n",
    "    '300,000 - 500,000': dubois_colors['brown'],\n",
    "    '500,000 - 600,000': dubois_colors['white'],\n",
    "    '600,000 - 750,000': dubois_colors['white'],\n",
    "    '750,000 AND OVER': dubois_colors['black'],  \n",
    "}\n",
    "\n",
    "#This is dictionary of category labels\n",
    "range_map = {\n",
    "    'UNDER - 10,000': 'UNDER - 10,000',\n",
    "    '10,000 - 25,000': '10,000 - 25,000',\n",
    "    '25,000 - 50,000': '25,000 - 50,000',\n",
    "    '50,000 - 100,000': '50,000 - 100,000',\n",
    "    '100,000 - 200,000': '100,000 - 200,000',\n",
    "    '200,000 - 300,000': '200,000 - 300,000',\n",
    "    '300,000 - 500,000': '300,000 - 500,000',\n",
    "    '500,000 - 600,000': '500,000 - 600,000',\n",
    "    '600,000 - 750,000': '600,000 - 750,000',\n",
    "    '750,000 AND OVER': '750,000 BLACK POP AND OVER'\n",
    "}\n",
    "\n",
    "def map_colors(value):\n",
    "    if value not in color_map:\n",
    "        return 'white'\n",
    "    \n",
    "    return color_map[value]\n",
    "\n",
    "gdf_recreate['colors pop'] = gdf_recreate.apply(lambda row: map_colors(row['blkpop_cat']), axis=1)\n",
    "\n",
    "# preview colour data\n",
    "gdf_recreate.head()"
   ]
  },
  {
   "cell_type": "markdown",
   "id": "2af321df-da51-48d0-ab52-b1c2cf3c72e0",
   "metadata": {},
   "source": [
    "<details> <summary><strong>**Answer:** </strong></summary>\n",
    "\n",
    "```facecolor=dubois_colors['bg']```\n",
    "    \n",
    "```gdf_recreate.plot(ax=axes[0], color=gdf_recreate['colors pop'], edgecolor='grey', lw=.2)```\n",
    "    \n",
    "</details>"
   ]
  },
  {
   "cell_type": "code",
   "execution_count": null,
   "id": "0306de08-cba4-4cc5-a789-596f0f570d9e",
   "metadata": {},
   "outputs": [],
   "source": [
    "#Step f: Plot a choropleth map with Du Bois colors with background\n",
    "fig, (axs) = plt.subplots(\n",
    "    2,\n",
    "    1,\n",
    "    figsize=(11,14),         \n",
    "    gridspec_kw={\n",
    "        'wspace': -0.15,\n",
    "        'hspace': -.15},\n",
    "    facecolor=dubois_colors['__'] #1: fill in the background color\n",
    ")\n",
    "\n",
    "axes = axs.flat\n",
    "\n",
    "gdf_recreate.plot(ax=axes[0], color=gdf_recreate['_______'], edgecolor='grey', lw=.2)  #2: fill in the categorical variable 'colors pop' \n",
    "gdf_recreate[gdf_recreate[\"blkpop_cat\"] == \"600,000 - 750,000\"].plot(ax=axes[0], facecolor=\"white\", hatch=\"+++++\")\n",
    "\n",
    "fig.suptitle(r\"RELATIVE BLACK POPULATION OF THE STATES OF THE\" \"\\n\" \"UNITED STATES, 2020\", y=.98, fontsize=20)\n",
    "axs[0].text(-900000,2200000, r'Recreated by ______', fontsize=10) #3: add your name"
   ]
  },
  {
   "cell_type": "markdown",
   "id": "c084172a-11e5-42e2-a917-3a2773712c0e",
   "metadata": {},
   "source": [
    "<details> <summary><strong>**Answer:** </strong></summary>\n",
    "\n",
    "```axes[1].add_patch(plt.Rectangle((0.6, index-.5), .035,.35, facecolor=color_map[color], edgecolor='black'))```\n",
    "    \n",
    "```ax.axis('off')```\n",
    "    \n",
    "</details>"
   ]
  },
  {
   "cell_type": "code",
   "execution_count": null,
   "id": "7850c3cf-8e8d-435a-8601-6749a49bfdd9",
   "metadata": {},
   "outputs": [],
   "source": [
    "#Step g: Plot a choropleth map with Du Bois colors with background and legend\n",
    "fig, (axs) = plt.subplots(\n",
    "    2,\n",
    "    1,\n",
    "    figsize=(11,14),        \n",
    "    gridspec_kw={\n",
    "        'wspace': -0.15,\n",
    "        'hspace': -.15},\n",
    "    facecolor=dubois_colors['bg']\n",
    ")\n",
    "\n",
    "axes = axs.flat\n",
    "\n",
    "gdf_recreate.plot(ax=axes[0], color=gdf_recreate['colors pop'], edgecolor='grey', lw=.2)\n",
    "gdf_recreate[gdf_recreate[\"blkpop_cat\"] == \"600,000 - 750,000\"].plot(ax=axes[0], facecolor=\"white\", hatch=\"+++++\")\n",
    "\n",
    "axs[1].set_xlim(0, 1)\n",
    "axs[1].set_ylim(-1, 5)\n",
    "axs[0].set_ylim(-1500000, 2500000)\n",
    "\n",
    "for index, color in enumerate(color_map):\n",
    "    if index < 5:\n",
    "        axes[1].add_patch(plt.Rectangle((0.6, index-.5), .035,.35, facecolor=color_map[color], edgecolor='___')) #1: Fill in 'black' for edgecolor\n",
    "        axes[1].annotate(range_map[color], (.65,index-.35))\n",
    "    elif index == 7:\n",
    "        axes[1].add_patch(plt.Rectangle((0.2, index-5.5), .035,.35, hatch=7*chr(92), facecolor=color_map[color], edgecolor='black'))\n",
    "        axes[1].annotate(range_map[color], (.25,index-5.35))\n",
    "    elif index == 8:\n",
    "        axes[1].add_patch(plt.Rectangle((0.2, index-5.5), .035,.35, hatch='+++++', facecolor=color_map[color], edgecolor='black'))\n",
    "        axes[1].annotate(range_map[color], (.25,index-5.35))\n",
    "    else:\n",
    "        axes[1].add_patch(plt.Rectangle((0.2, index-5.5), .035,.35, facecolor=color_map[color], edgecolor='black'))\n",
    "        axes[1].annotate(range_map[color], (.25,index-5.35))\n",
    "\n",
    "for ax in axes:\n",
    "    ax.axis('___') #2: Fill in 'off' to turn off the axes\n",
    "    \n",
    "fig.suptitle(r\"RELATIVE BLACK POPULATION OF THE STATES OF THE\" \"\\n\" \"UNITED STATES, 2020\", y=.98, fontsize=20)\n",
    "axs[0].text(-900000,2900000, r'Recreated by ______', fontsize=10) #3: add your name"
   ]
  },
  {
   "cell_type": "markdown",
   "id": "5258c436-43a6-4c8b-9940-93fc7dead511",
   "metadata": {
    "tags": []
   },
   "source": [
    "### 13. Export a final HTML file of your Notebook\n",
    "\n",
    "Now that you're done, remember to export a final HTML file showing your work and displaying your name within the visualizations you created.\n",
    "\n",
    "As noted above, you can export the Notebook by clicking the **File** dropdown above, selecting **Export File As** and then selecting **HTML** as shown here:\n",
    "<div>\n",
    "<img src=\"https://github.com/HigherEdData/Du-Bois-STEM/blob/main/readings-images/htmlexport.jpg?raw=true\" width=\"500\" />\n",
    "</div>"
   ]
  },
  {
   "cell_type": "markdown",
   "id": "77bd8755-fbf2-4a7a-8624-31368c5d30e1",
   "metadata": {},
   "source": [
    "# More Resources and References\n",
    "\n",
    "Github Repository for the #DuboisChallenge2024\n",
    "https://github.com/ajstarks/dubois-data-portraits/blob/master/challenge/2024/README.md\n",
    "\n",
    "Du Bois Challenge 2024 Recap\n",
    "https://speakerdeck.com/ajstarks/du-bois-challenge-2024-recap\n",
    "\n",
    "2024 Du Bois Challenge using R Programming.\n",
    "https://medium.com/illumination/2024-du-bois-challenge-using-r-programming-02af8afa5626\n",
    "\n",
    "Developing Du Bois’s Data Portraits with Python and Matplotlib\n",
    "https://www.edriessen.com/2024/02/07/developing-du-boiss-data-portraits-with-python-and-matplotlib/\n",
    "\n",
    "Three Tricks I Learned In The Du Bois Data Visualization Challenge\n",
    "https://nightingaledvs.com/recreating-historical-dataviz-three-tricks-i-learned-in-the-du-bois-data-visualization-challenge/\n",
    "\n",
    "Molly Kuhs Du Bois Challenge repo\n",
    "https://github.com/makuhs/DuboisChallenge\n",
    "\n",
    "#DuBoisChallenge2024 using Python and Matplotlib\n",
    "https://github.com/edriessen/dubois24-python-matplotlib\n",
    "\n",
    "#DuboisChallenge2024 using R\n",
    "https://github.com/sndaba/2024DuBoisChallengeInRstats/tree/main\n",
    "\n",
    "#DuboisChallenge2024 using Tableau\n",
    "https://public.tableau.com/app/profile/camaal.moten7357/vizzes"
   ]
  }
 ],
 "metadata": {
  "kernelspec": {
   "display_name": "Python 3 (ipykernel)",
   "language": "python",
   "name": "python3"
  },
  "language_info": {
   "codemirror_mode": {
    "name": "ipython",
    "version": 3
   },
   "file_extension": ".py",
   "mimetype": "text/x-python",
   "name": "python",
   "nbconvert_exporter": "python",
   "pygments_lexer": "ipython3",
   "version": "3.11.5"
  }
 },
 "nbformat": 4,
 "nbformat_minor": 5
}
