{
 "cells": [
  {
   "cell_type": "markdown",
   "id": "95e2a4ab-877f-4ffe-8b35-2ef768b90989",
   "metadata": {},
   "source": [
    "# **Implement** a Du Bois Bar Graph with Python:\n",
    "\n",
    "## Black Literacy After Emancipation\n",
    "\n",
    "<div>\n",
    "<img src=\"https://github.com/HigherEdData/Du-Bois-STEM/blob/main/readings-images/original-plate-47.jpg?raw=true\" width=\"700\" />\n",
    "</div>"
   ]
  },
  {
   "cell_type": "markdown",
   "id": "7db0fa1d-6474-45b8-912f-415a764273ae",
   "metadata": {},
   "source": [
    "### This interactive exercise is inspired by the annual #DuBoisChallenge\n",
    "\n",
    "The #DuBoisChallenge is a call to scientists, students, and community members to recreate, adapt, and share on social media the data visualzations created by W.E.B. Du Bois and his collaborators in 1900. Before doing the interactive exercise, please read this article about the Du Bois Challenge: **[here](https://nightingaledvs.com/the-dubois-challenge/)** . You can find the latest Du Bois visualizations by searching for the **[#DuBoisChallenge2025](https://x.com/ajstarks/status/1886397437025067162)** hash tag on social (Twitter, Bluesky, Insta etc). And you can even use the hashtag to share your own recreations.\n",
    "\n",
    "### In this interactive excercise, you will:\n",
    "\n",
    "1. Learn how to create a variation of a **bar graph.**\n",
    "2. Learn and modify code in the statistical programming lanugage **Python**.\n",
    "3. Learn how to write statistical code to:\n",
    "    * create visualizations that consistently and accurately represent your data\n",
    "    * create a transparent record of exactly how you visualized something\n",
    "    * make it easy for you or others to recreate or modify your visualization\n",
    "4. Export an HTML file of your completed Notebook that your instructor may ask you to submit. \n",
    "\n",
    "### You will learn how to use the *Python* statistical programming language by creating two graphs:\n",
    "\n",
    "1. You will recreate Du Bois' visualization of Black illiteracy rates in the US compared to illiteracy rates in other countries. Du Bois created the visualization in 1900.\n",
    "\n",
    "2. You will reproduce Du Bois' visualization using data on Black college attainment in the US today. This aligns with how Du Bois saw mass education as one important strategy for furthering and deepining emancipation for Black Americans and others.\n",
    "\n",
    "3. An important context of Du Bois's graph of Black illiteracy is that literacy was illegal for enslaved people in the U.S. until emancipation and the Confederacy's defeat during the Civil War.  illiteracy then declined rapidly as Black Americans sought to empower themselves through education. Du Bois plotted this decline in illiteracty with the following graph:\n",
    "\n",
    "<div>\n",
    "<img src=\"https://github.com/ajstarks/dubois-data-portraits/blob/master/plate14/original-plate-14.jpg?raw=true\" width=\"700\" />\n",
    "</div>"
   ]
  },
  {
   "cell_type": "markdown",
   "id": "3b4ef76f-21c7-4041-b31f-6f26f700d725",
   "metadata": {},
   "source": [
    "### 1. How to use this interactive **Jupyter Notebook**\n",
    "\n",
    "If you have Jupyter Lab, you can also download this Notebook to use it on your own computer. You can download the Notebook or view a non-interactive version of this Notebook by clicking **[here](https://github.com/HigherEdData/Du-Bois-STEM/blob/main/r_literacy_dubois.ipynb)**.\n",
    "\n",
    "To use this Notebook interactively, Grey cells in the *Notebook* like the one below are **code cells** where you will write and edit **Python** Code. To try it out:\n",
    "\n",
    "1. Click your cursor on the grey cell below. After you click on it, it will change to white to indicate you are editing it.\n",
    "2. After you click on the cell below and it turns white. Type ```2+2``` to use Python as a calculator.\n",
    "3. After typing ```print(2+2)```, click the <span class=\"play-button\">&#9654;</span> *play button* at the top of this page."
   ]
  },
  {
   "cell_type": "code",
   "execution_count": 1,
   "id": "db008b5d-d52c-48a6-81d1-7ccade1e292c",
   "metadata": {},
   "outputs": [
    {
     "name": "stdout",
     "output_type": "stream",
     "text": [
      "4\n"
     ]
    }
   ],
   "source": [
    "print(2+2)"
   ]
  },
  {
   "cell_type": "markdown",
   "id": "32bb4241-9ce1-4c00-9203-495a9bfc816b",
   "metadata": {},
   "source": [
    "### 2. Keeping track of your work and using R outside of this notebook.\n",
    "\n",
    "If you leave this Notebook idle or close and and re-open it, you're work will not be saved in the Notebook. But you can export an HTML file showing your work at any time. You can then open and browse the HTML file in any web browser.\n",
    "\n",
    "And after completing the Notebook exercises, you can export a final HTML file to submit for any course assignments using this Notebook.\n",
    "\n",
    "To export the Notebook, click the **File** dropdown above, select **Export File As** and then select **HTML** as shown here:\n",
    "\n",
    "<div>\n",
    "<img src=\"https://github.com/HigherEdData/Du-Bois-STEM/blob/main/readings-images/htmlexport.jpg?raw=true\" width=\"500\" />\n",
    "</div>"
   ]
  },
  {
   "cell_type": "markdown",
   "id": "bf244fcc-30d0-494a-a983-395db2efddd2",
   "metadata": {},
   "source": [
    "### 3. Getting hints and answers.\n",
    "\n",
    "Sometimes, the code cells will already have code in them that you will be asked to edit or run by clicking the play button. In the process, you can click on <span class=\"play-button\">&#9654;</span> dropdown buttons like the ones below to get hints and answers. For example:\n",
    "1. Click on the cell below with ```print(3+3=)``` and click the play triangle above. You should get an error message highlighted in pink\". To complete this activity, you'll want to get each code cell to run without a pink error message.\n",
    "2. Based on the ```print(2+2)``` code you tried above, try to edit the ```print(3+3=)``` code to get it to report the sum of 3+3 without the error message. For a hint, click the first <span class=\"play-button\">&#9654;</span> button below."
   ]
  },
  {
   "cell_type": "markdown",
   "id": "b9b777af-a88e-4787-b987-3f002f878fe7",
   "metadata": {},
   "source": [
    "<details> <summary>Click this triangle for a hint.</summary>\n",
    "\n",
    "Try deleting the ```=``` sign in the cell and click play again. If that doesn't work, click the next triangle below for the answer.\n",
    "\n",
    "</details>"
   ]
  },
  {
   "cell_type": "markdown",
   "id": "a126938f-c290-4344-bd68-c2cfbee6f4a9",
   "metadata": {},
   "source": [
    "<details> <summary>Click this triangle for the answer.</summary>\n",
    "\n",
    "**Answer:** Delete all the text in the cell below and write or paste this answer in the cell: ```print(3+3)``` before clicking play again.\n",
    "\n",
    "</details>"
   ]
  },
  {
   "cell_type": "code",
   "execution_count": 2,
   "id": "cec5df4b-2de5-48e0-aa33-d27425f6f389",
   "metadata": {},
   "outputs": [
    {
     "name": "stdout",
     "output_type": "stream",
     "text": [
      "6\n"
     ]
    }
   ],
   "source": [
    "print(3+3)"
   ]
  },
  {
   "cell_type": "markdown",
   "id": "2c393712-1116-41de-8348-00afb6db13bc",
   "metadata": {},
   "source": [
    "### 4. Reading and writing comments that explain your code\n",
    "\n",
    "In code cells, we can write **comment** text that explains our code. We put a ```# ``` before **comment** text to tell R that the text is not code it should execute. Any text after a ```# ``` on a given line will be treated as a comment. In Jupyter, **comment** text after a ```# ``` will be displayed in a dark turquois color. To see how this works, try the following below:\n",
    "\n",
    "1. Try to run the code below. You should get an error message because the comment text ```This is code that adds 2+2``` is not R code and doesn't have a ```# ``` sign in front of it.\n",
    "2. Add a ```# ``` sign before ```This is code that adds 2+2```. This should change the color of the text to turquois like the text after the ```print(2+2)``` where there is already a ```# ``` sign.\n",
    "3. Click the <span class=\"play-button\">&#9654;</span> at the top of the notebook and the code should run and output **4** below."
   ]
  },
  {
   "cell_type": "code",
   "execution_count": 3,
   "id": "c14cc970-3251-4dd2-80a0-8eceadcd51f2",
   "metadata": {},
   "outputs": [
    {
     "name": "stdout",
     "output_type": "stream",
     "text": [
      "4\n"
     ]
    }
   ],
   "source": [
    "# This is code that adds 2+2\n",
    "\n",
    "print(2+2) # the result of 2 +2 should be 4"
   ]
  },
  {
   "cell_type": "markdown",
   "id": "942f888e-a0d3-44f6-b4d5-8b23f2f5cb3e",
   "metadata": {},
   "source": [
    "### 5. Reading Du Bois' data into an Python Data Frame\n",
    "\n",
    "The first step for data visualization in **Python** is to **read** the data into an table, which is typically called a **dataframe** in python. This is like double clicking a file to open it in other computer programs. But with **Python**, we use code.\n",
    "\n",
    "For this exercise, we're going to import data from a website. And we're going to place the data into a dataframe named **d_literacy_country**.\n",
    "\n",
    "To to this, we will execute 5 lines of code that:\n",
    "\n",
    "1. Import the **pandas** library of python code with functions for working with tables and dataframes. The code to import the library is: ```import pandas as pd```. \n",
    "2. While we're at it, import the **matplotlib.pyplot** library with functions for creating data visualizations from our dataframes. We'll use these functions to create our barchart next.\n",
    "3. Create a url variable that contains the url address where our dataset is located on Github with the code:\n",
    "```url = \"web_address_with_data/data_file_name.csv\")```\n",
    "4. We read the data into our d_literacy_country **data frame** from the .csv file at our url with the code: ```d_literacy_country = pd.read_csv(url)```. ```pd``` tells python that the ```read_csv``` function is from our **pandas** library.\n",
    "5. Finally, on a seprate line, we just write the name of our dataframe ```d_literacy_country```. This creates a scrollable table to browse our data.\n",
    "\n",
    "To do this yourself, replace the ```____``` portion of the code below to add the ```read_csv``` function and then press the <span class=\"play-button\">&#9654;</span> above."
   ]
  },
  {
   "cell_type": "code",
   "execution_count": 4,
   "id": "1fe39521-40b4-408a-b6ec-f54aee576a49",
   "metadata": {},
   "outputs": [
    {
     "data": {
      "text/html": [
       "<div>\n",
       "<style scoped>\n",
       "    .dataframe tbody tr th:only-of-type {\n",
       "        vertical-align: middle;\n",
       "    }\n",
       "\n",
       "    .dataframe tbody tr th {\n",
       "        vertical-align: top;\n",
       "    }\n",
       "\n",
       "    .dataframe thead th {\n",
       "        text-align: right;\n",
       "    }\n",
       "</style>\n",
       "<table border=\"1\" class=\"dataframe\">\n",
       "  <thead>\n",
       "    <tr style=\"text-align: right;\">\n",
       "      <th></th>\n",
       "      <th>country</th>\n",
       "      <th>illiteracy</th>\n",
       "    </tr>\n",
       "  </thead>\n",
       "  <tbody>\n",
       "    <tr>\n",
       "      <th>0</th>\n",
       "      <td>Roumanie</td>\n",
       "      <td>72.936300</td>\n",
       "    </tr>\n",
       "    <tr>\n",
       "      <th>1</th>\n",
       "      <td>Servie</td>\n",
       "      <td>72.290800</td>\n",
       "    </tr>\n",
       "    <tr>\n",
       "      <th>2</th>\n",
       "      <td>Russie</td>\n",
       "      <td>72.290800</td>\n",
       "    </tr>\n",
       "    <tr>\n",
       "      <th>3</th>\n",
       "      <td>Negroes, U.S.A.</td>\n",
       "      <td>56.800000</td>\n",
       "    </tr>\n",
       "    <tr>\n",
       "      <th>4</th>\n",
       "      <td>Hongrie</td>\n",
       "      <td>55.509000</td>\n",
       "    </tr>\n",
       "    <tr>\n",
       "      <th>5</th>\n",
       "      <td>Italie</td>\n",
       "      <td>43.890900</td>\n",
       "    </tr>\n",
       "    <tr>\n",
       "      <th>6</th>\n",
       "      <td>Autriche</td>\n",
       "      <td>34.854500</td>\n",
       "    </tr>\n",
       "    <tr>\n",
       "      <th>7</th>\n",
       "      <td>Ireland</td>\n",
       "      <td>25.172700</td>\n",
       "    </tr>\n",
       "    <tr>\n",
       "      <th>8</th>\n",
       "      <td>France</td>\n",
       "      <td>12.909100</td>\n",
       "    </tr>\n",
       "    <tr>\n",
       "      <th>9</th>\n",
       "      <td>Suede</td>\n",
       "      <td>0.645454</td>\n",
       "    </tr>\n",
       "  </tbody>\n",
       "</table>\n",
       "</div>"
      ],
      "text/plain": [
       "           country  illiteracy\n",
       "0         Roumanie   72.936300\n",
       "1           Servie   72.290800\n",
       "2           Russie   72.290800\n",
       "3  Negroes, U.S.A.   56.800000\n",
       "4          Hongrie   55.509000\n",
       "5           Italie   43.890900\n",
       "6         Autriche   34.854500\n",
       "7          Ireland   25.172700\n",
       "8           France   12.909100\n",
       "9            Suede    0.645454"
      ]
     },
     "execution_count": 4,
     "metadata": {},
     "output_type": "execute_result"
    }
   ],
   "source": [
    "# Import the pandas  library to work with tabular data (spreadsheets, CSV files, etc.)\n",
    "import pandas as pd\n",
    "\n",
    "# Import the matplotlib library to create charts and graphs\n",
    "import matplotlib.pyplot as plt\n",
    "\n",
    "# Load the data from a web link into a table (DataFrame)\n",
    "url = \"https://raw.githubusercontent.com/HigherEdData/Du-Bois-STEM/refs/heads/main/data/d_literacy_country.csv\"\n",
    "d_literacy_country = pd.read_csv(url)  # Read the CSV file into a DataFrame\n",
    "\n",
    "\n",
    "d_literacy_country"
   ]
  },
  {
   "cell_type": "markdown",
   "id": "9242e6e1-8ad1-4a6a-8b31-7e35066419dc",
   "metadata": {},
   "source": [
    "### 6. Creating a Bar Graph\n",
    "\n",
    "After successfully displaying the data above, you should be able to see that it has data in two columns. Each column is a **variable**:\n",
    "* **country** is a country name for 10 countries with Black people in the U.S. treated as a country.\n",
    "* **illiteracy** containts percent of people in each country who are illiterate.\n",
    "\n",
    "As a first step, we will create a **bar graph** of the data using the shortest code possible. The code will:\n",
    "1. repeat the code below that we wrote above to **import** the Du Bois illiteracy data and load the pandas and matplotlib libraries.\n",
    "2. Add a line of code that uses the **subplots** function of matplot lib to set up the overall figure (**fig**) to contain an **ax** subplot object that will generate our bargraph by using an **ax** class of of matplotlib functions (ax is short for the x and y axes of plot). The code sets with a figure width of 11 and a height of 14 to match Du Bois' dimensions. The code also sets the background color to be **antiquewhite** to resemble Du Bois: ```fig, ax = plt.subplots(figsize=(11, 14), facecolor=\"antiquewhite\")```. ```plt``` again designates the function is from the matplot lib library.\n",
    "3. Add a line of code that executes a **barh** (bar horizontal chart) from the **ax** class of matplotlib functions to create the bargraph withhin the **ax** object ```ax.barh``` followed by open parenthese.\n",
    "4. On the line below the open parentheses, we tell Python the dataframe (d_literacy_country) and the variable from which we are plotting separate bars by country along the y-axis.\n",
    "5. On the last line, we tell Python the dataframe (d_literacy_country) and the variable of the values for the length of each bar across the x-axis.\n",
    "\n",
    "After reviewing the Du Bois' version of the graph above, fill in the ```_____``` characters in the code cell with the correct variable name for the y-axis variable and the x-axis variable to recreate Du Bois' graph."
   ]
  },
  {
   "cell_type": "markdown",
   "id": "930a05b9-7850-4831-998a-d3ebdf3ce22c",
   "metadata": {},
   "source": [
    "<details> <summary><strong>Hint:</strong></summary>\n",
    "\n",
    "Du Bois plotted ```illiteracy``` on the x-axis and ```country``` name on the y-axis.\n",
    "\n",
    "</details>"
   ]
  },
  {
   "cell_type": "markdown",
   "id": "9712f501-6701-4dfa-8019-949b288752b7",
   "metadata": {},
   "source": [
    "<details> <summary><strong>Answer:</strong></summary>\n",
    "\n",
    "2nd line of code from the bottom should be: ```d_literacy_country[\"country\"],```  \n",
    "\n",
    "the 3rd line of code from the bottom should be ```d_literacy_country[\"illiteracy\"]```\n",
    "\n",
    "</details>"
   ]
  },
  {
   "cell_type": "code",
   "execution_count": 5,
   "id": "77956165-5646-4ca7-869e-57b52c9cc022",
   "metadata": {},
   "outputs": [
    {
     "data": {
      "text/plain": [
       "<BarContainer object of 10 artists>"
      ]
     },
     "execution_count": 5,
     "metadata": {},
     "output_type": "execute_result"
    },
    {
     "data": {
      "image/png": "[encoded data removed]",
      "text/plain": [
       "<Figure size 792x1008 with 1 Axes>"
      ]
     },
     "metadata": {},
     "output_type": "display_data"
    }
   ],
   "source": [
    "# Import the pandas and matplotlib libraries\n",
    "import pandas as pd\n",
    "import matplotlib.pyplot as plt\n",
    "\n",
    "# Load the data from a web link into a table (DataFrame)\n",
    "url = \"https://raw.githubusercontent.com/HigherEdData/Du-Bois-STEM/refs/heads/main/data/d_literacy_country.csv\"\n",
    "d_literacy_country = pd.read_csv(url)  # Read the CSV file into a DataFrame\n",
    "\n",
    "# Set up the figure (overall chart area) with a background color\n",
    "# Include an ax (short for x-by-y axes) subplot object in the figure set up\n",
    "fig, ax = plt.subplots(figsize=(11, 14), facecolor=\"antiquewhite\")\n",
    "\n",
    "# ✅ Use the barh matplotlib function to create a horizontal bar chart within the ax object\n",
    "ax.barh(\n",
    "    d_literacy_country[\"country\"],  #  (y-axis)\n",
    "    d_literacy_country[\"illiteracy\"],  # (x-axis)\n",
    ")"
   ]
  },
  {
   "cell_type": "markdown",
   "id": "6c8972fd-7ab5-46b8-8bcc-deeac56a2259",
   "metadata": {},
   "source": [
    "### 7. Ordering the Bars and Making the Bar for Black Americans a Different Color\n",
    "\n",
    "In the bar graph you created above, can you tell what order the bars for each country are sorted by?\n",
    "\n",
    "Du Bois sorts the bar for each country by its illiteracy rate from highest to lowest.\n",
    "\n",
    "Du Bois also graphs the illiteracy rate for Black Americans in a different color to make it easier to compare to other countries.\n",
    "\n",
    "To make these changes in your own graph, edit the code below to:\n",
    "1. Fill in the blank in the ```bar_colors = [\"red\" if country == \"_______\"``` line of code with the **\"Negroes, U.S.A.\"** text that Du Bois uses for the Black U.S. resident category. That will complete a line of code that creates a variable **bar_colors** that designates which color each bar should be.\n",
    "2. Fill in the blank of the ```color=__________,``` with the name of the new bar color variable you create. \n",
    "3. Fill in the blank in the ```ax.___________(),``` line of code with the **invert_yaxis** function. This will change bars to be sorted from the highest values to the lowest values for illiteracy."
   ]
  },
  {
   "cell_type": "markdown",
   "id": "999bfb94-96e4-455d-8247-a0f9f181558a",
   "metadata": {},
   "source": [
    "<details> <summary><strong>Hints:</strong></summary>\n",
    "\n",
    "```bar_colors``` is the name of the variable created that contains the bar color for each bar.\n",
    "\n",
    "</details>"
   ]
  },
  {
   "cell_type": "markdown",
   "id": "8fd3f73f-691b-4380-8c8d-392f752bb8e6",
   "metadata": {},
   "source": [
    "<details> <summary><strong>Answer:</strong></summary>\n",
    "\n",
    "Use copy and paste to change your bottom lines of code to be:\n",
    "\n",
    "```python\n",
    "bar_colors = [\"red\" if country == \"Negroes, U.S.A.\" else \"darkgreen\" for country in d_literacy_country[\"country\"]]\n",
    "        \n",
    "# ✅ Create a horizontal bar plot centered in the figure\n",
    "ax.barh(\n",
    "    d_literacy_country[\"country\"], \n",
    "    d_literacy_country[\"illiteracy\"], \n",
    "    color= bar_colors, \n",
    ")\n",
    "\n",
    "# Reverse the order of the y-axis to match ggplot (highest illiteracy at top)\n",
    "ax.invert_yaxis()\n",
    "```\n",
    "\n",
    "</details>"
   ]
  },
  {
   "cell_type": "code",
   "execution_count": 6,
   "id": "b5d98d2a-6795-41d1-bc71-1a3f364d00c5",
   "metadata": {},
   "outputs": [
    {
     "data": {
      "image/png": "[encoded data removed]",
      "text/plain": [
       "<Figure size 792x1008 with 1 Axes>"
      ]
     },
     "metadata": {},
     "output_type": "display_data"
    }
   ],
   "source": [
    "import pandas as pd\n",
    "import matplotlib.pyplot as plt\n",
    "\n",
    "# Load the data\n",
    "url = \"https://raw.githubusercontent.com/HigherEdData/Du-Bois-STEM/refs/heads/main/data/d_literacy_country.csv\"\n",
    "d_literacy_country = pd.read_csv(url)\n",
    "\n",
    "# Set up figure size and background color\n",
    "fig, ax = plt.subplots(figsize=(11, 14), facecolor=\"antiquewhite\")\n",
    "\n",
    "#  Create a bar_colors variable that contains \"red\" for the observations with \"Negroes, U.S.A.\" country category and dark green for others\n",
    "bar_colors = [\"red\" if country == \"Negroes, U.S.A.\" else \"darkgreen\" for country in d_literacy_country[\"country\"]]\n",
    "        \n",
    "# ✅ Create a horizontal bar plot centered in the figure\n",
    "ax.barh(\n",
    "    d_literacy_country[\"country\"], \n",
    "    d_literacy_country[\"illiteracy\"], \n",
    "    color= bar_colors, # apply red and green colors to the bars with the color bar color variable\n",
    ")\n",
    "\n",
    "# Reverse the order of the y-axis to match ggplot (highest illiteracy at top)\n",
    "ax.invert_yaxis()"
   ]
  },
  {
   "cell_type": "markdown",
   "id": "d05935ab-5530-400b-a78b-1bca960ddf2e",
   "metadata": {},
   "source": [
    "### 8. Change the bar thickness, plot background color, and country label font\n",
    "\n",
    "We're starting to get closer to Du Bois' graph. But the bars are still a little too thick and the plot background is white instead of antiquewhite. And the country label font is a sanserif font instead of the serif font used by Du Bois.\n",
    "\n",
    "To fix these things:\n",
    "1. Fill in the blank for a new line of code before the close paranthesis of the ```ax.barh(``` function: ```height= ___```. First try .1 and run the code. Then try .9 and run it. Then see if some value in between gives you a bar width close to Du Bois.\n",
    "2. Fill in the blank for a line of code ```ax.set_facecolor(\"___________\")``` at the bottom of the codecell to set the plot background color to antiquewhite.\n",
    "3. Fill in the blank for a line of code that sets the country y-tick labels to the **serif** font: ```plt.yticks(fontsize=10, fontname=\"________\")```  "
   ]
  },
  {
   "cell_type": "markdown",
   "id": "41d0dfb5-2432-4722-aa87-8140ee7fd21f",
   "metadata": {},
   "source": [
    "<details> <summary><strong>Hints:</strong></summary>\n",
    "\n",
    "```height=0.5``` will create a very thin line. Try a higher height number to get a bar thickness closer to Du Bois.\n",
    "    \n",
    "The ```antiquewhite``` color for the ```ax.set_facecolor``` function is all one word.\n",
    "\n",
    "</details>"
   ]
  },
  {
   "cell_type": "markdown",
   "id": "a052f8f1-9dc4-435f-86cd-00b22dd834b3",
   "metadata": {},
   "source": [
    "<details> <summary><strong>Answer:</strong></summary>\n",
    "\n",
    "The bar height line of code should be ```height=0.5```\n",
    "\n",
    "The plot color line of code should be ```ax.set_facecolor(\"antiquewhite\")```\n",
    "\n",
    "</details>"
   ]
  },
  {
   "cell_type": "code",
   "execution_count": 7,
   "id": "4f0282d6-1af9-478a-96c3-f1958672e7e6",
   "metadata": {},
   "outputs": [
    {
     "data": {
      "text/plain": [
       "([0, 1, 2, 3, 4, 5, 6, 7, 8, 9],\n",
       " [Text(0, 0, ''),\n",
       "  Text(0, 0, ''),\n",
       "  Text(0, 0, ''),\n",
       "  Text(0, 0, ''),\n",
       "  Text(0, 0, ''),\n",
       "  Text(0, 0, ''),\n",
       "  Text(0, 0, ''),\n",
       "  Text(0, 0, ''),\n",
       "  Text(0, 0, ''),\n",
       "  Text(0, 0, '')])"
      ]
     },
     "execution_count": 7,
     "metadata": {},
     "output_type": "execute_result"
    },
    {
     "data": {
      "image/png": "[encoded data removed]",
      "text/plain": [
       "<Figure size 792x1008 with 1 Axes>"
      ]
     },
     "metadata": {},
     "output_type": "display_data"
    }
   ],
   "source": [
    "import pandas as pd\n",
    "import matplotlib.pyplot as plt\n",
    "\n",
    "# Load the data from a web link into a table (DataFrame)\n",
    "url = \"https://raw.githubusercontent.com/HigherEdData/Du-Bois-STEM/refs/heads/main/data/d_literacy_country.csv\"\n",
    "d_literacy_country = pd.read_csv(url)  # Read the CSV file into a DataFrame\n",
    "\n",
    "fig, ax = plt.subplots(figsize=(11, 14), facecolor=\"antiquewhite\")\n",
    "\n",
    "bar_colors = [\"red\" if country == \"Negroes, U.S.A.\" else \"darkgreen\" for country in d_literacy_country[\"country\"]]\n",
    "\n",
    "# ✅ Create a horizontal bar chart\n",
    "ax.barh(\n",
    "    d_literacy_country[\"country\"],  # List of countries (y-axis)\n",
    "    d_literacy_country[\"illiteracy\"],  # Illiteracy rates (x-axis)\n",
    "    color=bar_colors,  # apply red and green colors to the bars with the color bar color variable\n",
    "    # fill in the blank below to set the bar height\n",
    "    height=0.5\n",
    ")\n",
    "\n",
    "# Flip the order of the y-axis so the highest illiteracy rate appears at the top\n",
    "ax.invert_yaxis()\n",
    "\n",
    "# Fill in the black below to set the plot background color to be the same as the overall figure\n",
    "ax.set_facecolor(\"antiquewhite\")\n",
    "\n",
    "# ✅ Make the country labels smaller and use a serif font\n",
    "plt.yticks(fontsize=10, fontname=\"serif\")  "
   ]
  },
  {
   "cell_type": "markdown",
   "id": "42bfb151-5d4d-4180-a358-bde0702b4970",
   "metadata": {},
   "source": [
    "### 9. Remove Ticks, Borders, and Labels for X-ticks\n",
    "\n",
    "The Du Bois graph has a cleaner look because it does not use ticks, borders, or x-axis lables (though the lack of x-axis labels makes it hard to know the levels represented by the illiteracy bars).\n",
    "\n",
    "To replicate these design choices by Du Bois, we:\n",
    "1. Add two lines of code that remove x-ticks and x-tick labels by designating an empty setting. You don't have to edit this code: \n",
    "```python\n",
    "ax.set_xticks([])\n",
    "ax.set_xlabel(\"\")\n",
    "```\n",
    "2. Fill in the blank for a new line of code that removes the y-axis ticks by the country names. ```ax.tick_params(axis=\"y\", left=_______)``` For this code to work, you need to set the left side ticks option to **False**. \n",
    "3. Add a final line of code that removes the borders, which are called spines in python / matplotlib. To make this code work, you need to fill in the blank to make the ```spine.set_visible(_______)``` function set to **False**"
   ]
  },
  {
   "cell_type": "markdown",
   "id": "442dd6ab-65f4-4eec-b41a-53188f0ded2b",
   "metadata": {},
   "source": [
    "<details> <summary><strong>Hints:</strong></summary>\n",
    "\n",
    "For the ```ax.tick_params(axis=\"y\", left=_______)``` function and the ```spine.set_visible(_______)``` function, setting the function to false requires writing **False** after the equal sign and within the parentheses. Be sure to capitalize the F.\n",
    "\n",
    "</details>"
   ]
  },
  {
   "cell_type": "markdown",
   "id": "9c46ac71-1f2e-4cae-b52c-08291edd8ae0",
   "metadata": {},
   "source": [
    "<details> <summary><strong>Answer:</strong></summary>\n",
    "\n",
    "Use copy and paste to change the bottom 2 lines of code to be:\n",
    "\n",
    "```Python\n",
    "ax.tick_params(axis=\"y\", left=False)  \n",
    "\n",
    "# Remove the chart border lines (spines) for a cleaner look\n",
    "for spine in ax.spines.values(): spine.set_visible(False)\n",
    "```\n",
    "\n",
    "</details>"
   ]
  },
  {
   "cell_type": "code",
   "execution_count": 8,
   "id": "9c34a0d5-4a25-47e0-a507-f45691c8c37d",
   "metadata": {},
   "outputs": [
    {
     "data": {
      "image/png": "[encoded data removed]",
      "text/plain": [
       "<Figure size 792x1008 with 1 Axes>"
      ]
     },
     "metadata": {},
     "output_type": "display_data"
    }
   ],
   "source": [
    "import pandas as pd\n",
    "import matplotlib.pyplot as plt\n",
    "\n",
    "# Load the data from a web link into a table (DataFrame)\n",
    "url = \"https://raw.githubusercontent.com/HigherEdData/Du-Bois-STEM/refs/heads/main/data/d_literacy_country.csv\"\n",
    "d_literacy_country = pd.read_csv(url)  # Read the CSV file into a DataFrame\n",
    "\n",
    "fig, ax = plt.subplots(figsize=(11, 14), facecolor=\"antiquewhite\")\n",
    "\n",
    "bar_colors = [\"red\" if country == \"Negroes, U.S.A.\" else \"darkgreen\" for country in d_literacy_country[\"country\"]]\n",
    "\n",
    "# ✅ Create a horizontal bar chart\n",
    "ax.barh(\n",
    "    d_literacy_country[\"country\"],  # List of countries (y-axis)\n",
    "    d_literacy_country[\"illiteracy\"],  # Illiteracy rates (x-axis)\n",
    "    color=bar_colors,  # apply red and green colors to the bars with the color bar color variable\n",
    "    # fill in the blank below to set the bar height\n",
    "    height=0.4\n",
    ")\n",
    "\n",
    "# Flip the order of the y-axis so the highest illiteracy rate appears at the top\n",
    "ax.invert_yaxis()\n",
    "\n",
    "# Fill in the black below to set the plot background color to be the same as the overall figure\n",
    "ax.set_facecolor(\"antiquewhite\")\n",
    "\n",
    "# ✅ Make the country labels smaller and use a serif font\n",
    "plt.yticks(fontsize=10, fontname=\"serif\")  \n",
    "\n",
    "# Remove x-axis ticks, labels\n",
    "ax.set_xticks([])\n",
    "ax.set_xlabel(\"\")\n",
    "\n",
    "# Remove small tick marks from the y-axis to match Du Bois\n",
    "ax.tick_params(axis=\"y\", left=False)  \n",
    "\n",
    "# Remove the chart border lines (spines) for a cleaner look\n",
    "for spine in ax.spines.values(): spine.set_visible(False)"
   ]
  },
  {
   "cell_type": "markdown",
   "id": "c404f6a9-952a-4684-8c0d-f97c0a8e11f0",
   "metadata": {},
   "source": [
    "### 10. Add Formatted Titles and Subtitles with Your Own Name\n",
    "\n",
    "We use the **subplots_adjust** function to adjust the position of the title. Then we use the the **fig.text** function to add a subtitle with smaller font size.\n",
    "\n",
    "To complete this step:\n",
    "1. Fill in the blank in the new line of code: ```plt.subplots_adjust(left=0.2, right=0.9, top=__, bottom=0.15)``` to set the top of the bar graph to be a 80% of the overal figure height from the bottom.\n",
    "2. For the title, fill in the blank in the first **fig.text** function specification ```fontsize=14, fontname=\"serif\", weight=\"____\", ha=\"____\"```  to set the weight of the text to **bold** and the ha (horizotal alignment) of the text to be **center**.\n",
    "3. For the subtitle, fill in the blank of the line containing the subtitle text for the second **fig.text** function: ```\"Recreated by ___________\",``` to add your own name. This will show that the graph was recreated by you!"
   ]
  },
  {
   "cell_type": "markdown",
   "id": "5c16f7f5-4f14-4fcc-95b4-2402f234bba1",
   "metadata": {},
   "source": [
    "<details> <summary><strong>Hints:</strong></summary>\n",
    "\n",
    "80% up the figure is a .8 proportion from the bottom of the figure.\n",
    "    \n",
    "The word **bold** can be directly used for the title weight. The word **center** can be directly used for the title horizonal alignment (ha)\n",
    "\n",
    "</details>"
   ]
  },
  {
   "cell_type": "code",
   "execution_count": 9,
   "id": "fdac3cd6-7fc7-4f80-a29e-e02cc1671794",
   "metadata": {},
   "outputs": [
    {
     "data": {
      "text/plain": [
       "Text(0.5, 0.85, \"Proportion d' illettrés parmi les Nègres Américains comparée à celle des autres nations.\\n\\nDone by Atlanta University.\\n\\nRecreated by STUDENT NAME HERE\")"
      ]
     },
     "execution_count": 9,
     "metadata": {},
     "output_type": "execute_result"
    },
    {
     "data": {
      "image/png": "[encoded data removed]",
      "text/plain": [
       "<Figure size 792x1008 with 1 Axes>"
      ]
     },
     "metadata": {},
     "output_type": "display_data"
    }
   ],
   "source": [
    "import pandas as pd\n",
    "import matplotlib.pyplot as plt\n",
    "\n",
    "# Load the data from a web link into a table (DataFrame)\n",
    "url = \"https://raw.githubusercontent.com/HigherEdData/Du-Bois-STEM/refs/heads/main/data/d_literacy_country.csv\"\n",
    "d_literacy_country = pd.read_csv(url)  # Read the CSV file into a DataFrame\n",
    "\n",
    "fig, ax = plt.subplots(figsize=(11, 14), facecolor=\"antiquewhite\")\n",
    "\n",
    "bar_colors = [\"red\" if country == \"Negroes, U.S.A.\" else \"darkgreen\" for country in d_literacy_country[\"country\"]]\n",
    "\n",
    "# ✅ Create a horizontal bar chart\n",
    "ax.barh(\n",
    "    d_literacy_country[\"country\"],  # List of countries (y-axis)\n",
    "    d_literacy_country[\"illiteracy\"],  # Illiteracy rates (x-axis)\n",
    "    color=bar_colors,  # apply red and green colors to the bars with the color bar color variable\n",
    "    # fill in the blank below to set the bar height\n",
    "    height=0.5\n",
    ")\n",
    "\n",
    "# Flip the order of the y-axis so the highest illiteracy rate appears at the top\n",
    "ax.invert_yaxis()\n",
    "\n",
    "# Fill in the black below to set the plot background color to be the same as the overall figure\n",
    "ax.set_facecolor(\"antiquewhite\")\n",
    "\n",
    "# ✅ Make the country labels smaller and use a serif font\n",
    "plt.yticks(fontsize=10, fontname=\"serif\")  \n",
    "\n",
    "# Remove x-axis ticks, labels\n",
    "ax.set_xticks([])\n",
    "ax.set_xlabel(\"\")\n",
    "\n",
    "# Remove small tick marks from the y-axis to match Du Bois\n",
    "ax.tick_params(axis=\"y\", left=False)  \n",
    "\n",
    "# Remove the chart border lines (spines) for a cleaner look\n",
    "for spine in ax.spines.values(): spine.set_visible(False)\n",
    "\n",
    "# ✅ Adjust position of the bar chart to make space for title\n",
    "plt.subplots_adjust(left=0.25, right=0.85, top=0.8, bottom=0.15)\n",
    "\n",
    "# ✅ Place the title in the margin ABOVE the subplot\n",
    "fig.text(\n",
    "    0.5, 0.95, # Position: .5 centers horizontally, .95 places at .85 proportion from the bottom\n",
    "    \"\\n\" # add a line of above the title so it's not to close to top edge\n",
    "    \"Illiteracy of the American Negroes compared with that of other nations.\",\n",
    "    fontsize=14, fontname=\"serif\", weight=\"bold\", ha=\"center\"\n",
    ")\n",
    "\n",
    "# ✅ Add a subtitle and center it across the figure\n",
    "fig.text(\n",
    "    0.5, 0.85,  # Position (.5 centers horizontally, .85 places it a .85 proportion from the bottom)\n",
    "    \"Proportion d' illettrés parmi les Nègres Américains comparée à celle des autres nations.\"\n",
    "    \"\\n\\n\" # add space between subtitle lines\n",
    "    \"Done by Atlanta University.\"\n",
    "    \"\\n\\n\"\n",
    "    \"Recreated by STUDENT NAME HERE\",\n",
    "    fontsize=12, fontname=\"serif\", ha=\"center\"\n",
    ")"
   ]
  },
  {
   "cell_type": "markdown",
   "id": "d04104c9-3260-45ac-a8b7-da932af00f6b",
   "metadata": {},
   "source": [
    "### 11. Change the Data to Read in and Display College Degree Holding By Country\n",
    "\n",
    "Now that you've written code to graph Du Bois' literacy data, you can use that same code to make bar graphs of other data in the same style.\n",
    "\n",
    "To see how this works, fill in the blank below to read in our **d_college_country.csv** dataset of college degree attainment rates today by country.\n",
    "\n",
    "Then the line of code **d_college_country** will display all of the country names and college attainment rates in the **d_college_country** dataframe.\n",
    "\n",
    "We obtained this data for the same countries that Du Bois graphed literacy in 1900.\n",
    "\n",
    "We obtained the country level data from the most recent data reported by the OECD here: https://www.oecd.org/en/topics/sub-issues/education-attainment.html\n",
    "\n",
    "We obtained the Black college attainment rate data for the U.S. from: https://www.luminafoundation.org/stronger-nation/report/#/progress/racial_equity"
   ]
  },
  {
   "cell_type": "markdown",
   "id": "4963d252-29c0-4efc-bdbd-e718e5ef4beb",
   "metadata": {},
   "source": [
    "<details> <summary><strong>Hints:</strong></summary>\n",
    "\n",
    "Make sure that you include our **d_** prefix in the filename and the dataframe name along with .csv at the end of the file name.\n",
    "\n",
    "</details>"
   ]
  },
  {
   "cell_type": "markdown",
   "id": "83833ad5-f575-414a-b730-f32db62724a7",
   "metadata": {},
   "source": [
    "<details> <summary><strong>Answer:</strong></summary>\n",
    "\n",
    "The first line of code should be:\n",
    "    \n",
    "```Python\n",
    "    url = \"https://raw.githubusercontent.com/HigherEdData/Du-Bois-STEM/refs/heads/main/data/d_college_country.csv\"\n",
    "```\n",
    "\n",
    "</details>"
   ]
  },
  {
   "cell_type": "code",
   "execution_count": 10,
   "id": "27eb4d9c-779b-437c-831d-3a753871db7b",
   "metadata": {},
   "outputs": [
    {
     "data": {
      "text/html": [
       "<div>\n",
       "<style scoped>\n",
       "    .dataframe tbody tr th:only-of-type {\n",
       "        vertical-align: middle;\n",
       "    }\n",
       "\n",
       "    .dataframe tbody tr th {\n",
       "        vertical-align: top;\n",
       "    }\n",
       "\n",
       "    .dataframe thead th {\n",
       "        text-align: right;\n",
       "    }\n",
       "</style>\n",
       "<table border=\"1\" class=\"dataframe\">\n",
       "  <thead>\n",
       "    <tr style=\"text-align: right;\">\n",
       "      <th></th>\n",
       "      <th>country</th>\n",
       "      <th>college</th>\n",
       "    </tr>\n",
       "  </thead>\n",
       "  <tbody>\n",
       "    <tr>\n",
       "      <th>0</th>\n",
       "      <td>Russia</td>\n",
       "      <td>60</td>\n",
       "    </tr>\n",
       "    <tr>\n",
       "      <th>1</th>\n",
       "      <td>Ireland</td>\n",
       "      <td>54</td>\n",
       "    </tr>\n",
       "    <tr>\n",
       "      <th>2</th>\n",
       "      <td>Sweden</td>\n",
       "      <td>49</td>\n",
       "    </tr>\n",
       "    <tr>\n",
       "      <th>3</th>\n",
       "      <td>France</td>\n",
       "      <td>42</td>\n",
       "    </tr>\n",
       "    <tr>\n",
       "      <th>4</th>\n",
       "      <td>Black U.S. Residents</td>\n",
       "      <td>36</td>\n",
       "    </tr>\n",
       "    <tr>\n",
       "      <th>5</th>\n",
       "      <td>Austria</td>\n",
       "      <td>36</td>\n",
       "    </tr>\n",
       "    <tr>\n",
       "      <th>6</th>\n",
       "      <td>Hungary</td>\n",
       "      <td>29</td>\n",
       "    </tr>\n",
       "    <tr>\n",
       "      <th>7</th>\n",
       "      <td>Serbia</td>\n",
       "      <td>28</td>\n",
       "    </tr>\n",
       "    <tr>\n",
       "      <th>8</th>\n",
       "      <td>Romania</td>\n",
       "      <td>20</td>\n",
       "    </tr>\n",
       "    <tr>\n",
       "      <th>9</th>\n",
       "      <td>Italy</td>\n",
       "      <td>20</td>\n",
       "    </tr>\n",
       "  </tbody>\n",
       "</table>\n",
       "</div>"
      ],
      "text/plain": [
       "                country  college\n",
       "0                Russia       60\n",
       "1               Ireland       54\n",
       "2                Sweden       49\n",
       "3                France       42\n",
       "4  Black U.S. Residents       36\n",
       "5               Austria       36\n",
       "6               Hungary       29\n",
       "7                Serbia       28\n",
       "8               Romania       20\n",
       "9                 Italy       20"
      ]
     },
     "execution_count": 10,
     "metadata": {},
     "output_type": "execute_result"
    }
   ],
   "source": [
    "import pandas as pd\n",
    "import matplotlib.pyplot as plt\n",
    "\n",
    "url = \"https://raw.githubusercontent.com/HigherEdData/Du-Bois-STEM/refs/heads/main/data/d_college_country.csv\"\n",
    "d_college_country = pd.read_csv(url)\n",
    "\n",
    "d_college_country"
   ]
  },
  {
   "cell_type": "markdown",
   "id": "d157370d-36b6-4efd-8f29-a7c513e486fb",
   "metadata": {},
   "source": [
    "### 12. Edit the Code to Graph the College Attainment Data\n",
    "\n",
    "After reading in the **d_college_country.csv** data, you can edit the graph code you used for the literacy code to graph the college data.\n",
    "\n",
    "Fill in the blanks below to:\n",
    "\n",
    "1. Change the name of the data frame you are coding the bar_color variable in to **d_college_country**.\n",
    "2. Change the x variable you are graphing from literacy to the **college** variable.\n",
    "3. Change the subtitle of the graph to be a translation of the title to the language of your choice. Du Bois translated his graph title to French for his 1900 Paris Exposition audience in France.\n",
    "4. Add your own name for the **Adapted by** line."
   ]
  },
  {
   "cell_type": "markdown",
   "id": "da101ebf-171e-4ad4-a45f-fa18b8409e78",
   "metadata": {},
   "source": [
    "<details> <summary><strong>Hints:</strong></summary>\n",
    "\n",
    "The new dataframe name is ```d_college_country```.\n",
    "    \n",
    "The x variable name for college attainment is ```college```.\n",
    "\n",
    "</details>"
   ]
  },
  {
   "cell_type": "markdown",
   "id": "2992821d-96bb-469b-908b-730aaf1dd4a4",
   "metadata": {},
   "source": [
    "<details> <summary><strong>Answer:</strong></summary>\n",
    "\n",
    "These lines of code should be:\n",
    "\n",
    "```Python\n",
    "bar_colors = [\"red\" if country == \"Black U.S. Residents\" else \"darkgreen\" for country in d_college_country[\"country\"]]\n",
    "\n",
    "# ✅ Create a horizontal bar plot centered in the figure\n",
    "ax.barh(\n",
    "    d_college_country[\"country\"], \n",
    "    d_college_country[\"college\"], \n",
    "```\n",
    "\n",
    "</details>"
   ]
  },
  {
   "cell_type": "code",
   "execution_count": 11,
   "id": "bd3d1846-68e8-4c67-b3f0-90f8dc5fa3e7",
   "metadata": {},
   "outputs": [
    {
     "data": {
      "text/plain": [
       "Text(0.5, 0.9, \"_____________________\\n\\nAdapted by ________from Du Bois' graph of literacy in 1900.\")"
      ]
     },
     "execution_count": 11,
     "metadata": {},
     "output_type": "execute_result"
    },
    {
     "data": {
      "image/png": "[encoded data removed]",
      "text/plain": [
       "<Figure size 792x1008 with 1 Axes>"
      ]
     },
     "metadata": {},
     "output_type": "display_data"
    }
   ],
   "source": [
    "import pandas as pd\n",
    "import matplotlib.pyplot as plt\n",
    "\n",
    "# Load the data\n",
    "url = \"https://raw.githubusercontent.com/HigherEdData/Du-Bois-STEM/refs/heads/main/data/d_college_country.csv\"\n",
    "d_college_country = pd.read_csv(url)\n",
    "\n",
    "# Set up figure size and background color\n",
    "fig, ax = plt.subplots(figsize=(11, 14), facecolor=\"antiquewhite\")\n",
    "\n",
    "bar_colors = [\"red\" if country == \"Black U.S. Residents\" else \"darkgreen\" for country in d_college_country[\"country\"]]\n",
    "\n",
    "# ✅ Create a horizontal bar plot centered in the figure\n",
    "ax.barh(\n",
    "    d_college_country[\"country\"], \n",
    "    d_college_country[\"college\"], \n",
    "    color=bar_colors, \n",
    "    height=0.5  # Adjust bar thickness\n",
    ")\n",
    "\n",
    "# Reverse the order of the y-axis to match ggplot (highest illiteracy at top)\n",
    "ax.invert_yaxis()\n",
    "\n",
    "# Fill in the blank below to set the plot background color to be the same as the overall figure\n",
    "ax.set_facecolor(\"antiquewhite\")\n",
    "\n",
    "# ✅ Make the country labels smaller and use a serif font\n",
    "plt.yticks(fontsize=10, fontname=\"serif\")  \n",
    "\n",
    "# Remove x-axis ticks, labels\n",
    "ax.set_xticks([])\n",
    "ax.set_xlabel(\"\")\n",
    "\n",
    "# Remove small tick marks from the y-axis to match Du Bois\n",
    "ax.tick_params(axis=\"y\", left=False)  \n",
    "\n",
    "# Remove the chart border lines (spines) for a cleaner look\n",
    "for spine in ax.spines.values(): spine.set_visible(False)\n",
    "\n",
    "# ✅ Adjust position of the bar chart to make space for title\n",
    "plt.subplots_adjust(left=0.25, right=0.85, top=0.85, bottom=0.15)\n",
    "\n",
    "# ✅ Place the title in the margin ABOVE the subplot\n",
    "fig.text(\n",
    "    0.5, 0.95, # Position: .5 centers horizontally, .95 places at .85 proportion from the bottom\n",
    "    \"\\n\" # add a line of above the title so it's not to close to top edge\n",
    "    \"College attainment by Black U.S. residents compared with that of other nations.\",\n",
    "    fontsize=14, fontname=\"serif\", weight=\"bold\", ha=\"center\"\n",
    ")\n",
    "\n",
    "# ✅ Fully center the subtitle across the entire figure\n",
    "fig.text(\n",
    "    0.5, 0.9,  # X and Y position (X=0.5 ensures full centering)\n",
    "# 3.fill in the blank below to translate the title in the language of your choice\n",
    "    \"_____________________\"\n",
    "        \"\\n\\n\"\n",
    "# 4. Fill in the blank below to show the graph is adapted by you!\n",
    "    \"Adapted by ________from Du Bois' graph of literacy in 1900.\",\n",
    "    fontsize=12, fontname=\"serif\", ha=\"center\"\n",
    ")"
   ]
  },
  {
   "cell_type": "markdown",
   "id": "0c0fe78b-a43f-496a-be7b-c59a5b6ba230",
   "metadata": {},
   "source": [
    "### 13. Improve Accessibility by Adding X Axis Grid Lines and Changing the Use of Red and Green\n",
    "\n",
    "Some of Du Bois' graphing choices might not make sense for graphs you want to make. \n",
    "For example, Du Bois doesn't provide x-axis tick marks or labels to make it easy to understand what the range of college attainment rates are for the countries.\n",
    "\n",
    "In addition, red and green bars are difficult to differentiate for those with colorblindness. Try removing the line of code below that set the bar colors to red and green. This should change the bar colors back to default orange and teal ggplot colors that are colorblind accessible.\n",
    "\n",
    "To improve accessibility and add your own twist:\n",
    "1. delete the two lines of code that removed the x-axis tick marks and labels.\n",
    "2. change the bar_colors values from red to **orange** and from darkgreen to **blue**.\n",
    "3. Fill in the blanks again to add your translation and name as the adapter of the graph.\n",
    "\n",
    "If you want to customize the chart further to add your own style twist, try a google search or chatGPT query. For a chatGPT query, you could copy and paste the code from below and ask, **how could I change this Python code to change the background color pink?** Or maybe you can figure it out yourself!"
   ]
  },
  {
   "cell_type": "markdown",
   "id": "12a7be60-73bc-47c7-84ba-d4426dea50e8",
   "metadata": {},
   "source": [
    "<details> <summary><strong>Hints:</strong></summary>\n",
    "\n",
    "These are the two lines of code you need to delete:\n",
    "```Python\n",
    "ax.set_xticks([])\n",
    "ax.set_xlabel(\"\")\n",
    "    \n",
    "```\n",
    "  \n",
    "This is the line of code that sets the bar colors:\n",
    "```Python\n",
    "    bar_colors = [\"red\" if country == \"Black U.S. Residents\" else \"darkgreen\" for country in d_college_country[\"country\"]]\n",
    "```\n",
    "    \n",
    "</details>"
   ]
  },
  {
   "cell_type": "code",
   "execution_count": 12,
   "id": "b0326d5b-1b3d-4b7b-aade-8823f42cf180",
   "metadata": {},
   "outputs": [
    {
     "data": {
      "text/plain": [
       "Text(0.5, 0.9, \"_____________________\\n\\nAdapted by ________from Du Bois' graph of literacy in 1900.\")"
      ]
     },
     "execution_count": 12,
     "metadata": {},
     "output_type": "execute_result"
    },
    {
     "data": {
      "image/png": "[encoded data removed]",
      "text/plain": [
       "<Figure size 792x1008 with 1 Axes>"
      ]
     },
     "metadata": {},
     "output_type": "display_data"
    }
   ],
   "source": [
    "import pandas as pd\n",
    "import matplotlib.pyplot as plt\n",
    "\n",
    "# Load the data\n",
    "url = \"https://raw.githubusercontent.com/HigherEdData/Du-Bois-STEM/refs/heads/main/data/d_college_country.csv\"\n",
    "d_college_country = pd.read_csv(url)\n",
    "\n",
    "# Set up figure size and background color\n",
    "fig, ax = plt.subplots(figsize=(11, 14), facecolor=\"pink\")\n",
    "\n",
    "bar_colors = [\"orange\" if country == \"Black U.S. Residents\" else \"blue\" for country in d_college_country[\"country\"]]\n",
    "\n",
    "# ✅ Create a horizontal bar plot centered in the figure\n",
    "ax.barh(\n",
    "    d_college_country[\"country\"], \n",
    "    d_college_country[\"college\"], \n",
    "    color=bar_colors, \n",
    "    height=0.5  # Adjust bar thickness\n",
    ")\n",
    "\n",
    "# Reverse the order of the y-axis to match ggplot (highest illiteracy at top)\n",
    "ax.invert_yaxis()\n",
    "\n",
    "# Fill in the blank below to set the plot background color to be the same as the overall figure\n",
    "ax.set_facecolor(\"pink\")\n",
    "\n",
    "# ✅ Make the country labels smaller and use a serif font\n",
    "plt.yticks(fontsize=10, fontname=\"serif\")  \n",
    "\n",
    "# Remove small tick marks from the y-axis to match Du Bois\n",
    "ax.tick_params(axis=\"y\", left=False)  \n",
    "\n",
    "# Remove the chart border lines (spines) for a cleaner look\n",
    "for spine in ax.spines.values(): spine.set_visible(False)\n",
    "\n",
    "# ✅ Adjust position of the bar chart to make space for title\n",
    "plt.subplots_adjust(left=0.25, right=0.85, top=0.85, bottom=0.15)\n",
    "\n",
    "# ✅ Place the title in the margin ABOVE the subplot\n",
    "fig.text(\n",
    "    0.5, 0.95, # Position: .5 centers horizontally, .95 places at .85 proportion from the bottom\n",
    "    \"\\n\" # add a line of above the title so it's not to close to top edge\n",
    "    \"College attainment by Black U.S. residents compared with that of other nations.\",\n",
    "    fontsize=14, fontname=\"serif\", weight=\"bold\", ha=\"center\"\n",
    ")\n",
    "\n",
    "# ✅ Fully center the subtitle across the entire figure\n",
    "fig.text(\n",
    "    0.5, 0.9,  # X and Y position (X=0.5 ensures full centering)\n",
    "# 3.fill in the blank below to translate the title to the language of your choice\n",
    "    \"_____________________\"\n",
    "        \"\\n\\n\"\n",
    "# 4. Fill in the blank below to show the graph is adapted by you!\n",
    "    \"Adapted by ________from Du Bois' graph of literacy in 1900.\",\n",
    "    fontsize=12, fontname=\"serif\", ha=\"center\"\n",
    ")"
   ]
  },
  {
   "cell_type": "markdown",
   "id": "01da95ae-f9d7-493e-ba0e-1fa763764064",
   "metadata": {},
   "source": [
    "### 14. Export a final HTML file of your Notebook\n",
    "\n",
    "Now that you're done, remember to export a final HTML file showing your work and displaying your name within the visualizations you created.\n",
    "\n",
    "As noted above, you can export the Notebook by clicking the **File** dropdown above, selecting **Export File As** and then selecting **HTML** as shown here:\n",
    "<div>\n",
    "<img src=\"https://github.com/HigherEdData/Du-Bois-STEM/blob/main/readings-images/htmlexport.jpg?raw=true\" width=\"500\" />\n",
    "</div>"
   ]
  },
  {
   "cell_type": "markdown",
   "id": "edc47a2a-6ab9-477c-a9fb-2fb9ce521b5d",
   "metadata": {},
   "source": [
    "# More Resources and References\n",
    "\n",
    "Github Repository for the #DuboisChallenge2024\n",
    "https://github.com/ajstarks/dubois-data-portraits/blob/master/challenge/2024/README.md\n",
    "\n",
    "Du Bois Challenge 2024 Recap\n",
    "https://speakerdeck.com/ajstarks/du-bois-challenge-2024-recap\n",
    "\n",
    "2024 Du Bois Challenge using R Programming.\n",
    "https://medium.com/illumination/2024-du-bois-challenge-using-r-programming-02af8afa5626\n",
    "\n",
    "Developing Du Bois’s Data Portraits with Python and Matplotlib\n",
    "https://www.edriessen.com/2024/02/07/developing-du-boiss-data-portraits-with-python-and-matplotlib/\n",
    "\n",
    "Three Tricks I Learned In The Du Bois Data Visualization Challenge\n",
    "https://nightingaledvs.com/recreating-historical-dataviz-three-tricks-i-learned-in-the-du-bois-data-visualization-challenge/\n",
    "\n",
    "Molly Kuhs Du Bois Challenge repo\n",
    "https://github.com/makuhs/DuboisChallenge\n",
    "\n",
    "#DuBoisChallenge2024 using Python and Matplotlib\n",
    "https://github.com/edriessen/dubois24-python-matplotlib\n",
    "\n",
    "#DuboisChallenge2024 using R\n",
    "https://github.com/sndaba/2024DuBoisChallengeInRstats/tree/main\n",
    "\n",
    "#DuboisChallenge2024 using Tableau\n",
    "https://public.tableau.com/app/profile/camaal.moten7357/vizzes"
   ]
  }
 ],
 "metadata": {
  "kernelspec": {
   "display_name": "Python 3",
   "language": "python",
   "name": "python3"
  },
  "language_info": {
   "codemirror_mode": {
    "name": "ipython",
    "version": 3
   },
   "file_extension": ".py",
   "mimetype": "text/x-python",
   "name": "python",
   "nbconvert_exporter": "python",
   "pygments_lexer": "ipython3",
   "version": "3.8.8"
  }
 },
 "nbformat": 4,
 "nbformat_minor": 5
}
