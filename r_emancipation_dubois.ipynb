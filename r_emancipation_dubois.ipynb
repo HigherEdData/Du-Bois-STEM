{
 "cells": [
  {
   "cell_type": "markdown",
   "id": "95e2a4ab-877f-4ffe-8b35-2ef768b90989",
   "metadata": {},
   "source": [
    "# Visualizing Black Emancipation Over Time"
   ]
  },
  {
   "cell_type": "markdown",
   "id": "7db0fa1d-6474-45b8-912f-415a764273ae",
   "metadata": {},
   "source": [
    "### In this interactive excercise, you will:\n",
    "\n",
    "1. Learn how to create a variation of a **time series line graph** known as a stacked area graph.\n",
    "2. You will do so by learning and modifying code in the *R* programming lanugage.\n",
    "\n",
    "### You will learn how to use R code by creating two graphs:\n",
    "\n",
    "1. You will recreate Du Bois' visualization of Black emancipation that plots ethe free and enslaved status of Black people in the US over time. Du Bois created the visualization in 1900.\n",
    "\n",
    "2. You will reproduce Du Bois' visualization using data on Black educational attainment over time. This aligns with how Du Bois saw mass education as one important strategy for furthering and deepining emancipation for Black Americans and others."
   ]
  },
  {
   "cell_type": "code",
   "execution_count": 2,
   "id": "b2de6db9-07a0-4f30-9db4-9d4c40c43160",
   "metadata": {},
   "outputs": [],
   "source": [
    "#load packages\n",
    "library(ggplot2)\n",
    "library(tidyverse)\n",
    "library(extrafont)"
   ]
  },
  {
   "cell_type": "code",
   "execution_count": 3,
   "id": "1fe39521-40b4-408a-b6ec-f54aee576a49",
   "metadata": {},
   "outputs": [],
   "source": [
    "d_emancipation_dubois <- read.csv(\"d_emancipation_dubois.csv\")"
   ]
  },
  {
   "cell_type": "code",
   "execution_count": 4,
   "id": "1dba5697-4c88-4395-8b43-c8ef534a3f02",
   "metadata": {},
   "outputs": [
    {
     "data": {
      "text/html": [
       "<table class=\"dataframe\">\n",
       "<caption>A data.frame: 18 × 3</caption>\n",
       "<thead>\n",
       "\t<tr><th scope=col>year</th><th scope=col>status</th><th scope=col>percent</th></tr>\n",
       "\t<tr><th scope=col>&lt;int&gt;</th><th scope=col>&lt;chr&gt;</th><th scope=col>&lt;dbl&gt;</th></tr>\n",
       "</thead>\n",
       "<tbody>\n",
       "\t<tr><td>1790</td><td>Slave</td><td> 92.0</td></tr>\n",
       "\t<tr><td>1790</td><td>Free </td><td>  8.0</td></tr>\n",
       "\t<tr><td>1800</td><td>Slave</td><td> 88.0</td></tr>\n",
       "\t<tr><td>1800</td><td>Free </td><td> 11.0</td></tr>\n",
       "\t<tr><td>1810</td><td>Slave</td><td> 86.5</td></tr>\n",
       "\t<tr><td>1810</td><td>Free </td><td> 13.5</td></tr>\n",
       "\t<tr><td>1820</td><td>Slave</td><td> 87.0</td></tr>\n",
       "\t<tr><td>1820</td><td>Free </td><td> 13.0</td></tr>\n",
       "\t<tr><td>1830</td><td>Slave</td><td> 86.0</td></tr>\n",
       "\t<tr><td>1830</td><td>Free </td><td> 14.0</td></tr>\n",
       "\t<tr><td>1840</td><td>Slave</td><td> 87.0</td></tr>\n",
       "\t<tr><td>1840</td><td>Free </td><td> 13.0</td></tr>\n",
       "\t<tr><td>1850</td><td>Slave</td><td> 88.0</td></tr>\n",
       "\t<tr><td>1850</td><td>Free </td><td> 12.0</td></tr>\n",
       "\t<tr><td>1860</td><td>Slave</td><td> 89.0</td></tr>\n",
       "\t<tr><td>1860</td><td>Free </td><td> 11.0</td></tr>\n",
       "\t<tr><td>1870</td><td>Slave</td><td>  0.0</td></tr>\n",
       "\t<tr><td>1870</td><td>Free </td><td>100.0</td></tr>\n",
       "</tbody>\n",
       "</table>\n"
      ],
      "text/latex": [
       "A data.frame: 18 × 3\n",
       "\\begin{tabular}{lll}\n",
       " year & status & percent\\\\\n",
       " <int> & <chr> & <dbl>\\\\\n",
       "\\hline\n",
       "\t 1790 & Slave &  92.0\\\\\n",
       "\t 1790 & Free  &   8.0\\\\\n",
       "\t 1800 & Slave &  88.0\\\\\n",
       "\t 1800 & Free  &  11.0\\\\\n",
       "\t 1810 & Slave &  86.5\\\\\n",
       "\t 1810 & Free  &  13.5\\\\\n",
       "\t 1820 & Slave &  87.0\\\\\n",
       "\t 1820 & Free  &  13.0\\\\\n",
       "\t 1830 & Slave &  86.0\\\\\n",
       "\t 1830 & Free  &  14.0\\\\\n",
       "\t 1840 & Slave &  87.0\\\\\n",
       "\t 1840 & Free  &  13.0\\\\\n",
       "\t 1850 & Slave &  88.0\\\\\n",
       "\t 1850 & Free  &  12.0\\\\\n",
       "\t 1860 & Slave &  89.0\\\\\n",
       "\t 1860 & Free  &  11.0\\\\\n",
       "\t 1870 & Slave &   0.0\\\\\n",
       "\t 1870 & Free  & 100.0\\\\\n",
       "\\end{tabular}\n"
      ],
      "text/markdown": [
       "\n",
       "A data.frame: 18 × 3\n",
       "\n",
       "| year &lt;int&gt; | status &lt;chr&gt; | percent &lt;dbl&gt; |\n",
       "|---|---|---|\n",
       "| 1790 | Slave |  92.0 |\n",
       "| 1790 | Free  |   8.0 |\n",
       "| 1800 | Slave |  88.0 |\n",
       "| 1800 | Free  |  11.0 |\n",
       "| 1810 | Slave |  86.5 |\n",
       "| 1810 | Free  |  13.5 |\n",
       "| 1820 | Slave |  87.0 |\n",
       "| 1820 | Free  |  13.0 |\n",
       "| 1830 | Slave |  86.0 |\n",
       "| 1830 | Free  |  14.0 |\n",
       "| 1840 | Slave |  87.0 |\n",
       "| 1840 | Free  |  13.0 |\n",
       "| 1850 | Slave |  88.0 |\n",
       "| 1850 | Free  |  12.0 |\n",
       "| 1860 | Slave |  89.0 |\n",
       "| 1860 | Free  |  11.0 |\n",
       "| 1870 | Slave |   0.0 |\n",
       "| 1870 | Free  | 100.0 |\n",
       "\n"
      ],
      "text/plain": [
       "   year status percent\n",
       "1  1790 Slave   92.0  \n",
       "2  1790 Free     8.0  \n",
       "3  1800 Slave   88.0  \n",
       "4  1800 Free    11.0  \n",
       "5  1810 Slave   86.5  \n",
       "6  1810 Free    13.5  \n",
       "7  1820 Slave   87.0  \n",
       "8  1820 Free    13.0  \n",
       "9  1830 Slave   86.0  \n",
       "10 1830 Free    14.0  \n",
       "11 1840 Slave   87.0  \n",
       "12 1840 Free    13.0  \n",
       "13 1850 Slave   88.0  \n",
       "14 1850 Free    12.0  \n",
       "15 1860 Slave   89.0  \n",
       "16 1860 Free    11.0  \n",
       "17 1870 Slave    0.0  \n",
       "18 1870 Free   100.0  "
      ]
     },
     "metadata": {},
     "output_type": "display_data"
    }
   ],
   "source": [
    "d_emancipation_dubois"
   ]
  },
  {
   "cell_type": "code",
   "execution_count": null,
   "id": "03a44b8f-be0f-47a2-b290-559f5d635961",
   "metadata": {},
   "outputs": [],
   "source": []
  }
 ],
 "metadata": {
  "kernelspec": {
   "display_name": "R",
   "language": "R",
   "name": "ir"
  },
  "language_info": {
   "codemirror_mode": "r",
   "file_extension": ".r",
   "mimetype": "text/x-r-source",
   "name": "R",
   "pygments_lexer": "r",
   "version": "4.4.1"
  }
 },
 "nbformat": 4,
 "nbformat_minor": 5
}
