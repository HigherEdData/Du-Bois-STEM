{
 "cells": [
  {
   "cell_type": "markdown",
   "id": "95e2a4ab-877f-4ffe-8b35-2ef768b90989",
   "metadata": {},
   "source": [
    "# Visualizing Black Literacy After Emancipation\n",
    "\n",
    "<div>\n",
    "<img src=\"https://github.com/HigherEdData/Du-Bois-STEM/blob/main/readings-images/original-plate-47.jpg?raw=true\" width=\"700\" />\n",
    "</div>"
   ]
  },
  {
   "cell_type": "markdown",
   "id": "7db0fa1d-6474-45b8-912f-415a764273ae",
   "metadata": {},
   "source": [
    "### This interactive exercise is inspired by the annual #DuBoisChallenge\n",
    "\n",
    "The #DuBoisChallenge is a call to scientists, students, and community members to recreate, adapt, and share on social media the data visualzations created by W.E.B. Du Bois and his collaborators in 1900. Before doing the interactive exercise, please read this article about the Du Bois Challenge: https://nightingaledvs.com/the-dubois-challenge/\n",
    "\n",
    "### In this interactive excercise, you will:\n",
    "\n",
    "1. Learn how to create a variation of a **bar graph.**\n",
    "2. Learn and modify code in the statistical programming lanugage **R**.\n",
    "3. Learn how to write statistical code to:\n",
    "    * create visualizations that consistently and accurately represent your data\n",
    "    * create a transparent record of exactly how you visualized something\n",
    "    * make it easy for you or others to recreate or modify your visualization\n",
    "4. Your instructor may also ask you answer questions and submit screenshots as you go in a parallel **Catcourses** (or other Canvas system) as you go. \n",
    "\n",
    "### You will learn how to use the *R* statistical programming language by creating two graphs:\n",
    "\n",
    "1. You will recreate Du Bois' visualization of Black illiteracy rates in the US compared to illiteracy rates in other countries. Du Bois created the visualization in 1900.\n",
    "\n",
    "2. You will reproduce Du Bois' visualization using data on Black illiteracy in the US today. This aligns with how Du Bois saw mass education as one important strategy for furthering and deepining emancipation for Black Americans and others.\n",
    "\n",
    "3. An important context of Du Bois's graph of Black illiteracy is that literacy was illegal for enslaved people in the U.S. until emancipation and the Confederacy's defeat during the Civil War.  illiteracy then declined rapidly as Black Americans sought to empower themselves through education. Du Bois plotted this decline in illiteracty with the following graph:\n",
    "\n",
    "<div>\n",
    "<img src=\"https://github.com/ajstarks/dubois-data-portraits/blob/master/plate14/original-plate-14.jpg?raw=true\" width=\"700\" />\n",
    "</div>"
   ]
  },
  {
   "cell_type": "markdown",
   "id": "3b4ef76f-21c7-4041-b31f-6f26f700d725",
   "metadata": {},
   "source": [
    "### 1. How to use this interactive **Jupyter Notebook**\n",
    "\n",
    "If you know how to use R on your own computer with R Studio you can copy, paste, and edit code in R Studio to to the exercise. If you have Jupyter Lab, you can also download this Notebook to use it on your own computer. You can download the Notebook or view a non-interactive version of this Notebook by clicking **[here](https://github.com/HigherEdData/Du-Bois-STEM/blob/main/r_literacy_dubois.ipynb)**.\n",
    "\n",
    "Grey cells in the *Notebook* like the one below are **code cells** where you will write and edit **R** Code. To try it out:\n",
    "\n",
    "1. Click your cursor on the grey cell below. After you click on it, it will change to white to indicate you are editing it.\n",
    "2. After you clickg on the cell below and it turns white. Type ```2+2``` to use R as a calculator.\n",
    "3. After typing ```2+2```, click the <span class=\"play-button\">&#9654;</span> *play button* at the top of this page."
   ]
  },
  {
   "cell_type": "code",
   "execution_count": null,
   "id": "db008b5d-d52c-48a6-81d1-7ccade1e292c",
   "metadata": {},
   "outputs": [],
   "source": []
  },
  {
   "cell_type": "markdown",
   "id": "32bb4241-9ce1-4c00-9203-495a9bfc816b",
   "metadata": {},
   "source": [
    "### 2. Keeping track of your work and using R outside of this notebook.\n",
    "\n",
    "If you leave this Notebook idle or close and and re-open it, you're work will not be saved in the Notebook. But you can export an HTML file showing your work at any time. You can then open and browse the HTML file in any web browser.\n",
    "\n",
    "And after completing the Notebook exercises, you can export a final HTML file to submit for any course assignments using this Notebook.\n",
    "\n",
    "To export the Notebook, click the **File** dropdown above, select **Export File As** and then select **HTML** as shown here:\n",
    "\n",
    "<div>\n",
    "<img src=\"https://github.com/HigherEdData/Du-Bois-STEM/blob/main/readings-images/htmlexport.jpg?raw=true\" width=\"500\" />\n",
    "</div>"
   ]
  },
  {
   "cell_type": "markdown",
   "id": "bf244fcc-30d0-494a-a983-395db2efddd2",
   "metadata": {},
   "source": [
    "### 3. Getting hints and answers.\n",
    "\n",
    "Sometimes, the code cells will already have code in them that you will be asked to edit or run by clicking the play button. In the process, you can click on <span class=\"play-button\">&#9654;</span> dropdown buttons like the ones below to get hints and answers. For example:\n",
    "1. Click on the cell below with ```3+3=``` and click the play triangle above. You should get an error message highlighted in pink the begins \"Error in parse...\". To complete this activity, you'll want to get each code cell to run without a pink error message.\n",
    "2. Based on the ```2+2``` code you tried above, try to edit the ```3+3=``` code to get it to report the sum of 3+3 without the error message. For a hint, click the first <span class=\"play-button\">&#9654;</span> button below."
   ]
  },
  {
   "cell_type": "markdown",
   "id": "b9b777af-a88e-4787-b987-3f002f878fe7",
   "metadata": {},
   "source": [
    "<details> <summary>Click this triangle for a hint.</summary>\n",
    "\n",
    "Try deleting the ```=``` sign in the cell and click play again. If that doesn't work, click the next triangle below for the answer.\n",
    "\n",
    "</details>"
   ]
  },
  {
   "cell_type": "markdown",
   "id": "a126938f-c290-4344-bd68-c2cfbee6f4a9",
   "metadata": {},
   "source": [
    "<details> <summary>Click this triangle for the answer.</summary>\n",
    "\n",
    "**Answer:** Delete all the text in the cell below and write or paste this answer in the cell: ```3+3``` before clicking play again.\n",
    "\n",
    "</details>"
   ]
  },
  {
   "cell_type": "code",
   "execution_count": null,
   "id": "cec5df4b-2de5-48e0-aa33-d27425f6f389",
   "metadata": {},
   "outputs": [],
   "source": [
    "3+3 ="
   ]
  },
  {
   "cell_type": "markdown",
   "id": "2c393712-1116-41de-8348-00afb6db13bc",
   "metadata": {},
   "source": [
    "### 4. Reading and writing comments that explain your code\n",
    "\n",
    "In code cells, we can write **comment** text that explains our code. We put a ```# ``` before **comment** text to tell R that the text is not code it should execute. Any text after a ```# ``` on a given line will be treated as a comment. In Jupyter, **comment** text after a ```# ``` will be displayed in a dark turquois color. To see how this works, try the following below:\n",
    "\n",
    "1. Try to run the code below. You should get an error message because the comment text ```This is code that adds 2+2``` is not R code and doesn't have a ```# ``` sign in front of it.\n",
    "2. Add a ```# ``` sign before ```This is code that adds 2+2```. This should change the color of the text to turquois like the text after the ```2+2``` where there is already a ```# ``` sign.\n",
    "3. Click the <span class=\"play-button\">&#9654;</span> at the top of the notebook and the code should run and output **4** below."
   ]
  },
  {
   "cell_type": "code",
   "execution_count": null,
   "id": "c14cc970-3251-4dd2-80a0-8eceadcd51f2",
   "metadata": {},
   "outputs": [],
   "source": [
    "This is code that adds 2+2\n",
    "\n",
    "2+2 # the result of 2 +2 should be 4"
   ]
  },
  {
   "cell_type": "markdown",
   "id": "942f888e-a0d3-44f6-b4d5-8b23f2f5cb3e",
   "metadata": {},
   "source": [
    "### 5. Reading Du Bois' data into an R Data Frame\n",
    "\n",
    "The first step for data visualization in **R** is to **read** data into an R **dataframe**. This is like double clicking a file to open it in other computer programs. But with **R**, we use code.\n",
    "\n",
    "For this exercise, we're going to read in data from a website. And we're going to place the data into a dataframe named **d_literacy_country**.\n",
    "\n",
    "The **R** code to do this uses an <- arrow pointed at the name of the data frame and a *read.csv* **function** command followed by the web address within paraentheses where a **csv (comma separated values)** data file is located. It looks like this: \n",
    "\n",
    "```d_literacy_country <- read.csv(web_address_with_data/data_file_name.csv\")```\n",
    "\n",
    "After writing this code, we can write the name of the **data frame** ```d_literacy_country``` again on a separate line. This will list all of the data in the data frame.\n",
    "\n",
    "To do this yourself, replace the ```____``` portion of the code below to add the ```read``` function and then press the <span class=\"play-button\">&#9654;</span> above."
   ]
  },
  {
   "cell_type": "code",
   "execution_count": null,
   "id": "1fe39521-40b4-408a-b6ec-f54aee576a49",
   "metadata": {},
   "outputs": [],
   "source": [
    "d_literacy_country <- _____.csv(\"https://raw.githubusercontent.com/HigherEdData/Du-Bois-STEM/refs/heads/main/data/d_literacy_country.csv\")\n",
    "\n",
    "d_literacy_country"
   ]
  },
  {
   "cell_type": "markdown",
   "id": "9242e6e1-8ad1-4a6a-8b31-7e35066419dc",
   "metadata": {},
   "source": [
    "### 6. Creating a Bar Graph\n",
    "\n",
    "After successfully listing the data above, you should be able to see that it has data in two columns. Each column is a **variable**:\n",
    "* **country** is a country name for 10 countries with Black people in the U.S. treated as a country.\n",
    "* **illiteracy** containts percent of people in each country who are illiterate.\n",
    "\n",
    "As a first step, we will create a **bar graph** of the data using the shortest code possible. The code will:\n",
    "1. repeat the code below that we wrote above to **read in** the Du Bois illiteracy data.\n",
    "2. add a line of code to load the **ggplot2** package of functions into our Library that we will use to generate our graph: ```library(ggplot2)```\n",
    "3. Add a line of code to tell Jupyter and R that we want the width and height of the graph to have the same ratio that Du Bois used, 22 inches wide by 28 inches tall, with each divided by 2 so that it doesn't display too big: ```options(repr.plot.width=22/3, repr.plot.height=28/3)```\n",
    "4. Finally, we add a **ggplot** function followed by open parenthese to tell R that we will plot data from the d_literacy_country data frame with an \"aesthetic mapping\" **aes** specification that maps one column of data on the **x axis** and another column of data on the **y axis**.\n",
    "5. After the close parentheses that tells ggplot we want to plot ```d_emancipation_dubois``` data with one variable on the x axis, and another on the y axis, we add a + and then a new line of code ```geom_col()``` that tells ggplot we want a bar graph based on summary statistics in the dataframe.\n",
    "6. After looking at Du Bois' version of the graph above, replace the ```_____``` characters in the code cell below to plot the correct variable on the x-axis and the correct variable on the y-axis."
   ]
  },
  {
   "cell_type": "markdown",
   "id": "930a05b9-7850-4831-998a-d3ebdf3ce22c",
   "metadata": {},
   "source": [
    "<details> <summary><strong>Hint:</strong></summary>\n",
    "\n",
    "Du Bois plotted ```illiteracy``` on the x-axis and ```country``` name on the y-axis.\n",
    "\n",
    "</details>"
   ]
  },
  {
   "cell_type": "markdown",
   "id": "9712f501-6701-4dfa-8019-949b288752b7",
   "metadata": {},
   "source": [
    "<details> <summary><strong>Answer:</strong></summary>\n",
    "\n",
    "the 4th lines of code from the bottom should be: ```x = illiteracy,```  \n",
    "\n",
    "the 3rd line of code from the bottom should be ```y = country)) + ```\n",
    "\n",
    "</details>"
   ]
  },
  {
   "cell_type": "code",
   "execution_count": null,
   "id": "77956165-5646-4ca7-869e-57b52c9cc022",
   "metadata": {},
   "outputs": [],
   "source": [
    "# Read in the data from a CSV file into a dataframe called d_literacy_country\n",
    "d_literacy_country <- read.csv(\"https://raw.githubusercontent.com/HigherEdData/Du-Bois-STEM/refs/heads/main/data/d_literacy_country.csv\")\n",
    "\n",
    "# Load the ggplot2 package for creating visualizations\n",
    "library(ggplot2)\n",
    "\n",
    "# Set the dimensions of the plot output (width and height in inches)\n",
    "options(repr.plot.width = 22/2, repr.plot.height = 28/2)\n",
    "\n",
    "# Source a custom ggplot theme from a remote URL to style the plot (theme_dubois)\n",
    "source(\"https://raw.githubusercontent.com/HigherEdData/Du-Bois-STEM/refs/heads/main/theme_dubois.R\")\n",
    "\n",
    "# Begin the ggplot call with the data and aesthetic mappings\n",
    "ggplot(d_literacy_country, aes(\n",
    "    x = _________,  # replace ________ with the variable name that Du Bois plots on the x-axis\n",
    "    y = _________)) + # replace ________ with the variable name that Du Bois plots on the x-axis\n",
    "    # graph a bar chart based on the x and y mappings above\n",
    "    geom_col() "
   ]
  },
  {
   "cell_type": "markdown",
   "id": "6c8972fd-7ab5-46b8-8bcc-deeac56a2259",
   "metadata": {},
   "source": [
    "### 7. Ordering the Bars and Making the Bar for Black Americans a Different Color\n",
    "\n",
    "In the bar graph you created above, can you tell what order the bars for each country are sorted by?\n",
    "\n",
    "Du Bois sorts the bar for each country by its illiteracy rate from highest to lowest.\n",
    "\n",
    "Du Bois also graphs the illiteracy rate for Black Americans in a different color to make it easier to compare to other countries.\n",
    "\n",
    "To make these changes in your own graph, edit the code below to:\n",
    "1. Fill in the blank in the ```y = reorder(country, _________),``` line of code with the variable name for the illiteracy rate. This will change the sorting of the bars.\n",
    "2. Fill in the blank in the ```fill = country == \"__________\"``` line of code with the \"Negroes, U.S.A.\" text that Du Bois uses for the Black U.S. resident category."
   ]
  },
  {
   "cell_type": "markdown",
   "id": "999bfb94-96e4-455d-8247-a0f9f181558a",
   "metadata": {},
   "source": [
    "<details> <summary><strong>Hints:</strong></summary>\n",
    "\n",
    "```illiteracy``` is the name of the illiteracy variable for the reorder code.\n",
    "    \n",
    "Make sure you have quotation marks when you write \"Negroes, U.S.A.\" on the fill line of code. \n",
    "\n",
    "</details>"
   ]
  },
  {
   "cell_type": "markdown",
   "id": "8fd3f73f-691b-4380-8c8d-392f752bb8e6",
   "metadata": {},
   "source": [
    "<details> <summary><strong>Answer:</strong></summary>\n",
    "\n",
    "Use copy and paste to change your bottom 4 lines of code to be:\n",
    "\n",
    "```r\n",
    "y = reorder(country, illiteracy),\n",
    "# Then, you can tell R which country to fill with a different color by specifying the country name\n",
    "fill = country == \"Negroes, U.S.A.\"\n",
    ")) +\n",
    "geom_col()\n",
    "```\n",
    "\n",
    "</details>"
   ]
  },
  {
   "cell_type": "code",
   "execution_count": null,
   "id": "b5d98d2a-6795-41d1-bc71-1a3f364d00c5",
   "metadata": {},
   "outputs": [],
   "source": [
    "d_literacy_country <- read.csv(\"https://raw.githubusercontent.com/HigherEdData/Du-Bois-STEM/refs/heads/main/data/d_literacy_country.csv\")\n",
    "library(ggplot2)\n",
    "options(repr.plot.width=22/2, repr.plot.height=28/2)\n",
    "source(\"https://raw.githubusercontent.com/HigherEdData/Du-Bois-STEM/refs/heads/main/theme_dubois.R\")\n",
    "\n",
    "\n",
    "ggplot(d_literacy_country, aes(\n",
    "    x = illiteracy,\n",
    "# above is code you've already written for problems 1 through 5 above\n",
    "    \n",
    "# 1. fill in _______ with the correct variable name below to reorder by country \n",
    "    y = reorder(country, _________),\n",
    "# 2. tell R which country to fill with a different color by filling in ________ with the country name\n",
    "    fill = country == \"__________\"\n",
    ")) +\n",
    "    geom_col()"
   ]
  },
  {
   "cell_type": "markdown",
   "id": "d05935ab-5530-400b-a78b-1bca960ddf2e",
   "metadata": {},
   "source": [
    "### 8. Edit the bar width and use a **\"Du Bois Theme\"** to make colors and text similar to Du Bois' style\n",
    "\n",
    "Your code edits from #6. above added colors to the bars, but not the same colors used by Du Bois.\n",
    "\n",
    "And the bar width, background color, legend, and other default ggplot elements are different than those employed by Du Bois.\n",
    "\n",
    "Edit the code below to:\n",
    "1. Fill in the blank where we added a width specification to the ```geom_col()``` bar graph command. Try .1 and .9. Then see if if some value in between gives you a bar width close to Du Bois.\n",
    "2. Add a plus sign after the ```geom_col(width = ____)``` line of code to tell R you are adding another line of code and the end of your R code cell.\n",
    "3. Add the code ```theme_dubois()``` on a new line after your plus sign. This will apply several Du Bois style options like an \"antique white\" background color and minimal text in labeling axes. You can see all of these R theme options in the \"theme_dubois.R\" theme file here: https://github.com/HigherEdData/Du-Bois-STEM/blob/main/theme_dubois.R"
   ]
  },
  {
   "cell_type": "markdown",
   "id": "41d0dfb5-2432-4722-aa87-8140ee7fd21f",
   "metadata": {},
   "source": [
    "<details> <summary><strong>Hints:</strong></summary>\n",
    "\n",
    "```geom_col(width = .1) ``` will create a very thin line. Try a higher width amount to get a bar closer to Du Bois.\n",
    "    \n",
    "The Du Bois theme command is ```theme_dubois()```\n",
    "\n",
    "</details>"
   ]
  },
  {
   "cell_type": "markdown",
   "id": "a052f8f1-9dc4-435f-86cd-00b22dd834b3",
   "metadata": {},
   "source": [
    "<details> <summary><strong>Answer:</strong></summary>\n",
    "\n",
    "Use copy and paste to change the bottom 2 lines of code to be:\n",
    "\n",
    "```R\n",
    "    geom_col(width = .5) +\n",
    "    theme_dubois()\n",
    "```\n",
    "\n",
    "</details>"
   ]
  },
  {
   "cell_type": "code",
   "execution_count": null,
   "id": "4f0282d6-1af9-478a-96c3-f1958672e7e6",
   "metadata": {},
   "outputs": [],
   "source": [
    "d_literacy_country <- read.csv(\"https://raw.githubusercontent.com/HigherEdData/Du-Bois-STEM/refs/heads/main/data/d_literacy_country.csv\")\n",
    "library(ggplot2)\n",
    "options(repr.plot.width=22/2, repr.plot.height=28/2)\n",
    "source(\"https://raw.githubusercontent.com/HigherEdData/Du-Bois-STEM/refs/heads/main/theme_dubois.R\")\n",
    "\n",
    "ggplot(d_literacy_country, aes(\n",
    "    x = illiteracy,\n",
    "    y = reorder(country, illiteracy),\n",
    "    fill = country == \"Negroes, U.S.A.\"\n",
    ")) +\n",
    "# above is code you've already written for problems 1 through 6 above\n",
    "\n",
    "# for this problem, do the following:\n",
    "# 1. fill in the ____ below to adjust the bar widths to be more similar to Du Bois'. \n",
    "    geom_col(width = ____) \n",
    "# 2. add a plus sign above this comment to add a new line of code.\n",
    "# Then write the code to add the Du Bois theme on a new line.\n",
    "    "
   ]
  },
  {
   "cell_type": "markdown",
   "id": "42bfb151-5d4d-4180-a358-bde0702b4970",
   "metadata": {},
   "source": [
    "### 9. Change the Text Font and the Bar Color\n",
    "\n",
    "Adding the Du Bois theme in problem 7 changed the background color, but it didn't change the bar colors. To change the bar colors:\n",
    "\n",
    "1. fill in the blanks for the scale_fill_manual function of ggplot below to set the colors of the bars as **red** or **darkgreen** based on whether it is true or false that a given country category is \"Negroes, U.S.A.\".\n",
    "2. fill the blank of the element_text function with the fontname **serif** to change the Du Bois theme's font for the graph to a **serif** font."
   ]
  },
  {
   "cell_type": "markdown",
   "id": "442dd6ab-65f4-4eec-b41a-53188f0ded2b",
   "metadata": {},
   "source": [
    "<details> <summary><strong>Hints:</strong></summary>\n",
    "\n",
    "In Du Bois' graph, the bar is **red** when it is TRUE that the country name is **Negroes, U.S.A**. All of the bars are **darkgreen** when this is FALSE.\n",
    "\n",
    "</details>"
   ]
  },
  {
   "cell_type": "markdown",
   "id": "9c46ac71-1f2e-4cae-b52c-08291edd8ae0",
   "metadata": {},
   "source": [
    "<details> <summary><strong>Answer:</strong></summary>\n",
    "\n",
    "Use copy and paste to change the bottom 2 lines of code to be:\n",
    "\n",
    "```R\n",
    "    scale_fill_manual(values = c(\"TRUE\" = \"red\", \"FALSE\" = \"darkgreen\")) +\n",
    "# 2. change the themes's font by filling in the blank\n",
    "    theme(text = element_text('serif')) \n",
    "```\n",
    "\n",
    "</details>"
   ]
  },
  {
   "cell_type": "code",
   "execution_count": null,
   "id": "9c34a0d5-4a25-47e0-a507-f45691c8c37d",
   "metadata": {},
   "outputs": [],
   "source": [
    "d_literacy_country <- read.csv(\"https://raw.githubusercontent.com/HigherEdData/Du-Bois-STEM/refs/heads/main/data/d_literacy_country.csv\")\n",
    "library(ggplot2)\n",
    "options(repr.plot.width=22/2, repr.plot.height=28/2)\n",
    "source(\"https://raw.githubusercontent.com/HigherEdData/Du-Bois-STEM/refs/heads/main/theme_dubois.R\")\n",
    "\n",
    "ggplot(d_literacy_country, aes(\n",
    "    x = illiteracy,\n",
    "    y = reorder(country, illiteracy),\n",
    "    fill = country == \"Negroes, U.S.A.\" # this is the fill statement\n",
    ")) +\n",
    "    geom_col(width = .5) +\n",
    "    theme_dubois() +\n",
    "# above is code you've already written for problems 1 through 7 above\n",
    "\n",
    "# 1. fill in the blank for which color the bar should be when the fill statement is true or false is TRUE\n",
    "    scale_fill_manual(values = c(\"TRUE\" = \"___\", \"FALSE\" = \"_______\")) +\n",
    "# 2. change the themes's font by filling in the blank\n",
    "    theme(text = element_text('______')) "
   ]
  },
  {
   "cell_type": "markdown",
   "id": "c404f6a9-952a-4684-8c0d-f97c0a8e11f0",
   "metadata": {},
   "source": [
    "### 10. Add the Titles and Subtitles with Your Own Name\n",
    "\n",
    "To add titles and subtitles to the graph, we use the **labs** function for ggplot (short for labels). We use the title and subtitle specifications with **labs**.\n",
    "\n",
    "The title text needs to be enclosed in quotation marks. We use the code ```\\n``` to tell R to put a \"new line\" break at different places in the title based on Du Bois' titling.\n",
    "\n",
    "Fill in the blank with your name in the title code below to show that the graph was recreated by you!"
   ]
  },
  {
   "cell_type": "markdown",
   "id": "5c16f7f5-4f14-4fcc-95b4-2402f234bba1",
   "metadata": {},
   "source": [
    "<details> <summary><strong>Hints:</strong></summary>\n",
    "\n",
    "Make sure that you keep the titles within quotation marks. The text should display in <span style=\"color: red;\">red</span> when the code is within quotation marks.\n",
    "\n",
    "</details>"
   ]
  },
  {
   "cell_type": "code",
   "execution_count": null,
   "id": "23bcc228-b8e9-4b96-a6b8-8af1adcd27de",
   "metadata": {},
   "outputs": [],
   "source": [
    "d_literacy_country <- read.csv(\"https://raw.githubusercontent.com/HigherEdData/Du-Bois-STEM/refs/heads/main/data/d_literacy_country.csv\")\n",
    "library(ggplot2)\n",
    "options(repr.plot.width=22/2, repr.plot.height=28/2)\n",
    "source(\"https://raw.githubusercontent.com/HigherEdData/Du-Bois-STEM/refs/heads/main/theme_dubois.R\")\n",
    "\n",
    "ggplot(d_literacy_country, aes(\n",
    "    x = illiteracy,\n",
    "    y = reorder(country, illiteracy),\n",
    "    fill = country == \"Negroes, U.S.A.\" # this is the fill statement\n",
    ")) +\n",
    "    geom_col(width = .5) +\n",
    "    theme_dubois() +\n",
    "    scale_fill_manual(values = c(\"TRUE\" = \"red\", \"FALSE\" = \"darkgreen\")) +\n",
    "           theme(text = element_text('serif')) +\n",
    "# above is code you've already written for problems 1 through 8 above\n",
    "\n",
    "# Fill in the blank below with your name to show that the graph was recreated by you!\n",
    "    labs(\n",
    "        title = \"\\nIlliteracy of the American Negroes compared with that of other nations.\\n\",\n",
    "        subtitle = \"Proportion d' illettrés parmi les Nègres Americains comparée à celle des autres nations.\\n\\n\n",
    "        Done by Atlanta University.\\n\\n\n",
    "        Recreated by ________\\n\\n\"\n",
    "    )"
   ]
  },
  {
   "cell_type": "markdown",
   "id": "d04104c9-3260-45ac-a8b7-da932af00f6b",
   "metadata": {},
   "source": [
    "### 11. Change the Data to Read in and Display College Degree Holding By Country\n",
    "\n",
    "Now that you've written code to graph Du Bois' literacy data, you can use that same code to make bar graphs of other data in the same style.\n",
    "\n",
    "To see how this works, fill in the blank below to read in our **d_college_country.csv** dataset of college degree attainment rates today by country.\n",
    "\n",
    "Then the line of code **d_college_country** will display all of the country names and college attainment rates in the **d_college_country** dataframe.\n",
    "\n",
    "We obtained this data for the same countries that Du Bois graphed literacy in 1900.\n",
    "\n",
    "We obtained the country level data from the most recent data reported by the OECD here: https://www.oecd.org/en/topics/sub-issues/education-attainment.html\n",
    "\n",
    "We obtained the Black college attainment rate data for the U.S. from: https://www.luminafoundation.org/stronger-nation/report/#/progress/racial_equity"
   ]
  },
  {
   "cell_type": "markdown",
   "id": "4963d252-29c0-4efc-bdbd-e718e5ef4beb",
   "metadata": {},
   "source": [
    "<details> <summary><strong>Hints:</strong></summary>\n",
    "\n",
    "Make sure that you include our **d_** prefix in the filename and the dataframe name along with .csv at the end of the file name.\n",
    "\n",
    "</details>"
   ]
  },
  {
   "cell_type": "markdown",
   "id": "83833ad5-f575-414a-b730-f32db62724a7",
   "metadata": {},
   "source": [
    "<details> <summary><strong>Answer:</strong></summary>\n",
    "\n",
    "The first line of code should be:\n",
    "    \n",
    "```d_college_country<- read.csv(\"https://raw.githubusercontent.com/HigherEdData/Du-Bois-STEM/refs/heads/main/data/d_college_country.csv\") ```\n",
    "\n",
    "</details>"
   ]
  },
  {
   "cell_type": "code",
   "execution_count": null,
   "id": "27eb4d9c-779b-437c-831d-3a753871db7b",
   "metadata": {},
   "outputs": [],
   "source": [
    "_____________<- read.csv(\"https://raw.githubusercontent.com/HigherEdData/Du-Bois-STEM/refs/heads/main/data/d_college_country.csv\")\n",
    "\n",
    "d_college_country"
   ]
  },
  {
   "cell_type": "markdown",
   "id": "d157370d-36b6-4efd-8f29-a7c513e486fb",
   "metadata": {},
   "source": [
    "### 12. Edit the Code to Graph the College Attainment Data\n",
    "\n",
    "After reading in the **d_college_country.csv** data, you can edit the graph code you used for the literacy code to graph the college data.\n",
    "\n",
    "Fill in the blanks below to:\n",
    "\n",
    "1. Change the name of the data frame you are graphing with ggplot to the **d_college_country** data frame.\n",
    "2. Change the x variable you are graphing from literacy to the **college** variable.\n",
    "3. Change the subtitle of the graph to be a translation of the title to the language of your choice. Du Bois translated his graph title to French for his 1900 Paris Exposition audience in France.\n",
    "4. Add your own name for the **Adapted by** line."
   ]
  },
  {
   "cell_type": "markdown",
   "id": "da101ebf-171e-4ad4-a45f-fa18b8409e78",
   "metadata": {},
   "source": [
    "<details> <summary><strong>Hints:</strong></summary>\n",
    "\n",
    "The new dataframe name is ```d_college_country```.\n",
    "    \n",
    "The x variable name for college attainment is ```college```.\n",
    "\n",
    "</details>"
   ]
  },
  {
   "cell_type": "markdown",
   "id": "2992821d-96bb-469b-908b-730aaf1dd4a4",
   "metadata": {},
   "source": [
    "<details> <summary><strong>Answer:</strong></summary>\n",
    "\n",
    "The code in the middle of the code cell should be:\n",
    "\n",
    "```R\n",
    "    ggplot(d_literacy_country, aes(\n",
    "# 2. fill in the blank to graph the college variable\n",
    "    x = d_literacy_country\n",
    "```\n",
    "\n",
    "</details>"
   ]
  },
  {
   "cell_type": "code",
   "execution_count": null,
   "id": "ab359b1f-5827-4022-8bdd-e2ef45760170",
   "metadata": {},
   "outputs": [],
   "source": [
    "d_college_country<- read.csv(\"https://raw.githubusercontent.com/HigherEdData/Du-Bois-STEM/refs/heads/main/data/d_college_country.csv\")\n",
    "library(ggplot2)\n",
    "options(repr.plot.width=22/2, repr.plot.height=28/2)\n",
    "source(\"https://raw.githubusercontent.com/HigherEdData/Du-Bois-STEM/refs/heads/main/theme_dubois.R\")\n",
    "# abvoe is code you learned in Problem 10 for setting up R with the college data\n",
    "\n",
    "# 1. fill in the blank to change the dataframe you are plotting\n",
    "ggplot(____________, aes(\n",
    "# 2. fill in the blank to graph the college variable\n",
    "    x = _________,\n",
    "    y = reorder(country, college),\n",
    "    fill = country == \"Black U.S. Residents\" # this is the fill statement\n",
    ")) +\n",
    "    geom_col(width = .5) +\n",
    "    theme_dubois() +\n",
    "       theme(text = element_text('serif')) +\n",
    "    scale_fill_manual(values = c(\"TRUE\" = \"red\", \"FALSE\" = \"darkgreen\")) +\n",
    "    labs(\n",
    "        title = \"\\nCollege attainment by Black U.S. residents compared with that of other nations.\\n\",\n",
    "# 3.fill in the blank below to translate the title in the language of your choice\n",
    "        subtitle = \"_____________________\\n\\n\n",
    "        Adapted by ________from Du Bois' graph of literacy in 1900.\\n\\n\"\n",
    "# 4. Fill in the blank above to show the graph is adapted by you!\n",
    "    )"
   ]
  },
  {
   "cell_type": "markdown",
   "id": "0c0fe78b-a43f-496a-be7b-c59a5b6ba230",
   "metadata": {},
   "source": [
    "### 13. Edit the Code to Add X Axis Grid Lines and a Style Change of Your Choice!\n",
    "\n",
    "Some of Du Bois' style choices might not make sense for graphs you want to make. For example, Du Bois doesn't provide labels or grid lines to make it easy to understand what the exact college attainment rate is for each country.\n",
    "\n",
    "You might also want to embed a photo in the graph or use different colors or sizing. Below we've added code to add grid lines with labels.\n",
    "\n",
    "Use a google search or ask ChatGPT for help figure out how to add at least one line of R code below that changes the graph in any way you like.\n",
    "\n",
    "For a google search, you could write something like, **how to change font color in ggplot to pink?**\n",
    "\n",
    "For a chatGPT query, you could copy and paste the code from below and ask, **how could I change this R ggplot code to change the font color to pink**"
   ]
  },
  {
   "cell_type": "code",
   "execution_count": null,
   "id": "b0326d5b-1b3d-4b7b-aade-8823f42cf180",
   "metadata": {},
   "outputs": [],
   "source": [
    "d_college_country<- read.csv(\"https://raw.githubusercontent.com/HigherEdData/Du-Bois-STEM/refs/heads/main/data/d_college_country.csv\")\n",
    "library(ggplot2)\n",
    "options(repr.plot.width=22/2, repr.plot.height=28/2)\n",
    "source(\"https://raw.githubusercontent.com/HigherEdData/Du-Bois-STEM/refs/heads/main/theme_dubois.R\")\n",
    "\n",
    "ggplot(d_college_country, aes(\n",
    "    x = college,\n",
    "    y = reorder(country, college),\n",
    "    fill = country == \"Black U.S. Residents\" # this is the fill statement\n",
    ")) +\n",
    "    geom_col(width = .5) +\n",
    "    theme_dubois() +\n",
    "       theme(text = element_text('serif')) +\n",
    "    scale_fill_manual(values = c(\"TRUE\" = \"red\", \"FALSE\" = \"darkgreen\")) +\n",
    "    labs(\n",
    "        title = \"\\nCollege attainment by Black U.S. residents compared with that of other nations.\\n\",\n",
    "        subtitle = \"_____________________\\n\\n\n",
    "        Adapted by ________from Du Bois' graph of literacy in 1900.\\n\\n\"\n",
    "    ) +\n",
    "# Above is code you wrote for Problem 12. Below is code to add grid lines with labels\n",
    "scale_x_continuous(\n",
    "        breaks = seq(0, 60, by = 10),  # Set tick positions every 10 units\n",
    "        labels = function(x) paste0(x, \"%\")  # Add a \"%\" symbol to each label\n",
    "    ) +\n",
    "    theme(\n",
    "        axis.text.x = element_text(size = 12),\n",
    "        panel.grid.major.x = element_line(color = \"lightgray\")\n",
    "        ) +\n",
    "# Add your own line of code below to make your own style change to the graph"
   ]
  },
  {
   "cell_type": "markdown",
   "id": "01da95ae-f9d7-493e-ba0e-1fa763764064",
   "metadata": {},
   "source": [
    "### 14. Export a final HTML file of your Notebook\n",
    "\n",
    "Now that you're done, remember to export a final HTML file showing your work and displaying your name within the visualizations you created.\n",
    "\n",
    "As noted above, you can export the Notebook by clicking the **File** dropdown above, selecting **Export File As** and then selecting **HTML** as shown here:\n",
    "<div>\n",
    "<img src=\"https://github.com/HigherEdData/Du-Bois-STEM/blob/main/readings-images/htmlexport.jpg?raw=true\" width=\"500\" />\n",
    "</div>"
   ]
  },
  {
   "cell_type": "code",
   "execution_count": null,
   "id": "9ca85f7c-4c74-4288-b74a-de45177943a3",
   "metadata": {},
   "outputs": [],
   "source": []
  }
 ],
 "metadata": {
  "kernelspec": {
   "display_name": "R",
   "language": "R",
   "name": "ir"
  },
  "language_info": {
   "codemirror_mode": "r",
   "file_extension": ".r",
   "mimetype": "text/x-r-source",
   "name": "R",
   "pygments_lexer": "r",
   "version": "4.4.1"
  }
 },
 "nbformat": 4,
 "nbformat_minor": 5
}
